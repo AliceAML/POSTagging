{
 "metadata": {
  "language_info": {
   "codemirror_mode": {
    "name": "ipython",
    "version": 3
   },
   "file_extension": ".py",
   "mimetype": "text/x-python",
   "name": "python",
   "nbconvert_exporter": "python",
   "pygments_lexer": "ipython3",
   "version": 3
  },
  "orig_nbformat": 2
 },
 "nbformat": 4,
 "nbformat_minor": 2,
 "cells": [
  {
   "source": [
    "# Projet TAL M1 S1 : POS Tagging"
   ],
   "cell_type": "markdown",
   "metadata": {}
  },
  {
   "source": [
    "# Implémentation du classifieur"
   ],
   "cell_type": "markdown",
   "metadata": {}
  },
  {
   "source": [
    "## Import du corpus"
   ],
   "cell_type": "markdown",
   "metadata": {}
  },
  {
   "source": [
    "## Séparation des corpus d'apprentissage et de validation"
   ],
   "cell_type": "markdown",
   "metadata": {}
  },
  {
   "source": [
    "## Implémentation de l'algorithme de classification\n",
    "Il faut choisir une régression logistique ou un perceptron moyenné."
   ],
   "cell_type": "markdown",
   "metadata": {}
  },
  {
   "source": [
    "## Evaluation des performances sur le corpus de validation"
   ],
   "cell_type": "markdown",
   "metadata": {}
  },
  {
   "source": [
    "# Evaluation hors-domaine"
   ],
   "cell_type": "markdown",
   "metadata": {}
  },
  {
   "source": [
    "## Analyse de l'impact du changement de domaine\n",
    "* identifier causes de la baisse de performance : analyse de sortie, matrice de confusion, erreurs les + fréquentes\n",
    "* réfléchir à des caractéristiques plus adaptées\n",
    "* sélection d'un nouvel ensemble d'apprentissage avec des exemples représentatif (généré par un modèle de langue type TP2)"
   ],
   "cell_type": "markdown",
   "metadata": {}
  },
  {
   "source": [
    "### Corpus UGC (User-generated content)"
   ],
   "cell_type": "markdown",
   "metadata": {}
  },
  {
   "source": [
    "### Corpus littéraire"
   ],
   "cell_type": "markdown",
   "metadata": {}
  },
  {
   "source": [
    "## Développement de systèmes robutes au changement de domaine"
   ],
   "cell_type": "markdown",
   "metadata": {}
  }
 ]
}