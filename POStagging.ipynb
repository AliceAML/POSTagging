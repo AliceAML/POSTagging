{
 "metadata": {
  "language_info": {
   "codemirror_mode": {
    "name": "ipython",
    "version": 3
   },
   "file_extension": ".py",
   "mimetype": "text/x-python",
   "name": "python",
   "nbconvert_exporter": "python",
   "pygments_lexer": "ipython3",
   "version": "3.8.5-final"
  },
  "orig_nbformat": 2,
  "kernelspec": {
   "name": "python3",
   "display_name": "Python 3",
   "language": "python"
  }
 },
 "nbformat": 4,
 "nbformat_minor": 2,
 "cells": [
  {
   "source": [
    "# Projet TAL M1 S1 : POS Tagging"
   ],
   "cell_type": "markdown",
   "metadata": {}
  },
  {
   "source": [
    "# Implémentation du classifieur"
   ],
   "cell_type": "markdown",
   "metadata": {}
  },
  {
   "source": [
    "## Import du corpus\n",
    "\n",
    "On charge les trois corpus *in-domain* sous la forme de listes de dictionnaires : chaque phrase a une clé \"mots\" qui est associée à une liste des mots, et une clé \"POS\" associée à une liste de POS. \n",
    "\n",
    "On utilise les trois corpus distincts de French-GSD :\n",
    "- Train : apprentissage.\n",
    "- Dev : validation. Pour tester et améliorer le modèle. \n",
    "- Test : évaluation. On ne l'utilisera pas pendant l'apprentissage ou les tests."
   ],
   "cell_type": "markdown",
   "metadata": {}
  },
  {
   "cell_type": "code",
   "execution_count": 25,
   "metadata": {
    "tags": []
   },
   "outputs": [],
   "source": [
    "def load_corpus(file):\n",
    "    with open(file, \"r\", encoding = \"utf8\") as f: \n",
    "        content = f.read() # chargement du corpus\n",
    "    content = content.split(\"\\n\\n\") # séparation en phrases\n",
    "    corpus = []\n",
    "    for phrase in content: # pour chaque phrase\n",
    "        phrase_dico = {\"mots\" : [], \"gold_labels\" : []} # liste qui contiendra 1 dictionnaire par mot de la phrase\n",
    "        for line in phrase.splitlines():\n",
    "            if not line.startswith(\"#\"): # on ignore les lignes qui commencent par #\n",
    "                features = line.split(\"\\t\")\n",
    "                phrase_dico[\"mots\"].append(features[1])\n",
    "                # phrase_dico[\"lemme\"].append(features[2])\n",
    "                phrase_dico[\"gold_labels\"].append(features[3])\n",
    "        corpus.append(phrase_dico)\n",
    "    return corpus\n",
    "\n",
    "gsd_train = load_corpus(\"corpus-in-domain/fr_gsd-ud-train.conllu\")\n",
    "gsd_test = load_corpus(\"corpus-in-domain/fr_gsd-ud-test.conllu\")\n",
    "gsd_dev = load_corpus(\"corpus-in-domain/fr_gsd-ud-dev.conllu\")"
   ]
  },
  {
   "cell_type": "code",
   "execution_count": 26,
   "metadata": {},
   "outputs": [
    {
     "output_type": "stream",
     "name": "stdout",
     "text": [
      "---- Aperçus d'une phrase de chaque corpus-----\n\n{'mots': [\"L'\", 'œuvre', 'est', 'située', 'dans', 'la', 'galerie', 'des', 'de', 'les', 'batailles', ',', 'dans', 'le', 'château', 'de', 'Versailles', '.'], 'gold_labels': ['DET', 'NOUN', 'AUX', 'VERB', 'ADP', 'DET', 'NOUN', '_', 'ADP', 'DET', 'NOUN', 'PUNCT', 'ADP', 'DET', 'NOUN', 'ADP', 'PROPN', 'PUNCT']}\n\n{'mots': ['La', 'gestion', 'et', \"l'\", 'exploitation', 'de', 'la', 'salle', 'de', 'concert', 'Wagram', ',', 'récemment', 'rénovée', ',', 'sera', 'assurée', 'par', 'Eurosites', ',', 'leader', 'en', 'France', 'de', 'la', 'location', 'de', 'salles', '.'], 'gold_labels': ['DET', 'NOUN', 'CCONJ', 'DET', 'NOUN', 'ADP', 'DET', 'NOUN', 'ADP', 'NOUN', 'PROPN', 'PUNCT', 'ADV', 'VERB', 'PUNCT', 'AUX', 'VERB', 'ADP', 'PROPN', 'PUNCT', 'NOUN', 'ADP', 'PROPN', 'ADP', 'DET', 'NOUN', 'ADP', 'NOUN', 'PUNCT']}\n\n{'mots': ['Cette', 'espèce', 'est', 'endémique', 'du', 'de', 'le', 'département', 'de', 'Nariño', 'en', 'Colombie', '.'], 'gold_labels': ['DET', 'NOUN', 'AUX', 'ADJ', '_', 'ADP', 'DET', 'NOUN', 'ADP', 'PROPN', 'ADP', 'PROPN', 'PUNCT']}\n"
     ]
    }
   ],
   "source": [
    "print(\"---- Aperçus d'une phrase de chaque corpus-----\", end=\"\\n\\n\")\n",
    "print(gsd_train[1], end=\"\\n\\n\")\n",
    "print(gsd_test[102], end=\"\\n\\n\")\n",
    "print(gsd_dev[564])"
   ]
  },
  {
   "cell_type": "code",
   "execution_count": null,
   "metadata": {},
   "outputs": [],
   "source": []
  },
  {
   "source": [
    "## Extraction des caractéristiques\n",
    "\n",
    "La fonction feature_extraction renvoie une liste de dictionnaires (un par mot) qui contiennent les caractéristiques suivantes pour chaque mot :\n",
    "- mot\n",
    "- mot précédent : pour le premier mot de la phrase son mot précédent sera \"START\", ce qui permettra de prendre en compte la caractéristique \"être le premier mot\".\n",
    "- mot suivant : pour le dernier mot, ce sera \"END\".\n",
    "- commence par une lettre majuscule\n",
    "- est entièrement en majuscules\n",
    "- contient des chiffres\n",
    "- contient des caractères non alphanumériques\n",
    "- longueur du mot (3 caractéristiques binaires) : a 1 seule caractère, a au plus 3 caractères, a plus de 3 caractères.\n",
    "- a un suffixe nominal\n",
    "- a un suffixe adjectival\n",
    "- a un suffixe verbal\n",
    "- a un suffixe adverbial\n",
    "\n",
    "On ne conserve plus la structure des phrases, qui n'est plus nécessaire une fois qu'on a extrait les informations comme mot précédent et mot suivant.\n",
    "\n",
    "Ces caractéristiques sont encodées sous la forme d'un dictionnaire pour chaque mot dont les clés désignent les caractéristiques (\"mot - commotions\", \"prec - les\", \"long\", \"suff_nom\", etc. ) et les valeurs valent 1 quand la caractéristique est vraie pour ce mot. Si la caractéristique n'est pas vraie, alors on n'ajoute pas cette entrée dans le dictionnaire, ce qui permettrait d'optimiser l'apprentissage et la prédiction ensuite.\n",
    "\n",
    "On a ajouté des booléens pour les différentes catégorie de caractéristiques (mots, majuscules, longueur, caractères non alphabétique et suffixes) qui sont pas défaut True et qu'on utilisera plus tard pour tester l'utilité de ces caractéristiques."
   ],
   "cell_type": "markdown",
   "metadata": {}
  },
  {
   "cell_type": "code",
   "execution_count": 27,
   "metadata": {
    "tags": []
   },
   "outputs": [],
   "source": [
    "def feature_extraction(corpus, feat_mots=True, feat_maj=True, feat_non_alpha=True, feat_long=True, feat_suff=True):\n",
    "\n",
    "    corpus_features = []\n",
    "\n",
    "    list_vb = [\"iser\",\"ifier\", \"oyer\",\"ailler\", \"asser\",\"eler\", \"eter\",\"iller\", \"iner\",\"nicher\", \"ocher\",\"onner\",\"otter\",\"oter\", \"ouiller\"]\n",
    "    list_adj = [\"ain\", \"aine\",\"ains\", \"aines\",\"aire\", \"aires\",\"é\", \"ée\",\"ées\", \"és\",\"iel\", \"iels\",\"uel\", \"uels\", \n",
    "\"lle\", \"lles\",\"els\", \"el\" \"al\", \"ales\", \"al\", \"ial\", \"aux\",\"iaux\", \"er\",\"ers\", \"ère\",\"ères\", \"ier\", \"iers\",      \"esque\",\"esques\", \"eur\",\"eurs\", \"euse\",\"euses\", \"ieux\",\"ueux\", \"if\", \"ifs\",\"ive\", \"ives\",\"in\", \"ins\",\"ine\",      \"ines\",\"iques\", \"ique\",\"atoire\", \"u\",\"ue\", \"us\",\"ues\", \"issime\",\"issimes\",\"able\",\"ible\", \"ibles\",\"ables\",  \n",
    "    \"uble\",\"ubles\", \"ième\",\"ièmes\", \"uple\"]\n",
    "    list_noun = [\"ade\", \"ades\", \"age\", \"ages\",\"aille\", \"ailles\", \"aison\", \"ison\", \"isons\",\"oison\", \"ation\", \"itions\", \"ition\", \"ssion\", \"sion\",\"xion\", \"isation\",\"ment\", \"ement\",\"erie\", \"eries\",\"ure\",\"ures\",\"ature\", \"atures\",\"at\", \"ance\",\"ence\", \"escence\",\"ité\", \"eté\",\"té\", \"ie\",\"erie\", \"esse\", \"ise\", \"eur\",\"isme\", \"iste\", \"istes\",\"eurs\", \"seur\",\"seurs\", \"isseur\",\"isseurs\", \"isateur\",\"euse\", \"euses\",\"isseuse\", \"isseuses\",       \"atrice\", \"atrices\",\"ier\", \"iers\",\"ière\", \"ières\",\"aire\",\"aires\",\"ien\", \"iens\",\"ienne\", \"iennes\",\"iste\",         \"istes\",\"er\", \"ers\",\"eron\", \"erons\",\"eronne\",\"trice\",\"oir\", \"oire\",\"oires\", \"oirs\",\"ier\", \"iers\",\"ière\",         \"ières\",\"erie\",\"eries\",\"anderie\",\"aire\", \"aires\",\"ain\", \"aines\", \"ée\",\"ées\",\"aille\", \"ard\",\"asse\", \"asses\", \"assier\",\"âtre\",\"aut\",\"eau\", \"eaux\",\"ceau\", \"ereau\",\"eteau\", \"elle\",\"elles\", \"et\",\"elet\",\"ets\",\"ette\",\"elette\",\"ettes\", \"elettes\",\"in\", \"ins\",\"otin\", \"ine\",\"ines\", \"illon\",\"on\",\"ons\",\"ille\", \"erole\",\"eroles\", \"ole\",\"oles\", \"iche\"]\n",
    "\n",
    "    for phrase in corpus: # ajout des features additionnelles\n",
    "        for prev, word, suiv in zip([\"START\"] + phrase[\"mots\"][:-1], phrase[\"mots\"], phrase[\"mots\"][1:] + [\"END\"]):\n",
    "            # création de triplets (mot précédent, mot, mot suivant)\n",
    "            # avec \"START\" en prev pour le 1er mot\n",
    "            # et \"END\" en suiv pour le dernier\n",
    "\n",
    "            # dictionnaire de features du mot\n",
    "            if feat_mots :\n",
    "                features_mot = { \n",
    "                    # on récupère le gold_label correspondant\n",
    "                    f\"mot - {word.lower()}\" : 1,\n",
    "                    f\"prec - {prev.lower()}\" : 1,\n",
    "                    f\"mot_suiv - {suiv.lower()}\" : 1,\n",
    "                    }\n",
    "            else:\n",
    "                features_mot = {}\n",
    "            \n",
    "            if feat_maj:\n",
    "                if word.istitle(): features_mot[\"maj\"] = 1 \n",
    "                if word.isupper(): features_mot[\"all_caps\"] = 1\n",
    "\n",
    "            if feat_non_alpha:\n",
    "                if any(char.isdigit() for char in word): features_mot[\"num\"] = 1 # mieux que isnumeric(), car renvoie false si espace (40 000) ou virgule (50,6) par ex\n",
    "                if not word.isalnum(): features_mot[\"nonAlphanum\"] = 1\n",
    "\n",
    "            if feat_long:\n",
    "                if len(word) <= 3: features_mot[\"court\"] = 1 \n",
    "                if len(word) > 3: features_mot[\"long\"] = 1\n",
    "                if len(word) == 1: features_mot[\"un_car\"] = 1\n",
    "            \n",
    "            if feat_suff:\n",
    "                if word.endswith(\"ment\"): features_mot[\"suff_adv\"] = 1\n",
    "                if any(word.endswith(elem) and len(word) != len(elem) for elem in list_noun): features_mot[\"suff_noun\"] =1 \n",
    "                if any(word.endswith(elem) and len(word) != len(elem) for elem in list_adj): features_mot[\"suff_adj\"] = 1\n",
    "                if any(word.endswith(elem) for elem in list_vb): features_mot[\"suff_vb\"] = 1\n",
    "                # on vérifie la longueur du mot pour être sûr que ce soit un suffixe car on peut avoir le mot                      age avec le suffixe age par exemple ou bien aux\n",
    "            \n",
    "            # ajout au corpus\n",
    "            corpus_features.append(features_mot)\n",
    "\n",
    "    return corpus_features # renvoie les features transformés en vecteurs one-hot\n"
   ]
  },
  {
   "cell_type": "code",
   "execution_count": 28,
   "metadata": {},
   "outputs": [
    {
     "output_type": "stream",
     "name": "stdout",
     "text": [
      "364349\n{\"mot - qu'\": 1, 'prec - sport': 1, 'mot_suiv - on': 1, 'nonAlphanum': 1, 'court': 1}\n{'mot - on': 1, \"prec - qu'\": 1, 'mot_suiv - les': 1, 'court': 1}\n{'mot - les': 1, 'prec - on': 1, 'mot_suiv - considére': 1, 'court': 1}\n{'mot - considére': 1, 'prec - les': 1, 'mot_suiv - presque': 1, 'long': 1}\n{'mot - presque': 1, 'prec - considére': 1, 'mot_suiv - comme': 1, 'long': 1, 'suff_adj': 1}\n"
     ]
    }
   ],
   "source": [
    "gsd_train_features = feature_extraction(gsd_train)\n",
    "\n",
    "print(len(gsd_train_features))\n",
    "print(*gsd_train_features[10:15], sep=\"\\n\")"
   ]
  },
  {
   "cell_type": "code",
   "execution_count": 29,
   "metadata": {
    "tags": []
   },
   "outputs": [],
   "source": [
    "def add_gold(features, corpus, addMot=False):\n",
    "    '''Ajoute les gold labels pour créer un corpus d'entraînement / de test'''\n",
    "    i = 0\n",
    "    gold_corpus = []\n",
    "    for phrase in corpus:\n",
    "        for word, pos_gold in zip(phrase[\"mots\"],phrase[\"gold_labels\"]):\n",
    "            if not pos_gold == \"_\": # on ignore les mots sans gold_labels\n",
    "                if addMot:\n",
    "                    gold_corpus.append((features[i], pos_gold, word))\n",
    "                else:\n",
    "                    gold_corpus.append((features[i], pos_gold))\n",
    "            i += 1\n",
    "\n",
    "    return gold_corpus"
   ]
  },
  {
   "cell_type": "code",
   "execution_count": 30,
   "metadata": {},
   "outputs": [
    {
     "output_type": "stream",
     "name": "stdout",
     "text": [
      "({'mot - !': 1, 'prec - plaisir': 1, 'mot_suiv - end': 1, 'nonAlphanum': 1, 'court': 1, 'un_car': 1}, 'PUNCT')\n({'mot - les': 1, 'prec - start': 1, 'mot_suiv - forfaits': 1, 'maj': 1, 'court': 1}, 'DET')\n({'mot - forfaits': 1, 'prec - les': 1, 'mot_suiv - comprennent': 1, 'long': 1}, 'NOUN')\n({'mot - comprennent': 1, 'prec - forfaits': 1, 'mot_suiv - le': 1, 'long': 1}, 'VERB')\n({'mot - le': 1, 'prec - comprennent': 1, 'mot_suiv - transport': 1, 'court': 1}, 'DET')\n({'mot - transport': 1, 'prec - le': 1, 'mot_suiv - en': 1, 'long': 1}, 'NOUN')\n({'mot - en': 1, 'prec - transport': 1, 'mot_suiv - car': 1, 'court': 1}, 'ADP')\n({'mot - car': 1, 'prec - en': 1, 'mot_suiv - grand': 1, 'court': 1}, 'NOUN')\n({'mot - grand': 1, 'prec - car': 1, 'mot_suiv - tourisme': 1, 'maj': 1, 'long': 1}, 'ADJ')\n({'mot - tourisme': 1, 'prec - grand': 1, 'mot_suiv - des': 1, 'maj': 1, 'long': 1, 'suff_noun': 1}, 'NOUN')\n"
     ]
    }
   ],
   "source": [
    "gsd_train_features_gold = add_gold(gsd_train_features, gsd_train)\n",
    "print(*gsd_train_features_gold[100:110], sep=\"\\n\")"
   ]
  },
  {
   "source": [
    "## Implémentation de l'algorithme de classification\n",
    "On a choisi d'implémenter la classification avec un perceptron moyenné.\n",
    "\n",
    "La fonction predict sera utilisée à la fois dans l'apprentissage et dans la \"prédiction\". Elle correspond à la recherche de l'étiquette avec le plus grand score (argmax...)"
   ],
   "cell_type": "markdown",
   "metadata": {}
  },
  {
   "cell_type": "code",
   "execution_count": 31,
   "metadata": {},
   "outputs": [],
   "source": [
    "def predict(word_features, weights):\n",
    "    \"\"\"Renvoie l'étiquette avec le plus gros score (argmax)\"\"\"\n",
    "    scores = {}\n",
    "    for tag, w in weights.items():\n",
    "        scores[tag] =  sum(word_features[feat]*w[feat] for feat in word_features)\n",
    "    return max(scores, key=scores.get)"
   ]
  },
  {
   "cell_type": "code",
   "execution_count": 32,
   "metadata": {
    "tags": []
   },
   "outputs": [],
   "source": [
    "from random import shuffle\n",
    "from collections import defaultdict \n",
    "\n",
    "def perceptron_train(training_set, MAX_EPOCH=3):\n",
    "    \n",
    "    tags = [\"ADJ\", \"ADP\", \"ADV\", \"AUX\", \"CCONJ\", \"DET\", \"INTJ\", \"NOUN\", \"NUM\", \"PART\", \"PRON\", \"PROPN\", \"PUNCT\", \"SCONJ\", \"SYM\", \"VERB\", \"X\"]\n",
    "\n",
    "    # initialisation de a (poids totaux)\n",
    "    a = defaultdict(lambda: defaultdict(int)) # source : https://stackoverflow.com/questions/5029934/defaultdict-of-defaultdict\n",
    "\n",
    "    # initialisation des vecteurs de poids\n",
    "    w = {}\n",
    "    for tag in tags:\n",
    "        w[tag] = defaultdict(int)\n",
    "\n",
    "    n_update = 0 # nombre de mots sur lequel l'entraînement a été effectué\n",
    "\n",
    "    last_update = defaultdict(lambda: defaultdict(int))  # dictionnaire de dictionnaire suivant la même structure que les vecteurs de poids a et w\n",
    "    # et qui stocke la valeur de n lors de la dernière modification d'un poid\n",
    "    \n",
    "    for i in range(0, MAX_EPOCH):\n",
    "        shuffled_set = training_set.copy() # copie du training set\n",
    "        shuffle(shuffled_set) # mélange du training set\n",
    "\n",
    "        for x in shuffled_set:\n",
    "            n_update += 1 # on compte le nb de mots déjà vus\n",
    "\n",
    "            vec = x[0]\n",
    "            gold = x[1]\n",
    "\n",
    "            prediction = predict(vec, w) # trouve étiquette plus probable avec les poids w\n",
    "\n",
    "            if not prediction == gold: # si le gold_label n'est pas égal à celui prédit\n",
    "\n",
    "                for feat in vec: # pour chaque feature du mot\n",
    "\n",
    "                    # on met à jour a : ajout de l'ancienne valeur dans w * le nombre de fois où elle n'a pas été modifiée\n",
    "                    a[gold][feat] += w[gold][feat]*(n_update-last_update[gold][feat])\n",
    "                    a[prediction][feat] += w[prediction][feat]*(n_update-last_update[prediction][feat])\n",
    "                     # on modifie le dernier update de l'élément du vecteur\n",
    "                    last_update[gold][feat] = n_update\n",
    "                    last_update[prediction][feat] = n_update\n",
    "\n",
    "                    # on modifie les poids de w pour les 2 étiquettes concernées\n",
    "                    w[gold][feat] += 1 #  on ajoute x_i à chaque poids de l'étiquette correcte\n",
    "                    w[prediction][feat] -= 1 #  on retire x_i à chaque poids de l'étiquette mal prédite\n",
    "                   \n",
    "\n",
    "    # mise à jour finale tous les poids qui n'ont pas été modifiés lors de la dernière update\n",
    "    for tag in a:\n",
    "        for feat in a[tag]:\n",
    "            a[tag][feat] += w[tag][feat]*(n_update - last_update[tag][feat])\n",
    "\n",
    "    return a"
   ]
  },
  {
   "source": [
    "Pour éviter de mettre entièrement à jour a après chaque mot, puisque la grande majorité des poids reste inchangé, on stocke après chaque modification d'un poids l'index de sa dernière modification, ce qui permet de mettre à jour dans a seulement les vecteurs qui sont modifiés, en ajoutant dans a le poids correspondant dans w, multiplié par le nombre d'update pendant lesquels il n'a pas été modifié.\n",
    "\n",
    "A la fin de l'apprentissage, on met également à jour tous les poids qui sont \"en attente\" de mise à jour, c'est-à-dire ceux dont la dernière mise à jour est inférieure à n_update."
   ],
   "cell_type": "markdown",
   "metadata": {}
  },
  {
   "cell_type": "code",
   "execution_count": 33,
   "metadata": {
    "tags": []
   },
   "outputs": [],
   "source": [
    "# poids_gsd_train = perceptron_train(gsd_train_features_gold)"
   ]
  },
  {
   "source": [
    "# Evaluation des performances sur le corpus de validation (Dev)\n",
    "La fonction test() renvoie le taux d'erreur sur un corpus en utilisant la fonction predict() avec les poids issus de l'apprentissage. On effectue ce test sur le corpus dev avec différents nombres d'itération à l'apprentissage pour voir l'impact des itérations sur ce taux d'erreur."
   ],
   "cell_type": "markdown",
   "metadata": {}
  },
  {
   "cell_type": "code",
   "execution_count": 34,
   "metadata": {
    "tags": []
   },
   "outputs": [],
   "source": [
    "gsd_dev_features = feature_extraction(gsd_dev)\n",
    "gsd_dev_features_gold = add_gold(gsd_dev_features, gsd_dev)\n",
    "\n",
    "\n",
    "def test(corpus, poids):\n",
    "    \"\"\"Prédit les étiquettes et renvoie un taux d'erreur\"\"\"\n",
    "    nb_erreurs = 0\n",
    "    for word in corpus:\n",
    "        vec = word[0]\n",
    "        gold = word[1]\n",
    "        prediction = predict(vec, poids)\n",
    "        if not gold == \"_\" and not prediction == gold:\n",
    "            nb_erreurs +=1\n",
    "\n",
    "    return nb_erreurs/len(corpus)"
   ]
  },
  {
   "cell_type": "code",
   "execution_count": 35,
   "metadata": {
    "tags": []
   },
   "outputs": [
    {
     "output_type": "stream",
     "name": "stdout",
     "text": [
      "1 epochs : 4.78% d'erreurs - temps training + test : 13.83s\n",
      "2 epochs : 4.34% d'erreurs - temps training + test : 24.18s\n",
      "3 epochs : 4.08% d'erreurs - temps training + test : 35.16s\n",
      "4 epochs : 3.90% d'erreurs - temps training + test : 47.27s\n",
      "5 epochs : 3.87% d'erreurs - temps training + test : 58.90s\n"
     ]
    }
   ],
   "source": [
    "from time import time\n",
    "\n",
    "taux = []\n",
    "x_range = range(1, 6)\n",
    "\n",
    "for i in x_range:\n",
    "    t0 = time()\n",
    "    poids_gsd_train = perceptron_train(gsd_train_features_gold, MAX_EPOCH=i)\n",
    "    tx_erreur = test(gsd_dev_features_gold, poids_gsd_train)\n",
    "    taux.append(tx_erreur)\n",
    "    print(f\"{i} epochs : {tx_erreur:.2%} d'erreurs - temps training + test : {time()-t0:.2f}s\")"
   ]
  },
  {
   "cell_type": "code",
   "execution_count": 36,
   "metadata": {},
   "outputs": [
    {
     "output_type": "display_data",
     "data": {
      "text/plain": "<Figure size 432x288 with 1 Axes>",
      "image/svg+xml": "<?xml version=\"1.0\" encoding=\"utf-8\" standalone=\"no\"?>\r\n<!DOCTYPE svg PUBLIC \"-//W3C//DTD SVG 1.1//EN\"\r\n  \"http://www.w3.org/Graphics/SVG/1.1/DTD/svg11.dtd\">\r\n<!-- Created with matplotlib (https://matplotlib.org/) -->\r\n<svg height=\"277.895938pt\" version=\"1.1\" viewBox=\"0 0 431.19125 277.895938\" width=\"431.19125pt\" xmlns=\"http://www.w3.org/2000/svg\" xmlns:xlink=\"http://www.w3.org/1999/xlink\">\r\n <metadata>\r\n  <rdf:RDF xmlns:cc=\"http://creativecommons.org/ns#\" xmlns:dc=\"http://purl.org/dc/elements/1.1/\" xmlns:rdf=\"http://www.w3.org/1999/02/22-rdf-syntax-ns#\">\r\n   <cc:Work>\r\n    <dc:type rdf:resource=\"http://purl.org/dc/dcmitype/StillImage\"/>\r\n    <dc:date>2021-01-10T19:00:58.964732</dc:date>\r\n    <dc:format>image/svg+xml</dc:format>\r\n    <dc:creator>\r\n     <cc:Agent>\r\n      <dc:title>Matplotlib v3.3.2, https://matplotlib.org/</dc:title>\r\n     </cc:Agent>\r\n    </dc:creator>\r\n   </cc:Work>\r\n  </rdf:RDF>\r\n </metadata>\r\n <defs>\r\n  <style type=\"text/css\">*{stroke-linecap:butt;stroke-linejoin:round;}</style>\r\n </defs>\r\n <g id=\"figure_1\">\r\n  <g id=\"patch_1\">\r\n   <path d=\"M 0 277.895938 \r\nL 431.19125 277.895938 \r\nL 431.19125 0 \r\nL 0 0 \r\nz\r\n\" style=\"fill:none;\"/>\r\n  </g>\r\n  <g id=\"axes_1\">\r\n   <g id=\"patch_2\">\r\n    <path d=\"M 56.50625 240.238125 \r\nL 391.30625 240.238125 \r\nL 391.30625 22.798125 \r\nL 56.50625 22.798125 \r\nz\r\n\" style=\"fill:#ffffff;\"/>\r\n   </g>\r\n   <g id=\"matplotlib.axis_1\">\r\n    <g id=\"xtick_1\">\r\n     <g id=\"line2d_1\">\r\n      <defs>\r\n       <path d=\"M 0 0 \r\nL 0 3.5 \r\n\" id=\"m4486702779\" style=\"stroke:#000000;stroke-width:0.8;\"/>\r\n      </defs>\r\n      <g>\r\n       <use style=\"stroke:#000000;stroke-width:0.8;\" x=\"71.724432\" xlink:href=\"#m4486702779\" y=\"240.238125\"/>\r\n      </g>\r\n     </g>\r\n     <g id=\"text_1\">\r\n      <!-- 1.0 -->\r\n      <g transform=\"translate(63.772869 254.836563)scale(0.1 -0.1)\">\r\n       <defs>\r\n        <path d=\"M 12.40625 8.296875 \r\nL 28.515625 8.296875 \r\nL 28.515625 63.921875 \r\nL 10.984375 60.40625 \r\nL 10.984375 69.390625 \r\nL 28.421875 72.90625 \r\nL 38.28125 72.90625 \r\nL 38.28125 8.296875 \r\nL 54.390625 8.296875 \r\nL 54.390625 0 \r\nL 12.40625 0 \r\nz\r\n\" id=\"DejaVuSans-49\"/>\r\n        <path d=\"M 10.6875 12.40625 \r\nL 21 12.40625 \r\nL 21 0 \r\nL 10.6875 0 \r\nz\r\n\" id=\"DejaVuSans-46\"/>\r\n        <path d=\"M 31.78125 66.40625 \r\nQ 24.171875 66.40625 20.328125 58.90625 \r\nQ 16.5 51.421875 16.5 36.375 \r\nQ 16.5 21.390625 20.328125 13.890625 \r\nQ 24.171875 6.390625 31.78125 6.390625 \r\nQ 39.453125 6.390625 43.28125 13.890625 \r\nQ 47.125 21.390625 47.125 36.375 \r\nQ 47.125 51.421875 43.28125 58.90625 \r\nQ 39.453125 66.40625 31.78125 66.40625 \r\nz\r\nM 31.78125 74.21875 \r\nQ 44.046875 74.21875 50.515625 64.515625 \r\nQ 56.984375 54.828125 56.984375 36.375 \r\nQ 56.984375 17.96875 50.515625 8.265625 \r\nQ 44.046875 -1.421875 31.78125 -1.421875 \r\nQ 19.53125 -1.421875 13.0625 8.265625 \r\nQ 6.59375 17.96875 6.59375 36.375 \r\nQ 6.59375 54.828125 13.0625 64.515625 \r\nQ 19.53125 74.21875 31.78125 74.21875 \r\nz\r\n\" id=\"DejaVuSans-48\"/>\r\n       </defs>\r\n       <use xlink:href=\"#DejaVuSans-49\"/>\r\n       <use x=\"63.623047\" xlink:href=\"#DejaVuSans-46\"/>\r\n       <use x=\"95.410156\" xlink:href=\"#DejaVuSans-48\"/>\r\n      </g>\r\n     </g>\r\n    </g>\r\n    <g id=\"xtick_2\">\r\n     <g id=\"line2d_2\">\r\n      <g>\r\n       <use style=\"stroke:#000000;stroke-width:0.8;\" x=\"109.769886\" xlink:href=\"#m4486702779\" y=\"240.238125\"/>\r\n      </g>\r\n     </g>\r\n     <g id=\"text_2\">\r\n      <!-- 1.5 -->\r\n      <g transform=\"translate(101.818324 254.836563)scale(0.1 -0.1)\">\r\n       <defs>\r\n        <path d=\"M 10.796875 72.90625 \r\nL 49.515625 72.90625 \r\nL 49.515625 64.59375 \r\nL 19.828125 64.59375 \r\nL 19.828125 46.734375 \r\nQ 21.96875 47.46875 24.109375 47.828125 \r\nQ 26.265625 48.1875 28.421875 48.1875 \r\nQ 40.625 48.1875 47.75 41.5 \r\nQ 54.890625 34.8125 54.890625 23.390625 \r\nQ 54.890625 11.625 47.5625 5.09375 \r\nQ 40.234375 -1.421875 26.90625 -1.421875 \r\nQ 22.3125 -1.421875 17.546875 -0.640625 \r\nQ 12.796875 0.140625 7.71875 1.703125 \r\nL 7.71875 11.625 \r\nQ 12.109375 9.234375 16.796875 8.0625 \r\nQ 21.484375 6.890625 26.703125 6.890625 \r\nQ 35.15625 6.890625 40.078125 11.328125 \r\nQ 45.015625 15.765625 45.015625 23.390625 \r\nQ 45.015625 31 40.078125 35.4375 \r\nQ 35.15625 39.890625 26.703125 39.890625 \r\nQ 22.75 39.890625 18.8125 39.015625 \r\nQ 14.890625 38.140625 10.796875 36.28125 \r\nz\r\n\" id=\"DejaVuSans-53\"/>\r\n       </defs>\r\n       <use xlink:href=\"#DejaVuSans-49\"/>\r\n       <use x=\"63.623047\" xlink:href=\"#DejaVuSans-46\"/>\r\n       <use x=\"95.410156\" xlink:href=\"#DejaVuSans-53\"/>\r\n      </g>\r\n     </g>\r\n    </g>\r\n    <g id=\"xtick_3\">\r\n     <g id=\"line2d_3\">\r\n      <g>\r\n       <use style=\"stroke:#000000;stroke-width:0.8;\" x=\"147.815341\" xlink:href=\"#m4486702779\" y=\"240.238125\"/>\r\n      </g>\r\n     </g>\r\n     <g id=\"text_3\">\r\n      <!-- 2.0 -->\r\n      <g transform=\"translate(139.863778 254.836563)scale(0.1 -0.1)\">\r\n       <defs>\r\n        <path d=\"M 19.1875 8.296875 \r\nL 53.609375 8.296875 \r\nL 53.609375 0 \r\nL 7.328125 0 \r\nL 7.328125 8.296875 \r\nQ 12.9375 14.109375 22.625 23.890625 \r\nQ 32.328125 33.6875 34.8125 36.53125 \r\nQ 39.546875 41.84375 41.421875 45.53125 \r\nQ 43.3125 49.21875 43.3125 52.78125 \r\nQ 43.3125 58.59375 39.234375 62.25 \r\nQ 35.15625 65.921875 28.609375 65.921875 \r\nQ 23.96875 65.921875 18.8125 64.3125 \r\nQ 13.671875 62.703125 7.8125 59.421875 \r\nL 7.8125 69.390625 \r\nQ 13.765625 71.78125 18.9375 73 \r\nQ 24.125 74.21875 28.421875 74.21875 \r\nQ 39.75 74.21875 46.484375 68.546875 \r\nQ 53.21875 62.890625 53.21875 53.421875 \r\nQ 53.21875 48.921875 51.53125 44.890625 \r\nQ 49.859375 40.875 45.40625 35.40625 \r\nQ 44.1875 33.984375 37.640625 27.21875 \r\nQ 31.109375 20.453125 19.1875 8.296875 \r\nz\r\n\" id=\"DejaVuSans-50\"/>\r\n       </defs>\r\n       <use xlink:href=\"#DejaVuSans-50\"/>\r\n       <use x=\"63.623047\" xlink:href=\"#DejaVuSans-46\"/>\r\n       <use x=\"95.410156\" xlink:href=\"#DejaVuSans-48\"/>\r\n      </g>\r\n     </g>\r\n    </g>\r\n    <g id=\"xtick_4\">\r\n     <g id=\"line2d_4\">\r\n      <g>\r\n       <use style=\"stroke:#000000;stroke-width:0.8;\" x=\"185.860795\" xlink:href=\"#m4486702779\" y=\"240.238125\"/>\r\n      </g>\r\n     </g>\r\n     <g id=\"text_4\">\r\n      <!-- 2.5 -->\r\n      <g transform=\"translate(177.909233 254.836563)scale(0.1 -0.1)\">\r\n       <use xlink:href=\"#DejaVuSans-50\"/>\r\n       <use x=\"63.623047\" xlink:href=\"#DejaVuSans-46\"/>\r\n       <use x=\"95.410156\" xlink:href=\"#DejaVuSans-53\"/>\r\n      </g>\r\n     </g>\r\n    </g>\r\n    <g id=\"xtick_5\">\r\n     <g id=\"line2d_5\">\r\n      <g>\r\n       <use style=\"stroke:#000000;stroke-width:0.8;\" x=\"223.90625\" xlink:href=\"#m4486702779\" y=\"240.238125\"/>\r\n      </g>\r\n     </g>\r\n     <g id=\"text_5\">\r\n      <!-- 3.0 -->\r\n      <g transform=\"translate(215.954688 254.836563)scale(0.1 -0.1)\">\r\n       <defs>\r\n        <path d=\"M 40.578125 39.3125 \r\nQ 47.65625 37.796875 51.625 33 \r\nQ 55.609375 28.21875 55.609375 21.1875 \r\nQ 55.609375 10.40625 48.1875 4.484375 \r\nQ 40.765625 -1.421875 27.09375 -1.421875 \r\nQ 22.515625 -1.421875 17.65625 -0.515625 \r\nQ 12.796875 0.390625 7.625 2.203125 \r\nL 7.625 11.71875 \r\nQ 11.71875 9.328125 16.59375 8.109375 \r\nQ 21.484375 6.890625 26.8125 6.890625 \r\nQ 36.078125 6.890625 40.9375 10.546875 \r\nQ 45.796875 14.203125 45.796875 21.1875 \r\nQ 45.796875 27.640625 41.28125 31.265625 \r\nQ 36.765625 34.90625 28.71875 34.90625 \r\nL 20.21875 34.90625 \r\nL 20.21875 43.015625 \r\nL 29.109375 43.015625 \r\nQ 36.375 43.015625 40.234375 45.921875 \r\nQ 44.09375 48.828125 44.09375 54.296875 \r\nQ 44.09375 59.90625 40.109375 62.90625 \r\nQ 36.140625 65.921875 28.71875 65.921875 \r\nQ 24.65625 65.921875 20.015625 65.03125 \r\nQ 15.375 64.15625 9.8125 62.3125 \r\nL 9.8125 71.09375 \r\nQ 15.4375 72.65625 20.34375 73.4375 \r\nQ 25.25 74.21875 29.59375 74.21875 \r\nQ 40.828125 74.21875 47.359375 69.109375 \r\nQ 53.90625 64.015625 53.90625 55.328125 \r\nQ 53.90625 49.265625 50.4375 45.09375 \r\nQ 46.96875 40.921875 40.578125 39.3125 \r\nz\r\n\" id=\"DejaVuSans-51\"/>\r\n       </defs>\r\n       <use xlink:href=\"#DejaVuSans-51\"/>\r\n       <use x=\"63.623047\" xlink:href=\"#DejaVuSans-46\"/>\r\n       <use x=\"95.410156\" xlink:href=\"#DejaVuSans-48\"/>\r\n      </g>\r\n     </g>\r\n    </g>\r\n    <g id=\"xtick_6\">\r\n     <g id=\"line2d_6\">\r\n      <g>\r\n       <use style=\"stroke:#000000;stroke-width:0.8;\" x=\"261.951705\" xlink:href=\"#m4486702779\" y=\"240.238125\"/>\r\n      </g>\r\n     </g>\r\n     <g id=\"text_6\">\r\n      <!-- 3.5 -->\r\n      <g transform=\"translate(254.000142 254.836563)scale(0.1 -0.1)\">\r\n       <use xlink:href=\"#DejaVuSans-51\"/>\r\n       <use x=\"63.623047\" xlink:href=\"#DejaVuSans-46\"/>\r\n       <use x=\"95.410156\" xlink:href=\"#DejaVuSans-53\"/>\r\n      </g>\r\n     </g>\r\n    </g>\r\n    <g id=\"xtick_7\">\r\n     <g id=\"line2d_7\">\r\n      <g>\r\n       <use style=\"stroke:#000000;stroke-width:0.8;\" x=\"299.997159\" xlink:href=\"#m4486702779\" y=\"240.238125\"/>\r\n      </g>\r\n     </g>\r\n     <g id=\"text_7\">\r\n      <!-- 4.0 -->\r\n      <g transform=\"translate(292.045597 254.836563)scale(0.1 -0.1)\">\r\n       <defs>\r\n        <path d=\"M 37.796875 64.3125 \r\nL 12.890625 25.390625 \r\nL 37.796875 25.390625 \r\nz\r\nM 35.203125 72.90625 \r\nL 47.609375 72.90625 \r\nL 47.609375 25.390625 \r\nL 58.015625 25.390625 \r\nL 58.015625 17.1875 \r\nL 47.609375 17.1875 \r\nL 47.609375 0 \r\nL 37.796875 0 \r\nL 37.796875 17.1875 \r\nL 4.890625 17.1875 \r\nL 4.890625 26.703125 \r\nz\r\n\" id=\"DejaVuSans-52\"/>\r\n       </defs>\r\n       <use xlink:href=\"#DejaVuSans-52\"/>\r\n       <use x=\"63.623047\" xlink:href=\"#DejaVuSans-46\"/>\r\n       <use x=\"95.410156\" xlink:href=\"#DejaVuSans-48\"/>\r\n      </g>\r\n     </g>\r\n    </g>\r\n    <g id=\"xtick_8\">\r\n     <g id=\"line2d_8\">\r\n      <g>\r\n       <use style=\"stroke:#000000;stroke-width:0.8;\" x=\"338.042614\" xlink:href=\"#m4486702779\" y=\"240.238125\"/>\r\n      </g>\r\n     </g>\r\n     <g id=\"text_8\">\r\n      <!-- 4.5 -->\r\n      <g transform=\"translate(330.091051 254.836563)scale(0.1 -0.1)\">\r\n       <use xlink:href=\"#DejaVuSans-52\"/>\r\n       <use x=\"63.623047\" xlink:href=\"#DejaVuSans-46\"/>\r\n       <use x=\"95.410156\" xlink:href=\"#DejaVuSans-53\"/>\r\n      </g>\r\n     </g>\r\n    </g>\r\n    <g id=\"xtick_9\">\r\n     <g id=\"line2d_9\">\r\n      <g>\r\n       <use style=\"stroke:#000000;stroke-width:0.8;\" x=\"376.088068\" xlink:href=\"#m4486702779\" y=\"240.238125\"/>\r\n      </g>\r\n     </g>\r\n     <g id=\"text_9\">\r\n      <!-- 5.0 -->\r\n      <g transform=\"translate(368.136506 254.836563)scale(0.1 -0.1)\">\r\n       <use xlink:href=\"#DejaVuSans-53\"/>\r\n       <use x=\"63.623047\" xlink:href=\"#DejaVuSans-46\"/>\r\n       <use x=\"95.410156\" xlink:href=\"#DejaVuSans-48\"/>\r\n      </g>\r\n     </g>\r\n    </g>\r\n    <g id=\"text_10\">\r\n     <!-- MAX_EPOCH -->\r\n     <g transform=\"translate(192.885156 268.338125)scale(0.1 -0.1)\">\r\n      <defs>\r\n       <path d=\"M 9.8125 72.90625 \r\nL 24.515625 72.90625 \r\nL 43.109375 23.296875 \r\nL 61.8125 72.90625 \r\nL 76.515625 72.90625 \r\nL 76.515625 0 \r\nL 66.890625 0 \r\nL 66.890625 64.015625 \r\nL 48.09375 14.015625 \r\nL 38.1875 14.015625 \r\nL 19.390625 64.015625 \r\nL 19.390625 0 \r\nL 9.8125 0 \r\nz\r\n\" id=\"DejaVuSans-77\"/>\r\n       <path d=\"M 34.1875 63.1875 \r\nL 20.796875 26.90625 \r\nL 47.609375 26.90625 \r\nz\r\nM 28.609375 72.90625 \r\nL 39.796875 72.90625 \r\nL 67.578125 0 \r\nL 57.328125 0 \r\nL 50.6875 18.703125 \r\nL 17.828125 18.703125 \r\nL 11.1875 0 \r\nL 0.78125 0 \r\nz\r\n\" id=\"DejaVuSans-65\"/>\r\n       <path d=\"M 6.296875 72.90625 \r\nL 16.890625 72.90625 \r\nL 35.015625 45.796875 \r\nL 53.21875 72.90625 \r\nL 63.8125 72.90625 \r\nL 40.375 37.890625 \r\nL 65.375 0 \r\nL 54.78125 0 \r\nL 34.28125 31 \r\nL 13.625 0 \r\nL 2.984375 0 \r\nL 29 38.921875 \r\nz\r\n\" id=\"DejaVuSans-88\"/>\r\n       <path d=\"M 50.984375 -16.609375 \r\nL 50.984375 -23.578125 \r\nL -0.984375 -23.578125 \r\nL -0.984375 -16.609375 \r\nz\r\n\" id=\"DejaVuSans-95\"/>\r\n       <path d=\"M 9.8125 72.90625 \r\nL 55.90625 72.90625 \r\nL 55.90625 64.59375 \r\nL 19.671875 64.59375 \r\nL 19.671875 43.015625 \r\nL 54.390625 43.015625 \r\nL 54.390625 34.71875 \r\nL 19.671875 34.71875 \r\nL 19.671875 8.296875 \r\nL 56.78125 8.296875 \r\nL 56.78125 0 \r\nL 9.8125 0 \r\nz\r\n\" id=\"DejaVuSans-69\"/>\r\n       <path d=\"M 19.671875 64.796875 \r\nL 19.671875 37.40625 \r\nL 32.078125 37.40625 \r\nQ 38.96875 37.40625 42.71875 40.96875 \r\nQ 46.484375 44.53125 46.484375 51.125 \r\nQ 46.484375 57.671875 42.71875 61.234375 \r\nQ 38.96875 64.796875 32.078125 64.796875 \r\nz\r\nM 9.8125 72.90625 \r\nL 32.078125 72.90625 \r\nQ 44.34375 72.90625 50.609375 67.359375 \r\nQ 56.890625 61.8125 56.890625 51.125 \r\nQ 56.890625 40.328125 50.609375 34.8125 \r\nQ 44.34375 29.296875 32.078125 29.296875 \r\nL 19.671875 29.296875 \r\nL 19.671875 0 \r\nL 9.8125 0 \r\nz\r\n\" id=\"DejaVuSans-80\"/>\r\n       <path d=\"M 39.40625 66.21875 \r\nQ 28.65625 66.21875 22.328125 58.203125 \r\nQ 16.015625 50.203125 16.015625 36.375 \r\nQ 16.015625 22.609375 22.328125 14.59375 \r\nQ 28.65625 6.59375 39.40625 6.59375 \r\nQ 50.140625 6.59375 56.421875 14.59375 \r\nQ 62.703125 22.609375 62.703125 36.375 \r\nQ 62.703125 50.203125 56.421875 58.203125 \r\nQ 50.140625 66.21875 39.40625 66.21875 \r\nz\r\nM 39.40625 74.21875 \r\nQ 54.734375 74.21875 63.90625 63.9375 \r\nQ 73.09375 53.65625 73.09375 36.375 \r\nQ 73.09375 19.140625 63.90625 8.859375 \r\nQ 54.734375 -1.421875 39.40625 -1.421875 \r\nQ 24.03125 -1.421875 14.8125 8.828125 \r\nQ 5.609375 19.09375 5.609375 36.375 \r\nQ 5.609375 53.65625 14.8125 63.9375 \r\nQ 24.03125 74.21875 39.40625 74.21875 \r\nz\r\n\" id=\"DejaVuSans-79\"/>\r\n       <path d=\"M 64.40625 67.28125 \r\nL 64.40625 56.890625 \r\nQ 59.421875 61.53125 53.78125 63.8125 \r\nQ 48.140625 66.109375 41.796875 66.109375 \r\nQ 29.296875 66.109375 22.65625 58.46875 \r\nQ 16.015625 50.828125 16.015625 36.375 \r\nQ 16.015625 21.96875 22.65625 14.328125 \r\nQ 29.296875 6.6875 41.796875 6.6875 \r\nQ 48.140625 6.6875 53.78125 8.984375 \r\nQ 59.421875 11.28125 64.40625 15.921875 \r\nL 64.40625 5.609375 \r\nQ 59.234375 2.09375 53.4375 0.328125 \r\nQ 47.65625 -1.421875 41.21875 -1.421875 \r\nQ 24.65625 -1.421875 15.125 8.703125 \r\nQ 5.609375 18.84375 5.609375 36.375 \r\nQ 5.609375 53.953125 15.125 64.078125 \r\nQ 24.65625 74.21875 41.21875 74.21875 \r\nQ 47.75 74.21875 53.53125 72.484375 \r\nQ 59.328125 70.75 64.40625 67.28125 \r\nz\r\n\" id=\"DejaVuSans-67\"/>\r\n       <path d=\"M 9.8125 72.90625 \r\nL 19.671875 72.90625 \r\nL 19.671875 43.015625 \r\nL 55.515625 43.015625 \r\nL 55.515625 72.90625 \r\nL 65.375 72.90625 \r\nL 65.375 0 \r\nL 55.515625 0 \r\nL 55.515625 34.71875 \r\nL 19.671875 34.71875 \r\nL 19.671875 0 \r\nL 9.8125 0 \r\nz\r\n\" id=\"DejaVuSans-72\"/>\r\n      </defs>\r\n      <use xlink:href=\"#DejaVuSans-77\"/>\r\n      <use x=\"86.279297\" xlink:href=\"#DejaVuSans-65\"/>\r\n      <use x=\"154.6875\" xlink:href=\"#DejaVuSans-88\"/>\r\n      <use x=\"223.193359\" xlink:href=\"#DejaVuSans-95\"/>\r\n      <use x=\"273.193359\" xlink:href=\"#DejaVuSans-69\"/>\r\n      <use x=\"336.376953\" xlink:href=\"#DejaVuSans-80\"/>\r\n      <use x=\"396.679688\" xlink:href=\"#DejaVuSans-79\"/>\r\n      <use x=\"475.390625\" xlink:href=\"#DejaVuSans-67\"/>\r\n      <use x=\"545.214844\" xlink:href=\"#DejaVuSans-72\"/>\r\n     </g>\r\n    </g>\r\n   </g>\r\n   <g id=\"matplotlib.axis_2\">\r\n    <g id=\"ytick_1\">\r\n     <g id=\"line2d_10\">\r\n      <defs>\r\n       <path d=\"M 0 0 \r\nL -3.5 0 \r\n\" id=\"m204bb220eb\" style=\"stroke:#000000;stroke-width:0.8;\"/>\r\n      </defs>\r\n      <g>\r\n       <use style=\"stroke:#000000;stroke-width:0.8;\" x=\"56.50625\" xlink:href=\"#m204bb220eb\" y=\"201.33005\"/>\r\n      </g>\r\n     </g>\r\n     <g id=\"text_11\">\r\n      <!-- 0.040 -->\r\n      <g transform=\"translate(20.878125 205.129269)scale(0.1 -0.1)\">\r\n       <use xlink:href=\"#DejaVuSans-48\"/>\r\n       <use x=\"63.623047\" xlink:href=\"#DejaVuSans-46\"/>\r\n       <use x=\"95.410156\" xlink:href=\"#DejaVuSans-48\"/>\r\n       <use x=\"159.033203\" xlink:href=\"#DejaVuSans-52\"/>\r\n       <use x=\"222.65625\" xlink:href=\"#DejaVuSans-48\"/>\r\n      </g>\r\n     </g>\r\n    </g>\r\n    <g id=\"ytick_2\">\r\n     <g id=\"line2d_11\">\r\n      <g>\r\n       <use style=\"stroke:#000000;stroke-width:0.8;\" x=\"56.50625\" xlink:href=\"#m204bb220eb\" y=\"157.880976\"/>\r\n      </g>\r\n     </g>\r\n     <g id=\"text_12\">\r\n      <!-- 0.042 -->\r\n      <g transform=\"translate(20.878125 161.680195)scale(0.1 -0.1)\">\r\n       <use xlink:href=\"#DejaVuSans-48\"/>\r\n       <use x=\"63.623047\" xlink:href=\"#DejaVuSans-46\"/>\r\n       <use x=\"95.410156\" xlink:href=\"#DejaVuSans-48\"/>\r\n       <use x=\"159.033203\" xlink:href=\"#DejaVuSans-52\"/>\r\n       <use x=\"222.65625\" xlink:href=\"#DejaVuSans-50\"/>\r\n      </g>\r\n     </g>\r\n    </g>\r\n    <g id=\"ytick_3\">\r\n     <g id=\"line2d_12\">\r\n      <g>\r\n       <use style=\"stroke:#000000;stroke-width:0.8;\" x=\"56.50625\" xlink:href=\"#m204bb220eb\" y=\"114.431903\"/>\r\n      </g>\r\n     </g>\r\n     <g id=\"text_13\">\r\n      <!-- 0.044 -->\r\n      <g transform=\"translate(20.878125 118.231121)scale(0.1 -0.1)\">\r\n       <use xlink:href=\"#DejaVuSans-48\"/>\r\n       <use x=\"63.623047\" xlink:href=\"#DejaVuSans-46\"/>\r\n       <use x=\"95.410156\" xlink:href=\"#DejaVuSans-48\"/>\r\n       <use x=\"159.033203\" xlink:href=\"#DejaVuSans-52\"/>\r\n       <use x=\"222.65625\" xlink:href=\"#DejaVuSans-52\"/>\r\n      </g>\r\n     </g>\r\n    </g>\r\n    <g id=\"ytick_4\">\r\n     <g id=\"line2d_13\">\r\n      <g>\r\n       <use style=\"stroke:#000000;stroke-width:0.8;\" x=\"56.50625\" xlink:href=\"#m204bb220eb\" y=\"70.982829\"/>\r\n      </g>\r\n     </g>\r\n     <g id=\"text_14\">\r\n      <!-- 0.046 -->\r\n      <g transform=\"translate(20.878125 74.782048)scale(0.1 -0.1)\">\r\n       <defs>\r\n        <path d=\"M 33.015625 40.375 \r\nQ 26.375 40.375 22.484375 35.828125 \r\nQ 18.609375 31.296875 18.609375 23.390625 \r\nQ 18.609375 15.53125 22.484375 10.953125 \r\nQ 26.375 6.390625 33.015625 6.390625 \r\nQ 39.65625 6.390625 43.53125 10.953125 \r\nQ 47.40625 15.53125 47.40625 23.390625 \r\nQ 47.40625 31.296875 43.53125 35.828125 \r\nQ 39.65625 40.375 33.015625 40.375 \r\nz\r\nM 52.59375 71.296875 \r\nL 52.59375 62.3125 \r\nQ 48.875 64.0625 45.09375 64.984375 \r\nQ 41.3125 65.921875 37.59375 65.921875 \r\nQ 27.828125 65.921875 22.671875 59.328125 \r\nQ 17.53125 52.734375 16.796875 39.40625 \r\nQ 19.671875 43.65625 24.015625 45.921875 \r\nQ 28.375 48.1875 33.59375 48.1875 \r\nQ 44.578125 48.1875 50.953125 41.515625 \r\nQ 57.328125 34.859375 57.328125 23.390625 \r\nQ 57.328125 12.15625 50.6875 5.359375 \r\nQ 44.046875 -1.421875 33.015625 -1.421875 \r\nQ 20.359375 -1.421875 13.671875 8.265625 \r\nQ 6.984375 17.96875 6.984375 36.375 \r\nQ 6.984375 53.65625 15.1875 63.9375 \r\nQ 23.390625 74.21875 37.203125 74.21875 \r\nQ 40.921875 74.21875 44.703125 73.484375 \r\nQ 48.484375 72.75 52.59375 71.296875 \r\nz\r\n\" id=\"DejaVuSans-54\"/>\r\n       </defs>\r\n       <use xlink:href=\"#DejaVuSans-48\"/>\r\n       <use x=\"63.623047\" xlink:href=\"#DejaVuSans-46\"/>\r\n       <use x=\"95.410156\" xlink:href=\"#DejaVuSans-48\"/>\r\n       <use x=\"159.033203\" xlink:href=\"#DejaVuSans-52\"/>\r\n       <use x=\"222.65625\" xlink:href=\"#DejaVuSans-54\"/>\r\n      </g>\r\n     </g>\r\n    </g>\r\n    <g id=\"ytick_5\">\r\n     <g id=\"line2d_14\">\r\n      <g>\r\n       <use style=\"stroke:#000000;stroke-width:0.8;\" x=\"56.50625\" xlink:href=\"#m204bb220eb\" y=\"27.533755\"/>\r\n      </g>\r\n     </g>\r\n     <g id=\"text_15\">\r\n      <!-- 0.048 -->\r\n      <g transform=\"translate(20.878125 31.332974)scale(0.1 -0.1)\">\r\n       <defs>\r\n        <path d=\"M 31.78125 34.625 \r\nQ 24.75 34.625 20.71875 30.859375 \r\nQ 16.703125 27.09375 16.703125 20.515625 \r\nQ 16.703125 13.921875 20.71875 10.15625 \r\nQ 24.75 6.390625 31.78125 6.390625 \r\nQ 38.8125 6.390625 42.859375 10.171875 \r\nQ 46.921875 13.96875 46.921875 20.515625 \r\nQ 46.921875 27.09375 42.890625 30.859375 \r\nQ 38.875 34.625 31.78125 34.625 \r\nz\r\nM 21.921875 38.8125 \r\nQ 15.578125 40.375 12.03125 44.71875 \r\nQ 8.5 49.078125 8.5 55.328125 \r\nQ 8.5 64.0625 14.71875 69.140625 \r\nQ 20.953125 74.21875 31.78125 74.21875 \r\nQ 42.671875 74.21875 48.875 69.140625 \r\nQ 55.078125 64.0625 55.078125 55.328125 \r\nQ 55.078125 49.078125 51.53125 44.71875 \r\nQ 48 40.375 41.703125 38.8125 \r\nQ 48.828125 37.15625 52.796875 32.3125 \r\nQ 56.78125 27.484375 56.78125 20.515625 \r\nQ 56.78125 9.90625 50.3125 4.234375 \r\nQ 43.84375 -1.421875 31.78125 -1.421875 \r\nQ 19.734375 -1.421875 13.25 4.234375 \r\nQ 6.78125 9.90625 6.78125 20.515625 \r\nQ 6.78125 27.484375 10.78125 32.3125 \r\nQ 14.796875 37.15625 21.921875 38.8125 \r\nz\r\nM 18.3125 54.390625 \r\nQ 18.3125 48.734375 21.84375 45.5625 \r\nQ 25.390625 42.390625 31.78125 42.390625 \r\nQ 38.140625 42.390625 41.71875 45.5625 \r\nQ 45.3125 48.734375 45.3125 54.390625 \r\nQ 45.3125 60.0625 41.71875 63.234375 \r\nQ 38.140625 66.40625 31.78125 66.40625 \r\nQ 25.390625 66.40625 21.84375 63.234375 \r\nQ 18.3125 60.0625 18.3125 54.390625 \r\nz\r\n\" id=\"DejaVuSans-56\"/>\r\n       </defs>\r\n       <use xlink:href=\"#DejaVuSans-48\"/>\r\n       <use x=\"63.623047\" xlink:href=\"#DejaVuSans-46\"/>\r\n       <use x=\"95.410156\" xlink:href=\"#DejaVuSans-48\"/>\r\n       <use x=\"159.033203\" xlink:href=\"#DejaVuSans-52\"/>\r\n       <use x=\"222.65625\" xlink:href=\"#DejaVuSans-56\"/>\r\n      </g>\r\n     </g>\r\n    </g>\r\n    <g id=\"text_16\">\r\n     <!-- Taux d'erreur -->\r\n     <g transform=\"translate(14.798437 164.365)rotate(-90)scale(0.1 -0.1)\">\r\n      <defs>\r\n       <path d=\"M -0.296875 72.90625 \r\nL 61.375 72.90625 \r\nL 61.375 64.59375 \r\nL 35.5 64.59375 \r\nL 35.5 0 \r\nL 25.59375 0 \r\nL 25.59375 64.59375 \r\nL -0.296875 64.59375 \r\nz\r\n\" id=\"DejaVuSans-84\"/>\r\n       <path d=\"M 34.28125 27.484375 \r\nQ 23.390625 27.484375 19.1875 25 \r\nQ 14.984375 22.515625 14.984375 16.5 \r\nQ 14.984375 11.71875 18.140625 8.90625 \r\nQ 21.296875 6.109375 26.703125 6.109375 \r\nQ 34.1875 6.109375 38.703125 11.40625 \r\nQ 43.21875 16.703125 43.21875 25.484375 \r\nL 43.21875 27.484375 \r\nz\r\nM 52.203125 31.203125 \r\nL 52.203125 0 \r\nL 43.21875 0 \r\nL 43.21875 8.296875 \r\nQ 40.140625 3.328125 35.546875 0.953125 \r\nQ 30.953125 -1.421875 24.3125 -1.421875 \r\nQ 15.921875 -1.421875 10.953125 3.296875 \r\nQ 6 8.015625 6 15.921875 \r\nQ 6 25.140625 12.171875 29.828125 \r\nQ 18.359375 34.515625 30.609375 34.515625 \r\nL 43.21875 34.515625 \r\nL 43.21875 35.40625 \r\nQ 43.21875 41.609375 39.140625 45 \r\nQ 35.0625 48.390625 27.6875 48.390625 \r\nQ 23 48.390625 18.546875 47.265625 \r\nQ 14.109375 46.140625 10.015625 43.890625 \r\nL 10.015625 52.203125 \r\nQ 14.9375 54.109375 19.578125 55.046875 \r\nQ 24.21875 56 28.609375 56 \r\nQ 40.484375 56 46.34375 49.84375 \r\nQ 52.203125 43.703125 52.203125 31.203125 \r\nz\r\n\" id=\"DejaVuSans-97\"/>\r\n       <path d=\"M 8.5 21.578125 \r\nL 8.5 54.6875 \r\nL 17.484375 54.6875 \r\nL 17.484375 21.921875 \r\nQ 17.484375 14.15625 20.5 10.265625 \r\nQ 23.53125 6.390625 29.59375 6.390625 \r\nQ 36.859375 6.390625 41.078125 11.03125 \r\nQ 45.3125 15.671875 45.3125 23.6875 \r\nL 45.3125 54.6875 \r\nL 54.296875 54.6875 \r\nL 54.296875 0 \r\nL 45.3125 0 \r\nL 45.3125 8.40625 \r\nQ 42.046875 3.421875 37.71875 1 \r\nQ 33.40625 -1.421875 27.6875 -1.421875 \r\nQ 18.265625 -1.421875 13.375 4.4375 \r\nQ 8.5 10.296875 8.5 21.578125 \r\nz\r\nM 31.109375 56 \r\nz\r\n\" id=\"DejaVuSans-117\"/>\r\n       <path d=\"M 54.890625 54.6875 \r\nL 35.109375 28.078125 \r\nL 55.90625 0 \r\nL 45.3125 0 \r\nL 29.390625 21.484375 \r\nL 13.484375 0 \r\nL 2.875 0 \r\nL 24.125 28.609375 \r\nL 4.6875 54.6875 \r\nL 15.28125 54.6875 \r\nL 29.78125 35.203125 \r\nL 44.28125 54.6875 \r\nz\r\n\" id=\"DejaVuSans-120\"/>\r\n       <path id=\"DejaVuSans-32\"/>\r\n       <path d=\"M 45.40625 46.390625 \r\nL 45.40625 75.984375 \r\nL 54.390625 75.984375 \r\nL 54.390625 0 \r\nL 45.40625 0 \r\nL 45.40625 8.203125 \r\nQ 42.578125 3.328125 38.25 0.953125 \r\nQ 33.9375 -1.421875 27.875 -1.421875 \r\nQ 17.96875 -1.421875 11.734375 6.484375 \r\nQ 5.515625 14.40625 5.515625 27.296875 \r\nQ 5.515625 40.1875 11.734375 48.09375 \r\nQ 17.96875 56 27.875 56 \r\nQ 33.9375 56 38.25 53.625 \r\nQ 42.578125 51.265625 45.40625 46.390625 \r\nz\r\nM 14.796875 27.296875 \r\nQ 14.796875 17.390625 18.875 11.75 \r\nQ 22.953125 6.109375 30.078125 6.109375 \r\nQ 37.203125 6.109375 41.296875 11.75 \r\nQ 45.40625 17.390625 45.40625 27.296875 \r\nQ 45.40625 37.203125 41.296875 42.84375 \r\nQ 37.203125 48.484375 30.078125 48.484375 \r\nQ 22.953125 48.484375 18.875 42.84375 \r\nQ 14.796875 37.203125 14.796875 27.296875 \r\nz\r\n\" id=\"DejaVuSans-100\"/>\r\n       <path d=\"M 17.921875 72.90625 \r\nL 17.921875 45.796875 \r\nL 9.625 45.796875 \r\nL 9.625 72.90625 \r\nz\r\n\" id=\"DejaVuSans-39\"/>\r\n       <path d=\"M 56.203125 29.59375 \r\nL 56.203125 25.203125 \r\nL 14.890625 25.203125 \r\nQ 15.484375 15.921875 20.484375 11.0625 \r\nQ 25.484375 6.203125 34.421875 6.203125 \r\nQ 39.59375 6.203125 44.453125 7.46875 \r\nQ 49.3125 8.734375 54.109375 11.28125 \r\nL 54.109375 2.78125 \r\nQ 49.265625 0.734375 44.1875 -0.34375 \r\nQ 39.109375 -1.421875 33.890625 -1.421875 \r\nQ 20.796875 -1.421875 13.15625 6.1875 \r\nQ 5.515625 13.8125 5.515625 26.8125 \r\nQ 5.515625 40.234375 12.765625 48.109375 \r\nQ 20.015625 56 32.328125 56 \r\nQ 43.359375 56 49.78125 48.890625 \r\nQ 56.203125 41.796875 56.203125 29.59375 \r\nz\r\nM 47.21875 32.234375 \r\nQ 47.125 39.59375 43.09375 43.984375 \r\nQ 39.0625 48.390625 32.421875 48.390625 \r\nQ 24.90625 48.390625 20.390625 44.140625 \r\nQ 15.875 39.890625 15.1875 32.171875 \r\nz\r\n\" id=\"DejaVuSans-101\"/>\r\n       <path d=\"M 41.109375 46.296875 \r\nQ 39.59375 47.171875 37.8125 47.578125 \r\nQ 36.03125 48 33.890625 48 \r\nQ 26.265625 48 22.1875 43.046875 \r\nQ 18.109375 38.09375 18.109375 28.8125 \r\nL 18.109375 0 \r\nL 9.078125 0 \r\nL 9.078125 54.6875 \r\nL 18.109375 54.6875 \r\nL 18.109375 46.1875 \r\nQ 20.953125 51.171875 25.484375 53.578125 \r\nQ 30.03125 56 36.53125 56 \r\nQ 37.453125 56 38.578125 55.875 \r\nQ 39.703125 55.765625 41.0625 55.515625 \r\nz\r\n\" id=\"DejaVuSans-114\"/>\r\n      </defs>\r\n      <use xlink:href=\"#DejaVuSans-84\"/>\r\n      <use x=\"44.583984\" xlink:href=\"#DejaVuSans-97\"/>\r\n      <use x=\"105.863281\" xlink:href=\"#DejaVuSans-117\"/>\r\n      <use x=\"169.242188\" xlink:href=\"#DejaVuSans-120\"/>\r\n      <use x=\"228.421875\" xlink:href=\"#DejaVuSans-32\"/>\r\n      <use x=\"260.208984\" xlink:href=\"#DejaVuSans-100\"/>\r\n      <use x=\"323.685547\" xlink:href=\"#DejaVuSans-39\"/>\r\n      <use x=\"351.175781\" xlink:href=\"#DejaVuSans-101\"/>\r\n      <use x=\"412.699219\" xlink:href=\"#DejaVuSans-114\"/>\r\n      <use x=\"452.0625\" xlink:href=\"#DejaVuSans-114\"/>\r\n      <use x=\"490.925781\" xlink:href=\"#DejaVuSans-101\"/>\r\n      <use x=\"552.449219\" xlink:href=\"#DejaVuSans-117\"/>\r\n      <use x=\"615.828125\" xlink:href=\"#DejaVuSans-114\"/>\r\n     </g>\r\n    </g>\r\n   </g>\r\n   <g id=\"line2d_15\">\r\n    <path clip-path=\"url(#p510cd3971e)\" d=\"M 71.724432 32.681761 \r\nL 147.815341 128.172894 \r\nL 223.90625 183.521258 \r\nL 299.997159 223.055803 \r\nL 376.088068 230.354489 \r\n\" style=\"fill:none;stroke:#1f77b4;stroke-linecap:square;stroke-width:1.5;\"/>\r\n   </g>\r\n   <g id=\"patch_3\">\r\n    <path d=\"M 56.50625 240.238125 \r\nL 56.50625 22.798125 \r\n\" style=\"fill:none;stroke:#000000;stroke-linecap:square;stroke-linejoin:miter;stroke-width:0.8;\"/>\r\n   </g>\r\n   <g id=\"patch_4\">\r\n    <path d=\"M 391.30625 240.238125 \r\nL 391.30625 22.798125 \r\n\" style=\"fill:none;stroke:#000000;stroke-linecap:square;stroke-linejoin:miter;stroke-width:0.8;\"/>\r\n   </g>\r\n   <g id=\"patch_5\">\r\n    <path d=\"M 56.50625 240.238125 \r\nL 391.30625 240.238125 \r\n\" style=\"fill:none;stroke:#000000;stroke-linecap:square;stroke-linejoin:miter;stroke-width:0.8;\"/>\r\n   </g>\r\n   <g id=\"patch_6\">\r\n    <path d=\"M 56.50625 22.798125 \r\nL 391.30625 22.798125 \r\n\" style=\"fill:none;stroke:#000000;stroke-linecap:square;stroke-linejoin:miter;stroke-width:0.8;\"/>\r\n   </g>\r\n   <g id=\"text_17\">\r\n    <!-- Taux d'erreur selon le nombre d'itérations pendant l'apprentissage -->\r\n    <g transform=\"translate(23.82125 16.798125)scale(0.12 -0.12)\">\r\n     <defs>\r\n      <path d=\"M 44.28125 53.078125 \r\nL 44.28125 44.578125 \r\nQ 40.484375 46.53125 36.375 47.5 \r\nQ 32.28125 48.484375 27.875 48.484375 \r\nQ 21.1875 48.484375 17.84375 46.4375 \r\nQ 14.5 44.390625 14.5 40.28125 \r\nQ 14.5 37.15625 16.890625 35.375 \r\nQ 19.28125 33.59375 26.515625 31.984375 \r\nL 29.59375 31.296875 \r\nQ 39.15625 29.25 43.1875 25.515625 \r\nQ 47.21875 21.78125 47.21875 15.09375 \r\nQ 47.21875 7.46875 41.1875 3.015625 \r\nQ 35.15625 -1.421875 24.609375 -1.421875 \r\nQ 20.21875 -1.421875 15.453125 -0.5625 \r\nQ 10.6875 0.296875 5.421875 2 \r\nL 5.421875 11.28125 \r\nQ 10.40625 8.6875 15.234375 7.390625 \r\nQ 20.0625 6.109375 24.8125 6.109375 \r\nQ 31.15625 6.109375 34.5625 8.28125 \r\nQ 37.984375 10.453125 37.984375 14.40625 \r\nQ 37.984375 18.0625 35.515625 20.015625 \r\nQ 33.0625 21.96875 24.703125 23.78125 \r\nL 21.578125 24.515625 \r\nQ 13.234375 26.265625 9.515625 29.90625 \r\nQ 5.8125 33.546875 5.8125 39.890625 \r\nQ 5.8125 47.609375 11.28125 51.796875 \r\nQ 16.75 56 26.8125 56 \r\nQ 31.78125 56 36.171875 55.265625 \r\nQ 40.578125 54.546875 44.28125 53.078125 \r\nz\r\n\" id=\"DejaVuSans-115\"/>\r\n      <path d=\"M 9.421875 75.984375 \r\nL 18.40625 75.984375 \r\nL 18.40625 0 \r\nL 9.421875 0 \r\nz\r\n\" id=\"DejaVuSans-108\"/>\r\n      <path d=\"M 30.609375 48.390625 \r\nQ 23.390625 48.390625 19.1875 42.75 \r\nQ 14.984375 37.109375 14.984375 27.296875 \r\nQ 14.984375 17.484375 19.15625 11.84375 \r\nQ 23.34375 6.203125 30.609375 6.203125 \r\nQ 37.796875 6.203125 41.984375 11.859375 \r\nQ 46.1875 17.53125 46.1875 27.296875 \r\nQ 46.1875 37.015625 41.984375 42.703125 \r\nQ 37.796875 48.390625 30.609375 48.390625 \r\nz\r\nM 30.609375 56 \r\nQ 42.328125 56 49.015625 48.375 \r\nQ 55.71875 40.765625 55.71875 27.296875 \r\nQ 55.71875 13.875 49.015625 6.21875 \r\nQ 42.328125 -1.421875 30.609375 -1.421875 \r\nQ 18.84375 -1.421875 12.171875 6.21875 \r\nQ 5.515625 13.875 5.515625 27.296875 \r\nQ 5.515625 40.765625 12.171875 48.375 \r\nQ 18.84375 56 30.609375 56 \r\nz\r\n\" id=\"DejaVuSans-111\"/>\r\n      <path d=\"M 54.890625 33.015625 \r\nL 54.890625 0 \r\nL 45.90625 0 \r\nL 45.90625 32.71875 \r\nQ 45.90625 40.484375 42.875 44.328125 \r\nQ 39.84375 48.1875 33.796875 48.1875 \r\nQ 26.515625 48.1875 22.3125 43.546875 \r\nQ 18.109375 38.921875 18.109375 30.90625 \r\nL 18.109375 0 \r\nL 9.078125 0 \r\nL 9.078125 54.6875 \r\nL 18.109375 54.6875 \r\nL 18.109375 46.1875 \r\nQ 21.34375 51.125 25.703125 53.5625 \r\nQ 30.078125 56 35.796875 56 \r\nQ 45.21875 56 50.046875 50.171875 \r\nQ 54.890625 44.34375 54.890625 33.015625 \r\nz\r\n\" id=\"DejaVuSans-110\"/>\r\n      <path d=\"M 52 44.1875 \r\nQ 55.375 50.25 60.0625 53.125 \r\nQ 64.75 56 71.09375 56 \r\nQ 79.640625 56 84.28125 50.015625 \r\nQ 88.921875 44.046875 88.921875 33.015625 \r\nL 88.921875 0 \r\nL 79.890625 0 \r\nL 79.890625 32.71875 \r\nQ 79.890625 40.578125 77.09375 44.375 \r\nQ 74.3125 48.1875 68.609375 48.1875 \r\nQ 61.625 48.1875 57.5625 43.546875 \r\nQ 53.515625 38.921875 53.515625 30.90625 \r\nL 53.515625 0 \r\nL 44.484375 0 \r\nL 44.484375 32.71875 \r\nQ 44.484375 40.625 41.703125 44.40625 \r\nQ 38.921875 48.1875 33.109375 48.1875 \r\nQ 26.21875 48.1875 22.15625 43.53125 \r\nQ 18.109375 38.875 18.109375 30.90625 \r\nL 18.109375 0 \r\nL 9.078125 0 \r\nL 9.078125 54.6875 \r\nL 18.109375 54.6875 \r\nL 18.109375 46.1875 \r\nQ 21.1875 51.21875 25.484375 53.609375 \r\nQ 29.78125 56 35.6875 56 \r\nQ 41.65625 56 45.828125 52.96875 \r\nQ 50 49.953125 52 44.1875 \r\nz\r\n\" id=\"DejaVuSans-109\"/>\r\n      <path d=\"M 48.6875 27.296875 \r\nQ 48.6875 37.203125 44.609375 42.84375 \r\nQ 40.53125 48.484375 33.40625 48.484375 \r\nQ 26.265625 48.484375 22.1875 42.84375 \r\nQ 18.109375 37.203125 18.109375 27.296875 \r\nQ 18.109375 17.390625 22.1875 11.75 \r\nQ 26.265625 6.109375 33.40625 6.109375 \r\nQ 40.53125 6.109375 44.609375 11.75 \r\nQ 48.6875 17.390625 48.6875 27.296875 \r\nz\r\nM 18.109375 46.390625 \r\nQ 20.953125 51.265625 25.265625 53.625 \r\nQ 29.59375 56 35.59375 56 \r\nQ 45.5625 56 51.78125 48.09375 \r\nQ 58.015625 40.1875 58.015625 27.296875 \r\nQ 58.015625 14.40625 51.78125 6.484375 \r\nQ 45.5625 -1.421875 35.59375 -1.421875 \r\nQ 29.59375 -1.421875 25.265625 0.953125 \r\nQ 20.953125 3.328125 18.109375 8.203125 \r\nL 18.109375 0 \r\nL 9.078125 0 \r\nL 9.078125 75.984375 \r\nL 18.109375 75.984375 \r\nz\r\n\" id=\"DejaVuSans-98\"/>\r\n      <path d=\"M 9.421875 54.6875 \r\nL 18.40625 54.6875 \r\nL 18.40625 0 \r\nL 9.421875 0 \r\nz\r\nM 9.421875 75.984375 \r\nL 18.40625 75.984375 \r\nL 18.40625 64.59375 \r\nL 9.421875 64.59375 \r\nz\r\n\" id=\"DejaVuSans-105\"/>\r\n      <path d=\"M 18.3125 70.21875 \r\nL 18.3125 54.6875 \r\nL 36.8125 54.6875 \r\nL 36.8125 47.703125 \r\nL 18.3125 47.703125 \r\nL 18.3125 18.015625 \r\nQ 18.3125 11.328125 20.140625 9.421875 \r\nQ 21.96875 7.515625 27.59375 7.515625 \r\nL 36.8125 7.515625 \r\nL 36.8125 0 \r\nL 27.59375 0 \r\nQ 17.1875 0 13.234375 3.875 \r\nQ 9.28125 7.765625 9.28125 18.015625 \r\nL 9.28125 47.703125 \r\nL 2.6875 47.703125 \r\nL 2.6875 54.6875 \r\nL 9.28125 54.6875 \r\nL 9.28125 70.21875 \r\nz\r\n\" id=\"DejaVuSans-116\"/>\r\n      <path d=\"M 56.203125 29.59375 \r\nL 56.203125 25.203125 \r\nL 14.890625 25.203125 \r\nQ 15.484375 15.921875 20.484375 11.0625 \r\nQ 25.484375 6.203125 34.421875 6.203125 \r\nQ 39.59375 6.203125 44.453125 7.46875 \r\nQ 49.3125 8.734375 54.109375 11.28125 \r\nL 54.109375 2.78125 \r\nQ 49.265625 0.734375 44.1875 -0.34375 \r\nQ 39.109375 -1.421875 33.890625 -1.421875 \r\nQ 20.796875 -1.421875 13.15625 6.1875 \r\nQ 5.515625 13.8125 5.515625 26.8125 \r\nQ 5.515625 40.234375 12.765625 48.109375 \r\nQ 20.015625 56 32.328125 56 \r\nQ 43.359375 56 49.78125 48.890625 \r\nQ 56.203125 41.796875 56.203125 29.59375 \r\nz\r\nM 47.21875 32.234375 \r\nQ 47.125 39.59375 43.09375 43.984375 \r\nQ 39.0625 48.390625 32.421875 48.390625 \r\nQ 24.90625 48.390625 20.390625 44.140625 \r\nQ 15.875 39.890625 15.1875 32.171875 \r\nz\r\nM 38.53125 79.984375 \r\nL 48.25 79.984375 \r\nL 32.34375 61.625 \r\nL 24.859375 61.625 \r\nz\r\n\" id=\"DejaVuSans-233\"/>\r\n      <path d=\"M 18.109375 8.203125 \r\nL 18.109375 -20.796875 \r\nL 9.078125 -20.796875 \r\nL 9.078125 54.6875 \r\nL 18.109375 54.6875 \r\nL 18.109375 46.390625 \r\nQ 20.953125 51.265625 25.265625 53.625 \r\nQ 29.59375 56 35.59375 56 \r\nQ 45.5625 56 51.78125 48.09375 \r\nQ 58.015625 40.1875 58.015625 27.296875 \r\nQ 58.015625 14.40625 51.78125 6.484375 \r\nQ 45.5625 -1.421875 35.59375 -1.421875 \r\nQ 29.59375 -1.421875 25.265625 0.953125 \r\nQ 20.953125 3.328125 18.109375 8.203125 \r\nz\r\nM 48.6875 27.296875 \r\nQ 48.6875 37.203125 44.609375 42.84375 \r\nQ 40.53125 48.484375 33.40625 48.484375 \r\nQ 26.265625 48.484375 22.1875 42.84375 \r\nQ 18.109375 37.203125 18.109375 27.296875 \r\nQ 18.109375 17.390625 22.1875 11.75 \r\nQ 26.265625 6.109375 33.40625 6.109375 \r\nQ 40.53125 6.109375 44.609375 11.75 \r\nQ 48.6875 17.390625 48.6875 27.296875 \r\nz\r\n\" id=\"DejaVuSans-112\"/>\r\n      <path d=\"M 45.40625 27.984375 \r\nQ 45.40625 37.75 41.375 43.109375 \r\nQ 37.359375 48.484375 30.078125 48.484375 \r\nQ 22.859375 48.484375 18.828125 43.109375 \r\nQ 14.796875 37.75 14.796875 27.984375 \r\nQ 14.796875 18.265625 18.828125 12.890625 \r\nQ 22.859375 7.515625 30.078125 7.515625 \r\nQ 37.359375 7.515625 41.375 12.890625 \r\nQ 45.40625 18.265625 45.40625 27.984375 \r\nz\r\nM 54.390625 6.78125 \r\nQ 54.390625 -7.171875 48.1875 -13.984375 \r\nQ 42 -20.796875 29.203125 -20.796875 \r\nQ 24.46875 -20.796875 20.265625 -20.09375 \r\nQ 16.0625 -19.390625 12.109375 -17.921875 \r\nL 12.109375 -9.1875 \r\nQ 16.0625 -11.328125 19.921875 -12.34375 \r\nQ 23.78125 -13.375 27.78125 -13.375 \r\nQ 36.625 -13.375 41.015625 -8.765625 \r\nQ 45.40625 -4.15625 45.40625 5.171875 \r\nL 45.40625 9.625 \r\nQ 42.625 4.78125 38.28125 2.390625 \r\nQ 33.9375 0 27.875 0 \r\nQ 17.828125 0 11.671875 7.65625 \r\nQ 5.515625 15.328125 5.515625 27.984375 \r\nQ 5.515625 40.671875 11.671875 48.328125 \r\nQ 17.828125 56 27.875 56 \r\nQ 33.9375 56 38.28125 53.609375 \r\nQ 42.625 51.21875 45.40625 46.390625 \r\nL 45.40625 54.6875 \r\nL 54.390625 54.6875 \r\nz\r\n\" id=\"DejaVuSans-103\"/>\r\n     </defs>\r\n     <use xlink:href=\"#DejaVuSans-84\"/>\r\n     <use x=\"44.583984\" xlink:href=\"#DejaVuSans-97\"/>\r\n     <use x=\"105.863281\" xlink:href=\"#DejaVuSans-117\"/>\r\n     <use x=\"169.242188\" xlink:href=\"#DejaVuSans-120\"/>\r\n     <use x=\"228.421875\" xlink:href=\"#DejaVuSans-32\"/>\r\n     <use x=\"260.208984\" xlink:href=\"#DejaVuSans-100\"/>\r\n     <use x=\"323.685547\" xlink:href=\"#DejaVuSans-39\"/>\r\n     <use x=\"351.175781\" xlink:href=\"#DejaVuSans-101\"/>\r\n     <use x=\"412.699219\" xlink:href=\"#DejaVuSans-114\"/>\r\n     <use x=\"452.0625\" xlink:href=\"#DejaVuSans-114\"/>\r\n     <use x=\"490.925781\" xlink:href=\"#DejaVuSans-101\"/>\r\n     <use x=\"552.449219\" xlink:href=\"#DejaVuSans-117\"/>\r\n     <use x=\"615.828125\" xlink:href=\"#DejaVuSans-114\"/>\r\n     <use x=\"656.941406\" xlink:href=\"#DejaVuSans-32\"/>\r\n     <use x=\"688.728516\" xlink:href=\"#DejaVuSans-115\"/>\r\n     <use x=\"740.828125\" xlink:href=\"#DejaVuSans-101\"/>\r\n     <use x=\"802.351562\" xlink:href=\"#DejaVuSans-108\"/>\r\n     <use x=\"830.134766\" xlink:href=\"#DejaVuSans-111\"/>\r\n     <use x=\"891.316406\" xlink:href=\"#DejaVuSans-110\"/>\r\n     <use x=\"954.695312\" xlink:href=\"#DejaVuSans-32\"/>\r\n     <use x=\"986.482422\" xlink:href=\"#DejaVuSans-108\"/>\r\n     <use x=\"1014.265625\" xlink:href=\"#DejaVuSans-101\"/>\r\n     <use x=\"1075.789062\" xlink:href=\"#DejaVuSans-32\"/>\r\n     <use x=\"1107.576172\" xlink:href=\"#DejaVuSans-110\"/>\r\n     <use x=\"1170.955078\" xlink:href=\"#DejaVuSans-111\"/>\r\n     <use x=\"1232.136719\" xlink:href=\"#DejaVuSans-109\"/>\r\n     <use x=\"1329.548828\" xlink:href=\"#DejaVuSans-98\"/>\r\n     <use x=\"1393.025391\" xlink:href=\"#DejaVuSans-114\"/>\r\n     <use x=\"1431.888672\" xlink:href=\"#DejaVuSans-101\"/>\r\n     <use x=\"1493.412109\" xlink:href=\"#DejaVuSans-32\"/>\r\n     <use x=\"1525.199219\" xlink:href=\"#DejaVuSans-100\"/>\r\n     <use x=\"1588.675781\" xlink:href=\"#DejaVuSans-39\"/>\r\n     <use x=\"1616.166016\" xlink:href=\"#DejaVuSans-105\"/>\r\n     <use x=\"1643.949219\" xlink:href=\"#DejaVuSans-116\"/>\r\n     <use x=\"1683.158203\" xlink:href=\"#DejaVuSans-233\"/>\r\n     <use x=\"1744.681641\" xlink:href=\"#DejaVuSans-114\"/>\r\n     <use x=\"1785.794922\" xlink:href=\"#DejaVuSans-97\"/>\r\n     <use x=\"1847.074219\" xlink:href=\"#DejaVuSans-116\"/>\r\n     <use x=\"1886.283203\" xlink:href=\"#DejaVuSans-105\"/>\r\n     <use x=\"1914.066406\" xlink:href=\"#DejaVuSans-111\"/>\r\n     <use x=\"1975.248047\" xlink:href=\"#DejaVuSans-110\"/>\r\n     <use x=\"2038.626953\" xlink:href=\"#DejaVuSans-115\"/>\r\n     <use x=\"2090.726562\" xlink:href=\"#DejaVuSans-32\"/>\r\n     <use x=\"2122.513672\" xlink:href=\"#DejaVuSans-112\"/>\r\n     <use x=\"2185.990234\" xlink:href=\"#DejaVuSans-101\"/>\r\n     <use x=\"2247.513672\" xlink:href=\"#DejaVuSans-110\"/>\r\n     <use x=\"2310.892578\" xlink:href=\"#DejaVuSans-100\"/>\r\n     <use x=\"2374.369141\" xlink:href=\"#DejaVuSans-97\"/>\r\n     <use x=\"2435.648438\" xlink:href=\"#DejaVuSans-110\"/>\r\n     <use x=\"2499.027344\" xlink:href=\"#DejaVuSans-116\"/>\r\n     <use x=\"2538.236328\" xlink:href=\"#DejaVuSans-32\"/>\r\n     <use x=\"2570.023438\" xlink:href=\"#DejaVuSans-108\"/>\r\n     <use x=\"2597.806641\" xlink:href=\"#DejaVuSans-39\"/>\r\n     <use x=\"2625.296875\" xlink:href=\"#DejaVuSans-97\"/>\r\n     <use x=\"2686.576172\" xlink:href=\"#DejaVuSans-112\"/>\r\n     <use x=\"2750.052734\" xlink:href=\"#DejaVuSans-112\"/>\r\n     <use x=\"2813.529297\" xlink:href=\"#DejaVuSans-114\"/>\r\n     <use x=\"2852.392578\" xlink:href=\"#DejaVuSans-101\"/>\r\n     <use x=\"2913.916016\" xlink:href=\"#DejaVuSans-110\"/>\r\n     <use x=\"2977.294922\" xlink:href=\"#DejaVuSans-116\"/>\r\n     <use x=\"3016.503906\" xlink:href=\"#DejaVuSans-105\"/>\r\n     <use x=\"3044.287109\" xlink:href=\"#DejaVuSans-115\"/>\r\n     <use x=\"3096.386719\" xlink:href=\"#DejaVuSans-115\"/>\r\n     <use x=\"3148.486328\" xlink:href=\"#DejaVuSans-97\"/>\r\n     <use x=\"3209.765625\" xlink:href=\"#DejaVuSans-103\"/>\r\n     <use x=\"3273.242188\" xlink:href=\"#DejaVuSans-101\"/>\r\n    </g>\r\n   </g>\r\n  </g>\r\n </g>\r\n <defs>\r\n  <clipPath id=\"p510cd3971e\">\r\n   <rect height=\"217.44\" width=\"334.8\" x=\"56.50625\" y=\"22.798125\"/>\r\n  </clipPath>\r\n </defs>\r\n</svg>\r\n",
      "image/png": "[encoded data removed]"
     },
     "metadata": {
      "needs_background": "light"
     }
    }
   ],
   "source": [
    "import matplotlib.pyplot as plt\n",
    "\n",
    "plt.figure()\n",
    "plt.plot(x_range,taux)\n",
    "plt.ylabel(\"Taux d'erreur\")\n",
    "plt.xlabel(\"MAX_EPOCH\")\n",
    "plt.title(\"Taux d'erreur selon le nombre d'itérations pendant l'apprentissage\")\n",
    "plt.show()"
   ]
  },
  {
   "source": [
    "On remarque qu'à partir d'un seul passage sur le corpus, on descend en dessous de 5% d'erreurs, et qu'à 3 itérations on est environ à 4%. Des itérations additionnelles n'améliorent pas beaucoup ce taux, en tout cas pas assez par rapport au temps additionnel que demande l'entraînement avec ces itérations additionnelles. Nous choisissons donc 3 itérations par défaut."
   ],
   "cell_type": "markdown",
   "metadata": {}
  },
  {
   "source": [
    "### Evaluation des caractéristiques\n",
    "On peut se demander si l'on pourrait obtenir des taux similaires avec moins de features, si certaines features apportent plus de précision que d'autre. Pour cela on réeffectue un apprentissage avec 3 itérations, sans modifier l'extraction de caractéristiques. Puis on teste différentes combinaisons d'extractions de features sur le corpus dev avant d'effectuer le test : seulement les mots (mot, mot précédent et mot suivant), et tout sauf les mots. On pourrait bien sûr tester bien d'autres combinaisons. Les features non extraites sur le corpus dev valent donc toutes zéro pour ce corpus et ne seront pas prises en compte."
   ],
   "cell_type": "markdown",
   "metadata": {}
  },
  {
   "cell_type": "code",
   "execution_count": 37,
   "metadata": {},
   "outputs": [],
   "source": [
    "poids_gsd_train = perceptron_train(gsd_train_features_gold) # entraînement avec nombre d'itérations par défaut"
   ]
  },
  {
   "cell_type": "code",
   "execution_count": 38,
   "metadata": {},
   "outputs": [
    {
     "output_type": "stream",
     "name": "stdout",
     "text": [
      "Test avec seulement les mots : 9.785%\n",
      "Test avec tout sauf les mots : 73.419%\n"
     ]
    }
   ],
   "source": [
    "def test_features(corpus, poids, test_mots=False, test_maj=False, test_non_alpha=False, test_long=False, test_suff=False):\n",
    "    '''Effectue les 3 étapes nécessaires pour effectuer le test'''\n",
    "    features = feature_extraction(corpus, feat_mots=test_mots, feat_maj=test_maj, feat_non_alpha=test_non_alpha, feat_long=test_long, feat_suff=test_suff)\n",
    "    features_gold = add_gold(features, corpus)\n",
    "    tx_erreur = test(features_gold, poids)\n",
    "    \n",
    "    return tx_erreur\n",
    "\n",
    "print(f\"Test avec seulement les mots : {test_features(gsd_train, poids_gsd_train, test_mots=True):.3%}\")\n",
    "print(f\"Test avec tout sauf les mots : {test_features(gsd_train, poids_gsd_train, test_maj=True, test_suff=True, test_non_alpha=True, test_long=True):.3%}\")"
   ]
  },
  {
   "source": [
    "On remarque que sans la prise en compte des mots le résultat est catastrophique ! Testons quelques combinaisons de mots + autres caractéristiques :"
   ],
   "cell_type": "markdown",
   "metadata": {}
  },
  {
   "cell_type": "code",
   "execution_count": 39,
   "metadata": {},
   "outputs": [
    {
     "output_type": "stream",
     "name": "stdout",
     "text": [
      "Test avec mots + longueur : 9.613%\n",
      "Test avec mots + maj : 5.308%\n",
      "Test avec mots + caractères non alphanumériques : 8.261%\n",
      "Test avec mots + suffixes : 9.271%\n"
     ]
    }
   ],
   "source": [
    "print(f\"Test avec mots + longueur : {test_features(gsd_train, poids_gsd_train, test_mots=True, test_long=True):.3%}\")\n",
    "print(f\"Test avec mots + maj : {test_features(gsd_train, poids_gsd_train, test_mots=True, test_maj=True):.3%}\")\n",
    "print(f\"Test avec mots + caractères non alphanumériques : {test_features(gsd_train, poids_gsd_train, test_mots=True, test_non_alpha=True):.3%}\")\n",
    "print(f\"Test avec mots + suffixes : {test_features(gsd_train, poids_gsd_train, test_mots=True, test_suff=True):.3%}\")"
   ]
  },
  {
   "source": [
    "A partir de ces tests non exhaustifs, il semblerait que la prise en compte des majuscules, en plus des mots, apporte davantage de précision que celle d'autres caractéristiques qui pourrait peut-être être éliminée."
   ],
   "cell_type": "markdown",
   "metadata": {}
  },
  {
   "source": [
    "### Erreurs fréquentes\n",
    "On peut analyser les erreurs les plus fréquentes à l'aide d'une matrice de confusion."
   ],
   "cell_type": "markdown",
   "metadata": {}
  },
  {
   "cell_type": "code",
   "execution_count": 92,
   "metadata": {
    "tags": []
   },
   "outputs": [
    {
     "output_type": "stream",
     "name": "stdout",
     "text": [
      "Prédictions   ADJ   ADP   ADV   AUX  CCONJ   DET  INTJ  NOUN  NUM  PART  PRON  \\\nRéférences                                                                      \nADJ          1909     0     7     0      0     7     0   101    5     0     4   \nADP             0  5720     0     2      0    14     0     1    0     0     0   \nADV            10     4  1248     4      2     1     0     9    0     0     3   \nAUX             0     0     1  1080      0     0     0     5    0     0     0   \nCCONJ           0     0     2     1    881     0     0     0    0     0     0   \nDET             5    17     0     0      0  5483     0     0    4     0     5   \nINTJ            0     0     1     0      0     0     2     0    0     0     0   \nNOUN           63     1     7     6      0     2     1  6391    4     0     2   \nNUM             0     0     0     0      0     2     0     3  943     0     3   \nPART            0     0     1     0      0     0     0     0    0     6     0   \nPRON            9     6     0     0      0    44     0     1    0     0  1458   \nPROPN          31     4     1     0      0     1     0    83   13     0     3   \nPUNCT           0     0     0     0      0     0     0     0    0     0     0   \nSCONJ           0     2     0     0      0     0     0     0    0     0    11   \nSYM             0     0     0     0      0     0     0     5    1     0     0   \nVERB           77     4     3    35      0     0     0    76    0     0     0   \nX               8     1     1     0      0     2     0    11    3     0     2   \nAll          2112  5759  1272  1128    883  5556     3  6686  973     6  1491   \n\nPrédictions  PROPN  PUNCT  SCONJ  SYM  VERB    X    All  \nRéférences                                               \nADJ             38      0      0    0   128    2   2201  \nADP              0      0      3    0     4    7   5751  \nADV              3      0     20    0     3    0   1307  \nAUX              1      0      0    0    37    0   1124  \nCCONJ            0      0      0    0     0    0    884  \nDET              0      0      0    0     0    0   5514  \nINTJ             2      0      0    0     0    0      5  \nNOUN           172      0      0    0    71    9   6729  \nNUM              7      0      0    0     1    0    959  \nPART             0      0      1    0     1    0      9  \nPRON             1      0     22    0     1    0   1542  \nPROPN         2466      0      0    1    10   21   2634  \nPUNCT            0   3804      0    0     0    0   3804  \nSCONJ            0      0    242    0     1    0    256  \nSYM              2      0      0   51     0    2     61  \nVERB             7      0      0    0  2576    3   2781  \nX               49      0      0    2     1   77    157  \nAll           2748   3804    288   54  2834  121  35718  \n"
     ]
    }
   ],
   "source": [
    "# matrice de confusion avec Pandas. source : https://stackoverflow.com/questions/2148543/how-to-write-a-confusion-matrix-in-python\n",
    "import sys\n",
    "import pandas as pd\n",
    "\n",
    "def matrice_confusion(corpus_feat, poids):\n",
    "    predictions = []\n",
    "    gold = []\n",
    "\n",
    "    for word in corpus_feat:\n",
    "        pred = predict(word[0], poids)\n",
    "        predictions.append(pred)\n",
    "        gold.append(word[1])\n",
    "        # if pred != 'PROPN' and word[1] == 'PROPN':\n",
    "        #     with open('filename.txt', 'a', encoding=\"utf-8\") as f:\n",
    "        #         print(f\"{pred} au lieu de PROPN : {word[0]} | la PROPN: {poids_gsd_train['PROPN']['prec - la']} |maj PROPN: {poids_gsd_train['PROPN']['maj']} | le PROPN: {poids_gsd_train['PROPN']['prec - le']}\",file = f)\n",
    "              \n",
    "                \n",
    "    preds = pd.Series((item for item in predictions), name = \"Prédictions\")\n",
    "    refs = pd.Series((item for item in gold), name = \"Références\")\n",
    "    matrice_confusion = pd.crosstab(refs, preds, margins=True)\n",
    "    print(matrice_confusion)\n",
    "\n",
    "matrice_confusion(gsd_dev_features_gold, poids_gsd_train)"
   ]
  },
  {
   "source": [
    "Les erreurs les plus fréquentes sont (> 30 en moyenne):\n",
    "- ADJ au lieu de VERB\n",
    "- ADJ au lieu de NOUN\n",
    "- ADJ au lieu de PROPN \n",
    "- AUX au lieu de VERB\n",
    "- PRON au lieu de DET\n",
    "- NOUN au lieu d'ADJ\n",
    "- NOUN au lieu de PROPN\n",
    "- NOUN au lieu de VERB\n",
    "- PROPN au lieu d'ADJ\n",
    "- PROPN au lieu de NOUN\n",
    "- PROPN au lieu de X\n",
    "- VERB au lieu d'ADJ\n",
    "- VERB au lieu d'AUX\n",
    "- VERB au lieu de NOUN\n",
    "\n",
    "Nous pouvons voir que celles qui reviennent le plus souvent sont les confusions ADJ - NOUN - VERB. En ce qui concerne la confusion entre ces trois catégories, cela est explicable par l'homonymie de suffixes, comme -er qui est autant un suffixe nominal qu'adjectival. Il peut donc parfois être difficile de distinguer un participe présent d'un NOUN ou encore d'un ADJ. Par exemple, \"présente\" ou \"faisant\" selon le contexte restent ambigus. \n",
    "\n",
    "En ce qui concerne la confusion AUX - VERB, cela s'explique tout simplement par le fait qu'un AUX est aussi un VERB. Nous pouvons juste citer \"aurais\" ou \"faire\" pour illustrer ce fait.\n",
    "\n",
    "Lorsque nous nous intéressons à la confusion PRON - DET, nous pouvons voir que les PRON qui ressortent le plus souvent sont principalement \"le\" et \"la\". \n",
    "\n",
    "Là ou cela est plus difficilement explicable, est la confusion avec les PROPN. En effet, nous pourrions penser que le simple fait de dire qu'il y a une majuscule en début de mot fait de celui-ci un PROPN mais cela se révèle plus compliqué. De manière générale, voire systématiquement, le poids alloué à la caractéristique \"majuscule\" est positive dans le cas d'un PROPN, l'explication se situe donc ailleurs. Nous pouvons alors supposer que le poids des caractéristiques pour les NOUN est supérieur à celui pour les PROPN, malgré le poids élevé attribué à la majuscule - cf. exoutput.txt où il y a une comparaison du poids du mot avec trois caractéristiques différentes. Enfin, nous pouvons aussi citer le phénomène d'antonomase, où un nom propre est utilisé en tant que nom, et qui favorise également l'ambiguité."
   ],
   "cell_type": "markdown",
   "metadata": {}
  },
  {
   "source": [
    "### Précision sur mots hors vocabulaire d'apprentissage\n",
    "Comparons la précision sur les mots présents dans le corpus d'apprentissage et ceux absents du corpus d'apprentissage."
   ],
   "cell_type": "markdown",
   "metadata": {}
  },
  {
   "cell_type": "code",
   "execution_count": 89,
   "metadata": {
    "tags": []
   },
   "outputs": [],
   "source": [
    "def getVoc(corpus):\n",
    "    '''Renvoie le vocabulaire (set)'''\n",
    "    voc = set()\n",
    "    for phrase in corpus:\n",
    "        for mot in phrase[\"mots\"]:\n",
    "            voc.add(mot)\n",
    "    return voc\n",
    "\n",
    "def test_hors_voc(features_gold_mot, poids, voc):\n",
    "    \"\"\"Prédit les étiquettes des mots hors vocabulaire et renvoie un taux d'erreur\"\"\"\n",
    "    nb_erreurs_hors_voc = 0\n",
    "    nb_erreurs_in_voc = 0\n",
    "\n",
    "    mots_hors_voc=0\n",
    "    mots_in_voc = 0\n",
    "\n",
    "    for vec, gold, mot in features_gold_mot:\n",
    "        if mot in voc:\n",
    "            mots_in_voc +=1\n",
    "            prediction = predict(vec, poids)\n",
    "            if not gold == \"_\" and not prediction == gold:\n",
    "                nb_erreurs_in_voc +=1\n",
    "        else:\n",
    "            mots_hors_voc +=1\n",
    "            prediction = predict(vec, poids)\n",
    "            if not gold == \"_\" and not prediction == gold:\n",
    "                # print(mot, vec, prediction, gold, sep=\"\\t\", end=\"\\n\")\n",
    "                nb_erreurs_hors_voc +=1\n",
    "\n",
    "\n",
    "    return (nb_erreurs_hors_voc/mots_hors_voc, nb_erreurs_in_voc/mots_in_voc)"
   ]
  },
  {
   "cell_type": "code",
   "execution_count": 33,
   "metadata": {},
   "outputs": [
    {
     "output_type": "stream",
     "name": "stdout",
     "text": [
      "Taux d'erreur hors voc : 17.160%\nTaux d'erreur dans voc : 2.987%\n"
     ]
    }
   ],
   "source": [
    "# nouvelle extraction de features mais avec les mots, pour pouvoir ensuite voir s'ils sont dans le vocabulaire ou pas\n",
    "gsd_dev_features_gold_mot = add_gold(gsd_dev_features, gsd_dev, addMot=True)\n",
    "\n",
    "resultats_test_voc = test_hors_voc(gsd_dev_features_gold_mot, poids_gsd_train, getVoc(gsd_train))\n",
    "\n",
    "print(f\"Taux d'erreur hors voc : {resultats_test_voc[0]:.3%}\")\n",
    "print(f\"Taux d'erreur dans voc : {resultats_test_voc[1]:.3%}\")"
   ]
  },
  {
   "source": [
    "Le taux d'erreur sur les mots non présents dans le vocabulaire d'apprentissage est très élevé tandis que celui sur les mots présents dans le vocabulaire d'apprentissage est très bas. Le perceptron se repose beaucoup sur l'association des mots à leur catégorie grammaticale, par rapport aux autres caractéristiques."
   ],
   "cell_type": "markdown",
   "metadata": {}
  },
  {
   "source": [
    "## Evaluation sur le corpus Test\n",
    "Après un apprentissage avec l'ensemble des caractéristiques et 3 itérations sur le corpus d'apprentissage, on obtient un taux d'erreur de moins de 5% lors de l'évaluation sur le corpus test."
   ],
   "cell_type": "markdown",
   "metadata": {}
  },
  {
   "cell_type": "code",
   "execution_count": 90,
   "metadata": {},
   "outputs": [
    {
     "output_type": "stream",
     "name": "stdout",
     "text": [
      "Taux d'erreur sur corpus d'évaluation in-domaine : 4.112%\n"
     ]
    }
   ],
   "source": [
    "gsd_test_features = feature_extraction(gsd_test)\n",
    "gsd_test_features_gold = add_gold(gsd_test_features, gsd_test)\n",
    "\n",
    "print(f\"Taux d'erreur sur corpus d'évaluation in-domaine : {test(gsd_test_features_gold, poids_gsd_train):.3%}\")"
   ]
  },
  {
   "source": [
    "# Evaluation hors-domaine"
   ],
   "cell_type": "markdown",
   "metadata": {}
  },
  {
   "source": [
    "## Analyse de l'impact du changement de domaine\n",
    "* identifier causes de la baisse de performance : analyse de sortie, matrice de confusion, erreurs les + fréquentes\n",
    "* réfléchir à des caractéristiques plus adaptées\n",
    "* sélection d'un nouvel ensemble d'apprentissage avec des exemples représentatif (généré par un modèle de langue type TP2)"
   ],
   "cell_type": "markdown",
   "metadata": {}
  },
  {
   "source": [
    "### Corpus oral"
   ],
   "cell_type": "markdown",
   "metadata": {}
  },
  {
   "cell_type": "code",
   "execution_count": 91,
   "metadata": {
    "tags": []
   },
   "outputs": [
    {
     "output_type": "stream",
     "name": "stdout",
     "text": [
      "Taux d'erreur sur corpus d'évaluation hors domaine (oral) : 12.840%\n"
     ]
    }
   ],
   "source": [
    "oral_dev = load_corpus(\"corpus-hors-domaine/spoken/fr_spoken-ud-dev.conllu\")\n",
    "oral_dev_features = feature_extraction(oral_dev)\n",
    "oral_dev_features_gold = add_gold(oral_dev_features, oral_dev)\n",
    "\n",
    "print(f\"Taux d'erreur sur corpus d'évaluation hors domaine (oral) : {test(oral_dev_features_gold, poids_gsd_train):.3%}\")"
   ]
  },
  {
   "cell_type": "code",
   "execution_count": 83,
   "metadata": {},
   "outputs": [
    {
     "output_type": "stream",
     "name": "stdout",
     "text": [
      "Prédictions  ADJ   ADP   ADV  AUX  CCONJ   DET  INTJ  NOUN  NUM  PRON  PROPN  \\\nRéférences                                                                     \nADJ          355     0    10    0      0     2     0    15    0     1      0   \nADP            1  1121     2    0      0     5     0     4    0     9      0   \nADV           20     8   845    0      0     3     0     7    0     1      1   \nAUX            0     0     0  521      0     0     0     1    0     0      0   \nCCONJ          0     0     8    1    319     0     0     0    0     0      0   \nDET            5     0     1    0      2  1120     0     4    3    39      0   \nINTJ          96     3    35   16      0    16    19   124    1    55      0   \nNOUN          33     0    30    0      0     0     0  1322    1     2      0   \nNUM            1     0     0    0      0     2     0     6   87     0      0   \nPRON          29     1    34    0      0    15     0     5    1  1497      0   \nPROPN          0     0     0    0      0     1     0    13    0     0    222   \nSCONJ          0     3    48    0      0     0     0     0    0    12      0   \nVERB          18     0     2   70      0     0     0    27    0     7      0   \nX              0     2     0    0      0     0     0     3    0     9      0   \nAll          558  1138  1015  608    321  1164    19  1531   93  1632    223   \n\nPrédictions  PUNCT  SCONJ  SYM  VERB   X    All  \nRéférences                                       \nADJ              0      0    0    29   1    413  \nADP              1      0    0     2   0   1145  \nADV              5      4    0     3   3    900  \nAUX              0      0    0    21   0    543  \nCCONJ            0      0    0     0   0    328  \nDET              0      0    0     9   0   1183  \nINTJ             0     27    2   158  50    602  \nNOUN             1      0    0    38   1   1428  \nNUM              1      0    0     5   1    103  \nPRON             9     19    0     5   0   1615  \nPROPN            0      0    0     0   7    243  \nSCONJ            0    239    0     0   0    302  \nVERB             4      1    0  1103   2   1234  \nX                7      1    1     0   0     23  \nAll             28    291    3  1373  65  10062  \n"
     ]
    }
   ],
   "source": [
    "matrice_confusion(oral_dev_features_gold, poids_gsd_train)"
   ]
  },
  {
   "source": [
    "Les confusions les plus fréquentes sont : \n",
    "- ADJ au lieu de INTJ\n",
    "- ADJ au lieu de NOUN\n",
    "- ADV au lieu de NOUN\n",
    "- ADV au lieu de PRON\n",
    "- ADV au lieu de SCONJ\n",
    "- AUX au lieu de VERB\n",
    "- NOUN au lieu de INTJ\n",
    "- NOUN au lieu de VERB\n",
    "- PRON au lieu de INTJ\n",
    "- VERB au lieu de ADV\n",
    "- VERB au lieu de INTJ\n",
    "- VERB au lieu de NOUN\n",
    "- X au lieu de INTJ\n",
    "\n",
    "Si certaines confusions ont pu être expliquées lors de l'analyse du corpus de test, notamment la confusion ADJ - NOUN - VERB, nous pouvons noter qu'une nouvelle confusion est prédominante : INTJ. Cela peut de prime abord s'expliquer par le caractère oral du corpus, qui retranscrit fidèlement les tics de langages que nous pouvons avoir à l'oral et qui s'apparentent donc à des interjections. Par exemple, \"euh\" qui revient pour quasiment chaque étiquette mal prédite. De fait, ces interjections peuvent prendre une nouvelle \"réalité\" pour notre perceptron, qui les associe donc à des mots à part entière, avec un rôle sémantique. Cela met en lumière l'une des limites de notre perceptron, qui n'arrive pas réellement à distinguer le fait que ces interjections soient négligeables. Il pourrait donc être intéressant d'ajouter de nouvelles caractéristiques pour traiter de ce cas là.\n",
    "\n",
    "Pour les ADV, ce qui en ressort est principalement la confusion avec \"parce\" qui est aussi un terme assez usité à l'oral là où il y aura plus de variations l'écrit, avec \"car\" par exemple."
   ],
   "cell_type": "markdown",
   "metadata": {}
  },
  {
   "source": [
    "### Corpus vieux français"
   ],
   "cell_type": "markdown",
   "metadata": {}
  },
  {
   "cell_type": "code",
   "execution_count": 85,
   "metadata": {},
   "outputs": [
    {
     "output_type": "stream",
     "name": "stdout",
     "text": [
      "Taux d'erreur sur corpus d'évaluation hors domaine (oral) : 50.311%\n"
     ]
    }
   ],
   "source": [
    "old_dev = load_corpus(\"corpus-hors-domaine/old/fro_srcmf-ud-dev.conllu\")\n",
    "old_dev_features = feature_extraction(old_dev)\n",
    "old_dev_features_gold = add_gold(old_dev_features, old_dev)\n",
    "\n",
    "print(f\"Taux d'erreur sur corpus d'évaluation hors domaine (oral) : {test(old_dev_features_gold, poids_gsd_train):.3%}\")"
   ]
  },
  {
   "cell_type": "code",
   "execution_count": 87,
   "metadata": {},
   "outputs": [
    {
     "output_type": "stream",
     "name": "stdout",
     "text": [
      "Prédictions   ADJ   ADP  ADV  AUX  CCONJ   DET  INTJ  NOUN  NUM  PART  PRON  \\\nRéférences                                                                    \nADJ           373     2    3    1      0     2     0   119    0     0     4   \nADP           109   947    3  279      6    53     0    14    8     0     7   \nADV           157   132  743   10     62    42     1   104  128     0   157   \nAUX           133     4   11  345      0     0     0   133    0     0    13   \nCCONJ           0     1   72    1    647    16     3    16    0     0     4   \nDET           106     1    8   21      0   897     0   122    2     1    46   \nINTJ            0     0    0    0      0     1     0     0    0     0     0   \nNOUN          788     3   31    6      3     4     6  1392    0     0    22   \nNUM            29     0    0    0      0     4     0    21    9     0     0   \nPRON          106     3   17   36     11   350     0   121    5     0  1133   \nPROPN           0     0    0    0      0     0     0     2    0     0     0   \nSCONJ          18     4   65    0      1     2     0     1    0     0   123   \nVERB          768    21    5  166      1     6     2   532    8     0    22   \nAll          2587  1118  958  865    731  1377    12  2577  160     1  1531   \n\nPrédictions  PROPN  PUNCT  SCONJ  SYM  VERB    X    All  \nRéférences                                               \nADJ             42      0      0    0   114   21    681  \nADP             47      0      0    0   103  128   1704  \nADV            127      0    207    1   176   56   2103  \nAUX              6      0      4    0   166   39    854  \nCCONJ           10      0      3    3    20   61    857  \nDET            104      7      6    0    79  248   1648  \nINTJ            13      0      0    0     0    1     15  \nNOUN           134      0      1    0   325  101   2816  \nNUM             23      0      0    0     5    9    100  \nPRON           149      9     77    4   208  186   2415  \nPROPN          614      0      0    0    13    3    632  \nSCONJ           26      2    275    0    17   10    544  \nVERB           131      0      6    0  1252   73   2993  \nAll           1426     18    579    8  2478  936  17362  \n"
     ]
    }
   ],
   "source": [
    "matrice_confusion(old_dev_features_gold, poids_gsd_train)"
   ]
  },
  {
   "source": [
    "Il ne serait pas pertinent de parler des confusions les plus fréquentes dans le cas du vieux français puisque nous pouvons noter que dans certains cas, une mauvaise prédiction est supérieure à la bonne prédiction. Par exemple, le nombre d'ADJ bien prédit est inférieur à la mauvaise prédiction ADJ au lieu d'un NOUN. \n",
    "Cela s'explique tout simplement par le fait que la langue n'est pas identique au français standard, langue sur laquelle nous avons entrainé notre perceptron. Les caractéristiques choisies ne sont donc pas pertinentes pour le vieux français et il faudrait en définir de nouvelles pour avoir des résultats quoi soient satisfaisants. \n",
    "Tester notre perceptron sur du hors domaine met ainsi la lumière sur ses limites.    "
   ],
   "cell_type": "markdown",
   "metadata": {}
  },
  {
   "source": [
    "## Développement de systèmes robutes au changement de domaine"
   ],
   "cell_type": "markdown",
   "metadata": {}
  },
  {
   "cell_type": "code",
   "execution_count": null,
   "metadata": {},
   "outputs": [],
   "source": []
  }
 ]
}