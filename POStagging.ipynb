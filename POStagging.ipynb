{
 "metadata": {
  "language_info": {
   "codemirror_mode": {
    "name": "ipython",
    "version": 3
   },
   "file_extension": ".py",
   "mimetype": "text/x-python",
   "name": "python",
   "nbconvert_exporter": "python",
   "pygments_lexer": "ipython3",
   "version": "3.8.6-final"
  },
  "orig_nbformat": 2,
  "kernelspec": {
   "name": "python3",
   "display_name": "Python 3",
   "language": "python"
  }
 },
 "nbformat": 4,
 "nbformat_minor": 2,
 "cells": [
  {
   "source": [
    "# Projet TAL M1 S1 : POS Tagging\n",
    "structure du projet expliqué ici : https://u-paris.zoom.us/rec/share/rFB-gp7vkgMK31kfPxEsyNF2k6q7mHcq3P9MQiovimkr9ebIewZpuD62RBk6SmM.31Mmzx1VyMqQXRtu?startTime=1607605609000"
   ],
   "cell_type": "markdown",
   "metadata": {}
  },
  {
   "source": [
    "# Implémentation du classifieur"
   ],
   "cell_type": "markdown",
   "metadata": {}
  },
  {
   "source": [
    "## Import du corpus\n",
    "Cours Zoom du 17/12 - 35 min\n",
    "\n",
    "On charge les trois corpus *in-domain* sous la forme de listes de dictionnaires : chaque phrase a une clé \"mots\" qui est associée à une liste des mots, et une clé \"POS\" associée à une liste de POS. \n",
    "\n",
    "On utilise les trois corpus distincts de French-GSD :\n",
    "- Train : apprentissage.\n",
    "- Dev : validation. Pour tester et améliorer le modèle. \n",
    "- Test : évaluation. On ne l'utilisera pas pendant l'apprentissage ou le test."
   ],
   "cell_type": "markdown",
   "metadata": {}
  },
  {
   "cell_type": "code",
   "execution_count": 9,
   "metadata": {},
   "outputs": [],
   "source": [
    "# clés des dictionnaires\n",
    "mot = \"mot\"\n",
    "gold = \"gold_label\"\n",
    "mot_prec = \"préc\"\n",
    "mot_suiv = \"suiv\"\n",
    "maj = \"maj\"\n",
    "num = \"nb\"\n",
    "nonAlphanum = \"non alphanum\"\n",
    "long = \"long\"\n",
    "court = \"court\"\n",
    "un_car = \"un caractère\"\n",
    "suff_adv = \"suffixe adv\"\n",
    "suff_vb = \"suffixe verb\"\n",
    "suff_noun = \"suffixe nom\"\n",
    "suff_adj = \"suffixe adj\"\n"
   ]
  },
  {
   "cell_type": "code",
   "execution_count": 10,
   "metadata": {
    "tags": []
   },
   "outputs": [],
   "source": [
    "# j'ai juste rajouté l'encodage car j'avais une erreur sans \n",
    "\n",
    "def load_corpus(file):\n",
    "    with open(file, \"r\", encoding = \"utf8\") as f: \n",
    "        content = f.read() # chargement du corpus\n",
    "    content = content.split(\"\\n\\n\") # séparation en phrases\n",
    "    corpus = []\n",
    "    for phrase in content: # pour chaque phrase\n",
    "        phrase_dico = {\"mots\" : [], \"gold_labels\" : [], \"lemme\" : []} # liste qui contiendra 1 dictionnaire par mot de la phrase\n",
    "        for line in phrase.splitlines():\n",
    "            if not line.startswith(\"#\"): # on ignore les lignes qui commencent par #\n",
    "                features = line.split(\"\\t\")\n",
    "                phrase_dico[\"mots\"].append(features[1])\n",
    "                phrase_dico[\"lemme\"].append(features[2])\n",
    "                phrase_dico[\"gold_labels\"].append(features[3])\n",
    "        corpus.append(phrase_dico)\n",
    "    return corpus\n",
    "\n",
    "gsd_train = load_corpus(\"corpus-in-domain/fr_gsd-ud-train.conllu\")\n",
    "gsd_test = load_corpus(\"corpus-in-domain/fr_gsd-ud-test.conllu\")\n",
    "gsd_dev = load_corpus(\"corpus-in-domain/fr_gsd-ud-dev.conllu\")"
   ]
  },
  {
   "cell_type": "code",
   "execution_count": 11,
   "metadata": {},
   "outputs": [
    {
     "output_type": "stream",
     "name": "stdout",
     "text": [
      "---- Aperçus d'une phrase de chaque corpus-----\n\n{'mots': [\"L'\", 'œuvre', 'est', 'située', 'dans', 'la', 'galerie', 'des', 'de', 'les', 'batailles', ',', 'dans', 'le', 'château', 'de', 'Versailles', '.'], 'gold_labels': ['DET', 'NOUN', 'AUX', 'VERB', 'ADP', 'DET', 'NOUN', '_', 'ADP', 'DET', 'NOUN', 'PUNCT', 'ADP', 'DET', 'NOUN', 'ADP', 'PROPN', 'PUNCT'], 'lemme': ['le', 'œuvre', 'être', 'situer', 'dans', 'le', 'galerie', '_', 'de', 'le', 'bataille', ',', 'dans', 'le', 'château', 'de', 'Versailles', '.']}\n\n{'mots': ['La', 'gestion', 'et', \"l'\", 'exploitation', 'de', 'la', 'salle', 'de', 'concert', 'Wagram', ',', 'récemment', 'rénovée', ',', 'sera', 'assurée', 'par', 'Eurosites', ',', 'leader', 'en', 'France', 'de', 'la', 'location', 'de', 'salles', '.'], 'gold_labels': ['DET', 'NOUN', 'CCONJ', 'DET', 'NOUN', 'ADP', 'DET', 'NOUN', 'ADP', 'NOUN', 'PROPN', 'PUNCT', 'ADV', 'VERB', 'PUNCT', 'AUX', 'VERB', 'ADP', 'PROPN', 'PUNCT', 'NOUN', 'ADP', 'PROPN', 'ADP', 'DET', 'NOUN', 'ADP', 'NOUN', 'PUNCT'], 'lemme': ['le', 'gestion', 'et', 'le', 'exploitation', 'de', 'le', 'salle', 'de', 'concert', 'Wagram', ',', 'récemment', 'rénover', ',', 'être', 'assurer', 'par', 'Eurosites', ',', 'leader', 'en', 'France', 'de', 'le', 'location', 'de', 'salle', '.']}\n\n{'mots': ['Cette', 'espèce', 'est', 'endémique', 'du', 'de', 'le', 'département', 'de', 'Nariño', 'en', 'Colombie', '.'], 'gold_labels': ['DET', 'NOUN', 'AUX', 'ADJ', '_', 'ADP', 'DET', 'NOUN', 'ADP', 'PROPN', 'ADP', 'PROPN', 'PUNCT'], 'lemme': ['ce', 'espèce', 'être', 'endémique', '_', 'de', 'le', 'département', 'de', 'Nariño', 'en', 'Colombie', '.']}\n"
     ]
    }
   ],
   "source": [
    "print(\"---- Aperçus d'une phrase de chaque corpus-----\", end=\"\\n\\n\")\n",
    "print(gsd_train[1], end=\"\\n\\n\")\n",
    "print(gsd_test[102], end=\"\\n\\n\")\n",
    "print(gsd_dev[564])"
   ]
  },
  {
   "source": [
    "## Extraction des caractéristiques\n",
    "\n",
    "La fonction feature_extraction renvoie une liste de dictionnaires (un par mot) qui contiennent les caractéristiques suivantes pour chaque mot :\n",
    "- mot\n",
    "- mot précédent : pour le premier mot de la phrase son mot précédent sera \"START\", ce qui permettra de prendre en compte la caractéristique \"être le premier mot\".\n",
    "- mot suivant : pour le dernier mot, ce sera \"END\".\n",
    "- commence par une lettre majuscule\n",
    "- est numérique\n",
    "- contient des caractères non alphanumériques\n",
    "- longueur du mot : redéfinir 3 caractéristiques booléens/binaires : a 1 seule caractère, a moins de 3 caractères, a plus de 3 caractères.\n",
    "- a un suffixe nominal\n",
    "- a un suffixe adjectival\n",
    "- a un suffixe verbal (ça marche que sur les lemmes !)\n",
    "- a un suffixe adverbial (là ça marche sur la forme fléchie)\n",
    "\n",
    "Met-on dans les listes les suffixes qui appartiennent à 2 catégories ?\n",
    "Peut-on utiliser les lemmes ?\n",
    "\n",
    "On pourrait ajouter des suffixes aussi. Par exemple une feature pourrait être \"finir en -ment\", une autre suffi_nominaux (-al, -ion, etc.), etc. \n",
    "On est confrontées à un problème d'homonymie avec certains suffixes. Par exemple, -ains dans certains (pronom) et hautains (adj). A voir comment gérer ça. \n",
    "\n",
    "On ne conserve plus la structure des phrases, qui n'est plus nécessaire une fois qu'on a extrait les informations comme mot précédent et mot suivant."
   ],
   "cell_type": "markdown",
   "metadata": {}
  },
  {
   "cell_type": "code",
   "execution_count": 12,
   "metadata": {
    "tags": []
   },
   "outputs": [],
   "source": [
    "def feature_extraction(corpus):\n",
    "\n",
    "    corpus_features = []\n",
    "    \"\"\"\n",
    "    Listes à utiliser pour les lemmes :\n",
    "    list_adj = [\"ain\", \"aine\",\"aire\",\"é\", \"ée\",\"iel\", \"uel\", \"lle\",  \"al\", \"ales\", \"al\", \"ial\",\"er\", \"ère\", \"ier\", \"esque\", \"eur\", \"euse\", \"ieux\",\"ueux\", \"if\",\"ive\", \"in\",\"ine\",\"ique\",\"atoire\", \"u\",\"ue\", \"issime\", \"able\",\"ible\", \"uble\", \"ième\",\"uple\"]\n",
    "    list_noun = [\"ade\", \"age\",\"aille\", \"aison\", \"ison\",\"oison\", \"ation\", \"ition\",\"ssion\", \"sion\",\"xion\", \"isation\",\"ment\", \"ement\",\"erie\", \"ure\",\"ature\",\"at\", \"ance\",\"ence\", \"escence\",\"ité\", \"eté\",\"té\", \"ie\",\"erie\", \"esse\",\"ise\", \"eur\",\"isme\", \"iste\", \"seur\", \"isseur\", \"isateur\", \"euse\",\"isseuse\", \"atrice\",\"ier\",\"ière\", \"aire\",\"ien\", ienne\",\"iste\",er\",\"eron\",\"eronne\",\"trice\",\"oir\", \"oire\",\"ier\",\"ière\",\"erie\",\"anderie\", \"aire\",\"ain\",\"aille\", \"ée\", \"ard\",\"asse\", \"assier\",\"âtre\",\"aut\",\"eau\",\"ceau\", \"ereau\",\"eteau\", \"elle\", \"et\",\"elet\",\"ette\", \n",
    "\"elette\",\"in\",\"otin\", \"ine\" \"illon\",\"on\", \"ille\", \"erole\",\"ole\",\"iche\"]\n",
    "    \"\"\"\n",
    "\n",
    "    list_vb = [\"iser\",\"ifier\", \"oyer\",\"ailler\", \"asser\",\"eler\", \"eter\",\"iller\", \"iner\",\"nicher\", \"ocher\",\"onner\",\"otter\",\"oter\", \"ouiller\"]\n",
    "    list_adj = [\"ain\", \"aine\",\"ains\", \"aines\",\"aire\", \"aires\",\"é\", \"ée\",\"ées\", \"és\",\"iel\", \"iels\",\"uel\", \"uels\", \n",
    "\"lle\", \"lles\",\"els\", \"el\" \"al\", \"ales\", \"al\", \"ial\", \"aux\",\"iaux\", \"er\",\"ers\", \"ère\",\"ères\", \"ier\", \"iers\",      \"esque\",\"esques\", \"eur\",\"eurs\", \"euse\",\"euses\", \"ieux\",\"ueux\", \"if\", \"ifs\",\"ive\", \"ives\",\"in\", \"ins\",\"ine\",      \"ines\",\"iques\", \"ique\",\"atoire\", \"u\",\"ue\", \"us\",\"ues\", \"issime\",\"issimes\",\"able\",\"ible\", \"ibles\",\"ables\",  \n",
    "    \"uble\",\"ubles\", \"ième\",\"ièmes\", \"uple\"]\n",
    "    list_noun = [\"ade\", \"ades\", \"age\", \"ages\",\"aille\", \"ailles\", \"aison\", \"ison\", \"isons\",\"oison\", \"ation\", \"itions\", \"ition\", \"ssion\", \"sion\",\"xion\", \"isation\",\"ment\", \"ement\",\"erie\", \"eries\",\"ure\",\"ures\",\"ature\", \"atures\",\"at\", \"ance\",\"ence\", \"escence\",\"ité\", \"eté\",\"té\", \"ie\",\"erie\", \"esse\", \"ise\", \"eur\",\"isme\", \"iste\", \"istes\",\"eurs\", \"seur\",\"seurs\", \"isseur\",\"isseurs\", \"isateur\",\"euse\", \"euses\",\"isseuse\", \"isseuses\",       \"atrice\", \"atrices\",\"ier\", \"iers\",\"ière\", \"ières\",\"aire\",\"aires\",\"ien\", \"iens\",\"ienne\", \"iennes\",\"iste\",         \"istes\",\"er\", \"ers\",\"eron\", \"erons\",\"eronne\",\"trice\",\"oir\", \"oire\",\"oires\", \"oirs\",\"ier\", \"iers\",\"ière\",         \"ières\",\"erie\",\"eries\",\"anderie\",\"aire\", \"aires\",\"ain\", \"aines\", \"ée\",\"ées\",\"aille\", \"ard\",\"asse\", \"asses\", \"assier\",\"âtre\",\"aut\",\"eau\", \"eaux\",\"ceau\", \"ereau\",\"eteau\", \"elle\",\"elles\", \"et\",\"elet\",\"ets\",\"ette\",\"elette\",\"ettes\", \"elettes\",\"in\", \"ins\",\"otin\", \"ine\",\"ines\", \"illon\",\"on\",\"ons\",\"ille\", \"erole\",\"eroles\", \"ole\",\"oles\", \"iche\"]\n",
    "\n",
    "    for phrase in corpus: # ajout des features additionnelles\n",
    "        for prev, word, suiv in zip([\"START\"] + phrase[\"mots\"][:-1], phrase[\"mots\"], phrase[\"mots\"][1:] + [\"END\"]):\n",
    "            # création de triplets (mot précédent, mot, mot suivant)\n",
    "            # avec \"START\" en prev pour le 1er mot\n",
    "            # et \"END\" en suiv pour le dernier\n",
    "\n",
    "            lemma = phrase[\"lemme\"][phrase[\"mots\"].index(word)] \n",
    "\n",
    "            # ajout d'un dictionnaire de features du mot au corpus\n",
    "            corpus_features.append({mot : word, \n",
    "                gold : phrase[\"gold_labels\"][phrase[\"mots\"].index(word)], # on récupère le gold_label correspondant\n",
    "                mot_prec : prev,\n",
    "                mot_suiv : suiv,\n",
    "                num : word.isnumeric(),\n",
    "                nonAlphanum : not word.isalnum(),\n",
    "                long : len(word) < 3,\n",
    "                court : len(word) >= 3,\n",
    "                un_car : len(word) == 1,\n",
    "                suff_adv : word.endswith(\"ment\"),\n",
    "                suff_noun : any(word.endswith(elem) and len(word) != len(elem) for elem in list_noun),\n",
    "                suff_adj : any(word.endswith(elem) and len(word) != len(elem) for elem in list_adj),\n",
    "                suff_vb : any(word.endswith(elem) for elem in list_vb)\n",
    "                # on vérifie la longueur du mot pour être sûr que ce soit un suffixe car on peut avoir le mot                      age avec le suffixe age par exemple ou bien aux\n",
    "                # suff_noun : any(lemma.endswith(elem) and len(word) != len(elem) for elem in list_noun),\n",
    "                # suff_adj : any(lemma.endswith(elem) for elem in list_adj),\n",
    "                # suff_vb : any(lemma.endswith(elem) for elem in list_vb)\n",
    "                \n",
    "                })\n",
    "\n",
    "    return corpus_features # renvoie les features transformés en vecteurs one-hot\n",
    "\n",
    "\n",
    "gsd_train_features = feature_extraction(gsd_train)\n",
    "gsd_dev_features = feature_extraction(gsd_dev)\n",
    "gsd_test_features = feature_extraction(gsd_test)"
   ]
  },
  {
   "cell_type": "code",
   "execution_count": 13,
   "metadata": {},
   "outputs": [
    {
     "output_type": "stream",
     "name": "stdout",
     "text": [
      "{'mot': 'Les', 'gold_label': 'DET', 'préc': 'START', 'suiv': 'commotions', 'nb': False, 'non alphanum': False, 'long': False, 'court': True, 'un caractère': False, 'suffixe adv': False, 'suffixe nom': False, 'suffixe adj': False, 'suffixe verb': False}\n{'mot': 'commotions', 'gold_label': 'NOUN', 'préc': 'Les', 'suiv': 'cérébrales', 'nb': False, 'non alphanum': False, 'long': False, 'court': True, 'un caractère': False, 'suffixe adv': False, 'suffixe nom': True, 'suffixe adj': False, 'suffixe verb': False}\n{'mot': 'cérébrales', 'gold_label': 'ADJ', 'préc': 'commotions', 'suiv': 'sont', 'nb': False, 'non alphanum': False, 'long': False, 'court': True, 'un caractère': False, 'suffixe adv': False, 'suffixe nom': False, 'suffixe adj': True, 'suffixe verb': False}\n{'mot': 'sont', 'gold_label': 'AUX', 'préc': 'cérébrales', 'suiv': 'devenu', 'nb': False, 'non alphanum': False, 'long': False, 'court': True, 'un caractère': False, 'suffixe adv': False, 'suffixe nom': False, 'suffixe adj': False, 'suffixe verb': False}\n{'mot': 'devenu', 'gold_label': 'VERB', 'préc': 'sont', 'suiv': 'si', 'nb': False, 'non alphanum': False, 'long': False, 'court': True, 'un caractère': False, 'suffixe adv': False, 'suffixe nom': False, 'suffixe adj': True, 'suffixe verb': False}\n{'mot': 'si', 'gold_label': 'ADV', 'préc': 'devenu', 'suiv': 'courantes', 'nb': False, 'non alphanum': False, 'long': True, 'court': False, 'un caractère': False, 'suffixe adv': False, 'suffixe nom': False, 'suffixe adj': False, 'suffixe verb': False}\n{'mot': 'courantes', 'gold_label': 'ADJ', 'préc': 'si', 'suiv': 'dans', 'nb': False, 'non alphanum': False, 'long': False, 'court': True, 'un caractère': False, 'suffixe adv': False, 'suffixe nom': False, 'suffixe adj': False, 'suffixe verb': False}\n{'mot': 'dans', 'gold_label': 'ADP', 'préc': 'courantes', 'suiv': 'ce', 'nb': False, 'non alphanum': False, 'long': False, 'court': True, 'un caractère': False, 'suffixe adv': False, 'suffixe nom': False, 'suffixe adj': False, 'suffixe verb': False}\n{'mot': 'ce', 'gold_label': 'DET', 'préc': 'dans', 'suiv': 'sport', 'nb': False, 'non alphanum': False, 'long': True, 'court': False, 'un caractère': False, 'suffixe adv': False, 'suffixe nom': False, 'suffixe adj': False, 'suffixe verb': False}\n{'mot': 'sport', 'gold_label': 'NOUN', 'préc': 'ce', 'suiv': \"qu'\", 'nb': False, 'non alphanum': False, 'long': False, 'court': True, 'un caractère': False, 'suffixe adv': False, 'suffixe nom': False, 'suffixe adj': False, 'suffixe verb': False}\n364349\n"
     ]
    }
   ],
   "source": [
    "print(*gsd_train_features[:10], sep=\"\\n\")\n",
    "print(len(gsd_train_features))"
   ]
  },
  {
   "source": [
    "## Implémentation de l'algorithme de classification\n",
    "On a choisi d'implémenter la classification avec un perceptron moyenné.\n",
    "\n",
    "Etiquettes du corpus : ADJ, ADP, ADV, AUX, CCONJ, DET, INTJ, NOUN, NUM, PART, PRON, PROPN, PUNCT, SCONJ, SYM, VERB, X\n",
    "\n",
    "Sources : cours 3/12 + perceptron.pdf + zoom du 17/12\n",
    "\n",
    "Je comprends pas comment on doit gérer les mots : comment on peut les ajouter ou les enlever de nos vecteurs ?!"
   ],
   "cell_type": "markdown",
   "metadata": {}
  },
  {
   "cell_type": "code",
   "execution_count": 14,
   "metadata": {},
   "outputs": [
    {
     "output_type": "error",
     "ename": "NameError",
     "evalue": "name 'shuffle' is not defined",
     "traceback": [
      "\u001b[0;31m---------------------------------------------------------------------------\u001b[0m",
      "\u001b[0;31mNameError\u001b[0m                                 Traceback (most recent call last)",
      "\u001b[0;32m<ipython-input-14-75e1e9f9df98>\u001b[0m in \u001b[0;36m<module>\u001b[0;34m\u001b[0m\n\u001b[1;32m     24\u001b[0m     \u001b[0;32mreturn\u001b[0m \u001b[0ma\u001b[0m\u001b[0;34m\u001b[0m\u001b[0;34m\u001b[0m\u001b[0m\n\u001b[1;32m     25\u001b[0m \u001b[0;34m\u001b[0m\u001b[0m\n\u001b[0;32m---> 26\u001b[0;31m \u001b[0mpoids_gsd_train\u001b[0m \u001b[0;34m=\u001b[0m \u001b[0mperceptron_train\u001b[0m\u001b[0;34m(\u001b[0m\u001b[0mgsd_train_features\u001b[0m\u001b[0;34m)\u001b[0m\u001b[0;34m\u001b[0m\u001b[0;34m\u001b[0m\u001b[0m\n\u001b[0m",
      "\u001b[0;32m<ipython-input-14-75e1e9f9df98>\u001b[0m in \u001b[0;36mperceptron_train\u001b[0;34m(training_set, MAX_EPOCH)\u001b[0m\n\u001b[1;32m      9\u001b[0m     \u001b[0;32mfor\u001b[0m \u001b[0mi\u001b[0m \u001b[0;32min\u001b[0m \u001b[0mrange\u001b[0m\u001b[0;34m(\u001b[0m\u001b[0;36m0\u001b[0m\u001b[0;34m,\u001b[0m \u001b[0mMAX_EPOCH\u001b[0m\u001b[0;34m)\u001b[0m\u001b[0;34m:\u001b[0m\u001b[0;34m\u001b[0m\u001b[0;34m\u001b[0m\u001b[0m\n\u001b[1;32m     10\u001b[0m         \u001b[0mw\u001b[0m \u001b[0;34m=\u001b[0m \u001b[0;34m[\u001b[0m\u001b[0;34m[\u001b[0m\u001b[0;36m0\u001b[0m\u001b[0;34m]\u001b[0m\u001b[0;34m*\u001b[0m\u001b[0mlen\u001b[0m\u001b[0;34m(\u001b[0m\u001b[0mtraining_set\u001b[0m\u001b[0;34m[\u001b[0m\u001b[0;36m0\u001b[0m\u001b[0;34m]\u001b[0m\u001b[0;34m)\u001b[0m \u001b[0;32mfor\u001b[0m \u001b[0mtag\u001b[0m \u001b[0;32min\u001b[0m \u001b[0mtags\u001b[0m\u001b[0;34m]\u001b[0m \u001b[0;31m# initialisé du vecteur de poids\u001b[0m\u001b[0;34m\u001b[0m\u001b[0;34m\u001b[0m\u001b[0m\n\u001b[0;32m---> 11\u001b[0;31m         \u001b[0mshuffled_set\u001b[0m \u001b[0;34m=\u001b[0m \u001b[0mshuffle\u001b[0m\u001b[0;34m(\u001b[0m\u001b[0mtraining_set\u001b[0m\u001b[0;34m.\u001b[0m\u001b[0mcopy\u001b[0m\u001b[0;34m(\u001b[0m\u001b[0;34m)\u001b[0m\u001b[0;34m)\u001b[0m \u001b[0;31m# on mélange le training set\u001b[0m\u001b[0;34m\u001b[0m\u001b[0;34m\u001b[0m\u001b[0m\n\u001b[0m\u001b[1;32m     12\u001b[0m \u001b[0;34m\u001b[0m\u001b[0m\n\u001b[1;32m     13\u001b[0m         \u001b[0;32mfor\u001b[0m \u001b[0mphrase\u001b[0m \u001b[0;32min\u001b[0m \u001b[0mshuffled_set\u001b[0m\u001b[0;34m:\u001b[0m\u001b[0;34m\u001b[0m\u001b[0;34m\u001b[0m\u001b[0m\n",
      "\u001b[0;31mNameError\u001b[0m: name 'shuffle' is not defined"
     ]
    }
   ],
   "source": [
    "def perceptron_train(training_set, MAX_EPOCH=10):\n",
    "    \n",
    "    tags = [\"ADJ\", \"ADP\", \"ADV\", \"AUX\", \"CCONJ\", \"DET\", \"INTJ\", \"NOUN\", \"NUM\", \"PART\", \"PRON\", \"PROPN\", \"PUNCT\", \"SCONJ\", \"SYM\", \"VERB\", \"X\"]\n",
    "\n",
    "    # TODO initialisation des poids : à zéros ou bien de manière aléatoire ??\n",
    "    a = [[0]*len(training_set[0]) for tag in tags] # poids moyennés\n",
    "    # un vecteur de poids par classe - plutôt un dictionnaire ? FIXME\n",
    "\n",
    "    for i in range(0, MAX_EPOCH):\n",
    "        w = [[0]*len(training_set[0]) for tag in tags] # initialisé du vecteur de poids\n",
    "        shuffled_set = shuffle(training_set.copy()) # on mélange le training set\n",
    "\n",
    "        for phrase in shuffled_set:\n",
    "            for word in phrase:\n",
    "                prediction = max()\n",
    "                # on cherche le tag le plus probable... mais comment ?... \n",
    "                \n",
    "                # on compare avec le gold_label\n",
    "                # si mauvaise prédiction\n",
    "                    #  on ajoute x(i) à chaque poids de l'étiquette correcte\n",
    "                    #  on retire x(i) à chaque poids de l'étiquette mal prédite\n",
    "\n",
    "        # on ajoute w à a\n",
    "    return a\n",
    "\n",
    "poids_gsd_train = perceptron_train(gsd_train_features)"
   ]
  },
  {
   "source": [
    "## Evaluation des performances sur le corpus de validation (Dev)\n",
    "Il faudra bien tester les hyper paramètres (epoch...)"
   ],
   "cell_type": "markdown",
   "metadata": {}
  },
  {
   "source": [
    "## Evaluation sur le corpus Test"
   ],
   "cell_type": "markdown",
   "metadata": {}
  },
  {
   "source": [
    "# Evaluation hors-domaine"
   ],
   "cell_type": "markdown",
   "metadata": {}
  },
  {
   "source": [
    "## Analyse de l'impact du changement de domaine\n",
    "* identifier causes de la baisse de performance : analyse de sortie, matrice de confusion, erreurs les + fréquentes\n",
    "* réfléchir à des caractéristiques plus adaptées\n",
    "* sélection d'un nouvel ensemble d'apprentissage avec des exemples représentatif (généré par un modèle de langue type TP2)"
   ],
   "cell_type": "markdown",
   "metadata": {}
  },
  {
   "source": [
    "### Corpus UGC (User-generated content)"
   ],
   "cell_type": "markdown",
   "metadata": {}
  },
  {
   "source": [
    "### Corpus littéraire"
   ],
   "cell_type": "markdown",
   "metadata": {}
  },
  {
   "source": [
    "## Développement de systèmes robutes au changement de domaine"
   ],
   "cell_type": "markdown",
   "metadata": {}
  }
 ]
}