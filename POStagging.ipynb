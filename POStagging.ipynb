{
 "metadata": {
  "language_info": {
   "codemirror_mode": {
    "name": "ipython",
    "version": 3
   },
   "file_extension": ".py",
   "mimetype": "text/x-python",
   "name": "python",
   "nbconvert_exporter": "python",
   "pygments_lexer": "ipython3",
   "version": "3.8.6-final"
  },
  "orig_nbformat": 2,
  "kernelspec": {
   "name": "python3",
   "display_name": "Python 3",
   "language": "python"
  }
 },
 "nbformat": 4,
 "nbformat_minor": 2,
 "cells": [
  {
   "source": [
    "# Projet TAL M1 S1 : POS Tagging"
   ],
   "cell_type": "markdown",
   "metadata": {}
  },
  {
   "source": [
    "# Implémentation du classifieur"
   ],
   "cell_type": "markdown",
   "metadata": {}
  },
  {
   "source": [
    "## Import du corpus\n",
    "\n",
    "On charge les trois corpus *in-domain* sous la forme de listes de dictionnaires : chaque phrase a une clé \"mots\" qui est associée à une liste des mots, et une clé \"POS\" associée à une liste de POS. \n",
    "\n",
    "On utilise les trois corpus distincts de French-GSD :\n",
    "- Train : apprentissage.\n",
    "- Dev : validation. Pour tester et améliorer le modèle. \n",
    "- Test : évaluation. On ne l'utilisera pas pendant l'apprentissage ou les tests."
   ],
   "cell_type": "markdown",
   "metadata": {}
  },
  {
   "cell_type": "code",
   "execution_count": 3,
   "metadata": {
    "tags": []
   },
   "outputs": [],
   "source": [
    "def load_corpus(file):\n",
    "    with open(file, \"r\", encoding = \"utf8\") as f: \n",
    "        content = f.read() # chargement du corpus\n",
    "    content = content.split(\"\\n\\n\") # séparation en phrases\n",
    "    corpus = []\n",
    "    for phrase in content: # pour chaque phrase\n",
    "        phrase_dico = {\"mots\" : [], \"gold_labels\" : []} # liste qui contiendra 1 dictionnaire par mot de la phrase\n",
    "        for line in phrase.splitlines():\n",
    "            if not line.startswith(\"#\"): # on ignore les lignes qui commencent par #\n",
    "                features = line.split(\"\\t\")\n",
    "                phrase_dico[\"mots\"].append(features[1])\n",
    "                # phrase_dico[\"lemme\"].append(features[2])\n",
    "                phrase_dico[\"gold_labels\"].append(features[3])\n",
    "        corpus.append(phrase_dico)\n",
    "    return corpus\n",
    "\n",
    "gsd_train = load_corpus(\"corpus-in-domain/fr_gsd-ud-train.conllu\")\n",
    "gsd_test = load_corpus(\"corpus-in-domain/fr_gsd-ud-test.conllu\")\n",
    "gsd_dev = load_corpus(\"corpus-in-domain/fr_gsd-ud-dev.conllu\")"
   ]
  },
  {
   "cell_type": "code",
   "execution_count": 4,
   "metadata": {},
   "outputs": [
    {
     "output_type": "stream",
     "name": "stdout",
     "text": [
      "---- Aperçus d'une phrase de chaque corpus-----\n\n{'mots': [\"L'\", 'œuvre', 'est', 'située', 'dans', 'la', 'galerie', 'des', 'de', 'les', 'batailles', ',', 'dans', 'le', 'château', 'de', 'Versailles', '.'], 'gold_labels': ['DET', 'NOUN', 'AUX', 'VERB', 'ADP', 'DET', 'NOUN', '_', 'ADP', 'DET', 'NOUN', 'PUNCT', 'ADP', 'DET', 'NOUN', 'ADP', 'PROPN', 'PUNCT']}\n\n{'mots': ['La', 'gestion', 'et', \"l'\", 'exploitation', 'de', 'la', 'salle', 'de', 'concert', 'Wagram', ',', 'récemment', 'rénovée', ',', 'sera', 'assurée', 'par', 'Eurosites', ',', 'leader', 'en', 'France', 'de', 'la', 'location', 'de', 'salles', '.'], 'gold_labels': ['DET', 'NOUN', 'CCONJ', 'DET', 'NOUN', 'ADP', 'DET', 'NOUN', 'ADP', 'NOUN', 'PROPN', 'PUNCT', 'ADV', 'VERB', 'PUNCT', 'AUX', 'VERB', 'ADP', 'PROPN', 'PUNCT', 'NOUN', 'ADP', 'PROPN', 'ADP', 'DET', 'NOUN', 'ADP', 'NOUN', 'PUNCT']}\n\n{'mots': ['Cette', 'espèce', 'est', 'endémique', 'du', 'de', 'le', 'département', 'de', 'Nariño', 'en', 'Colombie', '.'], 'gold_labels': ['DET', 'NOUN', 'AUX', 'ADJ', '_', 'ADP', 'DET', 'NOUN', 'ADP', 'PROPN', 'ADP', 'PROPN', 'PUNCT']}\n"
     ]
    }
   ],
   "source": [
    "print(\"---- Aperçus d'une phrase de chaque corpus-----\", end=\"\\n\\n\")\n",
    "print(gsd_train[1], end=\"\\n\\n\")\n",
    "print(gsd_test[102], end=\"\\n\\n\")\n",
    "print(gsd_dev[564])"
   ]
  },
  {
   "source": [
    "## Extraction des caractéristiques\n",
    "\n",
    "La fonction feature_extraction renvoie une liste de dictionnaires (un par mot) qui contiennent les caractéristiques suivantes pour chaque mot :\n",
    "- mot\n",
    "- mot précédent : pour le premier mot de la phrase son mot précédent sera \"START\", ce qui permettra de prendre en compte la caractéristique \"être le premier mot\".\n",
    "- mot suivant : pour le dernier mot, ce sera \"END\".\n",
    "- commence par une lettre majuscule\n",
    "- est entièrement en majuscules\n",
    "- contient des chiffres\n",
    "- contient des caractères non alphanumériques\n",
    "- longueur du mot (3 caractéristiques binaires) : a 1 seule caractère, a moins de 3 caractères, a plus de 3 caractères.\n",
    "- a un suffixe nominal\n",
    "- a un suffixe adjectival\n",
    "- a un suffixe verbal\n",
    "- a un suffixe adverbial\n",
    "\n",
    "On ne conserve plus la structure des phrases, qui n'est plus nécessaire une fois qu'on a extrait les informations comme mot précédent et mot suivant.\n",
    "\n",
    "Ces caractéristiques sont encodées sous la forme d'un dictionnaire pour chaque mot dont les clés désignent les caractéristiques (\"mot - commotions\", \"prec - les\", \"long\", \"suff_nom\", etc. ) et les valeurs valent 1 quand la caractéristique est vraie pour ce mot. Si la caractéristique n'est pas vraie, alors on n'ajoute pas cette entrée dans le dictionnaire, ce qui permettrait d'optimiser l'apprentissage et la prédiction ensuite.\n",
    "\n",
    "On a ajouté des booléens pour les différentes catégorie de caractéristiques (mots, majuscules, longueur, caractères non alphabétique et suffixes) qui sont pas défaut True et qu'on utilisera plus tard pour tester l'utilité de ces caractéristiques."
   ],
   "cell_type": "markdown",
   "metadata": {}
  },
  {
   "cell_type": "code",
   "execution_count": 5,
   "metadata": {
    "tags": []
   },
   "outputs": [],
   "source": [
    "def feature_extraction(corpus, feat_mots=True, feat_maj=True, feat_non_alpha=True, feat_long=True, feat_suff=True):\n",
    "\n",
    "    corpus_features = []\n",
    "    \"\"\"\n",
    "    Listes à utiliser pour les lemmes :\n",
    "    list_adj = [\"ain\", \"aine\",\"aire\",\"é\", \"ée\",\"iel\", \"uel\", \"lle\",  \"al\", \"ales\", \"al\", \"ial\",\"er\", \"ère\", \"ier\", \"esque\", \"eur\", \"euse\", \"ieux\",\"ueux\", \"if\",\"ive\", \"in\",\"ine\",\"ique\",\"atoire\", \"u\",\"ue\", \"issime\", \"able\",\"ible\", \"uble\", \"ième\",\"uple\"]\n",
    "    list_noun = [\"ade\", \"age\",\"aille\", \"aison\", \"ison\",\"oison\", \"ation\", \"ition\",\"ssion\", \"sion\",\"xion\", \"isation\",\"ment\", \"ement\",\"erie\", \"ure\",\"ature\",\"at\", \"ance\",\"ence\", \"escence\",\"ité\", \"eté\",\"té\", \"ie\",\"erie\", \"esse\",\"ise\", \"eur\",\"isme\", \"iste\", \"seur\", \"isseur\", \"isateur\", \"euse\",\"isseuse\", \"atrice\",\"ier\",\"ière\", \"aire\",\"ien\", ienne\",\"iste\",er\",\"eron\",\"eronne\",\"trice\",\"oir\", \"oire\",\"ier\",\"ière\",\"erie\",\"anderie\", \"aire\",\"ain\",\"aille\", \"ée\", \"ard\",\"asse\", \"assier\",\"âtre\",\"aut\",\"eau\",\"ceau\", \"ereau\",\"eteau\", \"elle\", \"et\",\"elet\",\"ette\", \n",
    "\"elette\",\"in\",\"otin\", \"ine\" \"illon\",\"on\", \"ille\", \"erole\",\"ole\",\"iche\"]\n",
    "    \"\"\"\n",
    "\n",
    "    list_vb = [\"iser\",\"ifier\", \"oyer\",\"ailler\", \"asser\",\"eler\", \"eter\",\"iller\", \"iner\",\"nicher\", \"ocher\",\"onner\",\"otter\",\"oter\", \"ouiller\"]\n",
    "    list_adj = [\"ain\", \"aine\",\"ains\", \"aines\",\"aire\", \"aires\",\"é\", \"ée\",\"ées\", \"és\",\"iel\", \"iels\",\"uel\", \"uels\", \n",
    "\"lle\", \"lles\",\"els\", \"el\" \"al\", \"ales\", \"al\", \"ial\", \"aux\",\"iaux\", \"er\",\"ers\", \"ère\",\"ères\", \"ier\", \"iers\",      \"esque\",\"esques\", \"eur\",\"eurs\", \"euse\",\"euses\", \"ieux\",\"ueux\", \"if\", \"ifs\",\"ive\", \"ives\",\"in\", \"ins\",\"ine\",      \"ines\",\"iques\", \"ique\",\"atoire\", \"u\",\"ue\", \"us\",\"ues\", \"issime\",\"issimes\",\"able\",\"ible\", \"ibles\",\"ables\",  \n",
    "    \"uble\",\"ubles\", \"ième\",\"ièmes\", \"uple\"]\n",
    "    list_noun = [\"ade\", \"ades\", \"age\", \"ages\",\"aille\", \"ailles\", \"aison\", \"ison\", \"isons\",\"oison\", \"ation\", \"itions\", \"ition\", \"ssion\", \"sion\",\"xion\", \"isation\",\"ment\", \"ement\",\"erie\", \"eries\",\"ure\",\"ures\",\"ature\", \"atures\",\"at\", \"ance\",\"ence\", \"escence\",\"ité\", \"eté\",\"té\", \"ie\",\"erie\", \"esse\", \"ise\", \"eur\",\"isme\", \"iste\", \"istes\",\"eurs\", \"seur\",\"seurs\", \"isseur\",\"isseurs\", \"isateur\",\"euse\", \"euses\",\"isseuse\", \"isseuses\",       \"atrice\", \"atrices\",\"ier\", \"iers\",\"ière\", \"ières\",\"aire\",\"aires\",\"ien\", \"iens\",\"ienne\", \"iennes\",\"iste\",         \"istes\",\"er\", \"ers\",\"eron\", \"erons\",\"eronne\",\"trice\",\"oir\", \"oire\",\"oires\", \"oirs\",\"ier\", \"iers\",\"ière\",         \"ières\",\"erie\",\"eries\",\"anderie\",\"aire\", \"aires\",\"ain\", \"aines\", \"ée\",\"ées\",\"aille\", \"ard\",\"asse\", \"asses\", \"assier\",\"âtre\",\"aut\",\"eau\", \"eaux\",\"ceau\", \"ereau\",\"eteau\", \"elle\",\"elles\", \"et\",\"elet\",\"ets\",\"ette\",\"elette\",\"ettes\", \"elettes\",\"in\", \"ins\",\"otin\", \"ine\",\"ines\", \"illon\",\"on\",\"ons\",\"ille\", \"erole\",\"eroles\", \"ole\",\"oles\", \"iche\"]\n",
    "\n",
    "    for phrase in corpus: # ajout des features additionnelles\n",
    "        for prev, word, suiv in zip([\"START\"] + phrase[\"mots\"][:-1], phrase[\"mots\"], phrase[\"mots\"][1:] + [\"END\"]):\n",
    "            # création de triplets (mot précédent, mot, mot suivant)\n",
    "            # avec \"START\" en prev pour le 1er mot\n",
    "            # et \"END\" en suiv pour le dernier\n",
    "\n",
    "            # dictionnaire de features du mot\n",
    "            if feat_mots :\n",
    "                features_mot = { \n",
    "                    # on récupère le gold_label correspondant\n",
    "                    f\"mot - {word}\" : 1,\n",
    "                    f\"prec - {prev}\" : 1,\n",
    "                    f\"mot_suiv - {suiv}\" : 1,\n",
    "                    }\n",
    "            else:\n",
    "                features_mot = {}\n",
    "            \n",
    "            if feat_maj:\n",
    "                if word.istitle(): features_mot[\"maj\"] = 1 \n",
    "                if word.isupper(): features_mot[\"all_caps\"] = 1\n",
    "\n",
    "            if feat_non_alpha:\n",
    "                if any(char.isdigit() for char in word): features_mot[\"num\"] = 1# mieux que isnumeric(), car renvoie false si espace (40 000) ou virgule (50,6) par ex\n",
    "                if not word.isalnum(): features_mot[\"nonAlphanum\"] = 1\n",
    "\n",
    "            if feat_long:\n",
    "                if len(word) <= 3: features_mot[\"court\"] = 1 \n",
    "                if len(word) > 3: features_mot[\"long\"] = 1\n",
    "                if len(word) == 1: features_mot[\"un_car\"] = 1\n",
    "            \n",
    "            if feat_suff:\n",
    "                if word.endswith(\"ment\"): features_mot[\"suff_adv\"] = 1\n",
    "                if any(word.endswith(elem) and len(word) != len(elem) for elem in list_noun): features_mot[\"suff_noun\"] =1 \n",
    "                if any(word.endswith(elem) and len(word) != len(elem) for elem in list_adj): features_mot[\"suff_adj\"] = 1\n",
    "                if any(word.endswith(elem) for elem in list_vb): features_mot[\"suff_vb\"] = 1\n",
    "                # on vérifie la longueur du mot pour être sûr que ce soit un suffixe car on peut avoir le mot                      age avec le suffixe age par exemple ou bien aux\n",
    "                # suff_noun : any(lemma.endswith(elem) and len(word) != len(elem) for elem in list_noun),\n",
    "                # suff_adj : any(lemma.endswith(elem) for elem in list_adj),\n",
    "                # suff_vb : any(lemma.endswith(elem) for elem in list_vb)\n",
    "            \n",
    "            # ajout au corpus\n",
    "            corpus_features.append(features_mot)\n",
    "\n",
    "    return corpus_features # renvoie les features transformés en vecteurs one-hot\n"
   ]
  },
  {
   "cell_type": "code",
   "execution_count": 6,
   "metadata": {},
   "outputs": [
    {
     "output_type": "stream",
     "name": "stdout",
     "text": [
      "364349\n{\"mot - qu'\": 1, 'prec - sport': 1, 'mot_suiv - on': 1, 'nonAlphanum': 1, 'court': 1}\n{'mot - on': 1, \"prec - qu'\": 1, 'mot_suiv - les': 1, 'court': 1}\n{'mot - les': 1, 'prec - on': 1, 'mot_suiv - considére': 1, 'court': 1}\n{'mot - considére': 1, 'prec - les': 1, 'mot_suiv - presque': 1, 'long': 1}\n{'mot - presque': 1, 'prec - considére': 1, 'mot_suiv - comme': 1, 'long': 1, 'suff_adj': 1}\n"
     ]
    }
   ],
   "source": [
    "gsd_train_features = feature_extraction(gsd_train)\n",
    "print(len(gsd_train_features))\n",
    "print(*gsd_train_features[10:15], sep=\"\\n\")"
   ]
  },
  {
   "cell_type": "code",
   "execution_count": 7,
   "metadata": {
    "tags": []
   },
   "outputs": [],
   "source": [
    "def add_gold(features, corpus, addMot=False):\n",
    "    '''Ajoute les gold labels pour créer un corpus d'entraînement / de test'''\n",
    "    i = 0\n",
    "    gold_corpus = []\n",
    "    for phrase in corpus:\n",
    "        for word, pos_gold in zip(phrase[\"mots\"],phrase[\"gold_labels\"]):\n",
    "            if addMot:\n",
    "                gold_corpus.append((features[i], pos_gold, word))\n",
    "            else:\n",
    "                gold_corpus.append((features[i], pos_gold))\n",
    "            i += 1\n",
    "\n",
    "    return gold_corpus"
   ]
  },
  {
   "cell_type": "code",
   "execution_count": 8,
   "metadata": {},
   "outputs": [
    {
     "output_type": "stream",
     "name": "stdout",
     "text": [
      "({'mot - avec': 1, 'prec - reviendrais': 1, 'mot_suiv - plaisir': 1, 'long': 1}, 'ADP')\n({'mot - plaisir': 1, 'prec - avec': 1, 'mot_suiv - !': 1, 'long': 1}, 'NOUN')\n({'mot - !': 1, 'prec - plaisir': 1, 'mot_suiv - END': 1, 'nonAlphanum': 1, 'court': 1, 'un_car': 1}, 'PUNCT')\n({'mot - Les': 1, 'prec - START': 1, 'mot_suiv - forfaits': 1, 'maj': 1, 'court': 1}, 'DET')\n({'mot - forfaits': 1, 'prec - Les': 1, 'mot_suiv - comprennent': 1, 'long': 1}, 'NOUN')\n({'mot - comprennent': 1, 'prec - forfaits': 1, 'mot_suiv - le': 1, 'long': 1}, 'VERB')\n({'mot - le': 1, 'prec - comprennent': 1, 'mot_suiv - transport': 1, 'court': 1}, 'DET')\n({'mot - transport': 1, 'prec - le': 1, 'mot_suiv - en': 1, 'long': 1}, 'NOUN')\n({'mot - en': 1, 'prec - transport': 1, 'mot_suiv - car': 1, 'court': 1}, 'ADP')\n({'mot - car': 1, 'prec - en': 1, 'mot_suiv - Grand': 1, 'court': 1}, 'NOUN')\n"
     ]
    }
   ],
   "source": [
    "gsd_train_features_gold = add_gold(gsd_train_features, gsd_train)\n",
    "print(*gsd_train_features_gold[100:110], sep=\"\\n\")"
   ]
  },
  {
   "source": [
    "## Implémentation de l'algorithme de classification\n",
    "On a choisi d'implémenter la classification avec un perceptron moyenné.\n",
    "\n",
    "La fonction predict sera utilisée à la fois dans l'apprentissage et dans la \"prédiction\". Elle correspond à la recherche de l'étiquette avec le plus grand score (argmax...)"
   ],
   "cell_type": "markdown",
   "metadata": {}
  },
  {
   "cell_type": "code",
   "execution_count": 9,
   "metadata": {},
   "outputs": [],
   "source": [
    "def predict(word_features, weights):\n",
    "    \"\"\"Renvoie l'étiquette avec le plus gros score (argmax)\"\"\"\n",
    "    scores = {}\n",
    "    for tag, w in weights.items():\n",
    "        scores[tag] =  sum(word_features.get(feat)*w.get(feat, 0) for feat in word_features)\n",
    "    #print(scores)\n",
    "\n",
    "    return max(scores, key=scores.get)"
   ]
  },
  {
   "cell_type": "code",
   "execution_count": 10,
   "metadata": {
    "tags": []
   },
   "outputs": [],
   "source": [
    "from random import shuffle\n",
    "\n",
    "def perceptron_train(training_set, MAX_EPOCH=3):\n",
    "    \n",
    "    tags = [\"ADJ\", \"ADP\", \"ADV\", \"AUX\", \"CCONJ\", \"DET\", \"INTJ\", \"NOUN\", \"NUM\", \"PART\", \"PRON\", \"PROPN\", \"PUNCT\", \"SCONJ\", \"SYM\", \"VERB\", \"X\"]\n",
    "\n",
    "    # initialisation de a (poids totaux)\n",
    "    a = {}\n",
    "    for tag in tags:\n",
    "        a[tag] = {}\n",
    "\n",
    "    # initialisation des vecteurs de poids\n",
    "    w = {}\n",
    "    for tag in tags:\n",
    "        w[tag] = {}\n",
    "    \n",
    "    for i in range(0, MAX_EPOCH):\n",
    "        shuffled_set = training_set.copy() # copie du training set\n",
    "        shuffle(shuffled_set) # mélange du training set\n",
    "\n",
    "        for word in shuffled_set:\n",
    "            vec = word[0]\n",
    "            gold = word[1]\n",
    "            prediction = predict(vec, w) # trouve étiquette plus probable avec les poids w\n",
    "            if not gold == \"_\" and not prediction == gold: # si le gold_label n'est pas égal à celui prédit\n",
    "                # on ignore les mots dont le gold_label est \"_\" (\"au\" et \"du\") car ils sont ensuite analysés comme \"à le\" et \"de le\"\n",
    "                for feat in vec: # pour chaque feature du mot\n",
    "                    w[gold][feat] = w[gold].get(feat,0) + vec.get(feat) #  on ajoute x(i) à chaque poids de l'étiquette correcte\n",
    "                    w[prediction][feat] = w[prediction].get(feat,0) - vec[feat] #  on retire x(i) à chaque poids de l'étiquette mal prédite\n",
    "        \n",
    "    # on ajoute w à a\n",
    "        for tag in w:\n",
    "            for index in w[tag].keys(): \n",
    "                a[tag][index] = a[tag].get(index, 0) + w[tag][index]\n",
    "\n",
    "    return a\n"
   ]
  },
  {
   "cell_type": "code",
   "execution_count": 11,
   "metadata": {
    "tags": []
   },
   "outputs": [],
   "source": [
    "poids_gsd_train = perceptron_train(gsd_train_features_gold)"
   ]
  },
  {
   "source": [
    "# Evaluation des performances sur le corpus de validation (Dev)\n",
    "La fonction test() renvoie le taux d'erreur sur un corpus en utilisant la fonction predict() avec les poids issus de l'apprentissage. On effectue ce test sur le corpus dev avec différents nombres d'itération à l'apprentissage pour voir l'impact des itérations sur ce taux d'erreur."
   ],
   "cell_type": "markdown",
   "metadata": {}
  },
  {
   "cell_type": "code",
   "execution_count": 12,
   "metadata": {
    "tags": []
   },
   "outputs": [],
   "source": [
    "gsd_dev_features = feature_extraction(gsd_dev)\n",
    "gsd_dev_features_gold = add_gold(gsd_dev_features, gsd_dev)\n",
    "\n",
    "\n",
    "def test(corpus, poids):\n",
    "    \"\"\"Prédit les étiquettes et renvoie un taux d'erreur\"\"\"\n",
    "    nb_erreurs = 0\n",
    "    # output = open(\"test.txt\", \"w\")\n",
    "    # output.write(\"MOT\\tPREDICT\\tGOLD\\tRESULTAT\\n\")\n",
    "    for word in corpus:\n",
    "        vec = word[0]\n",
    "        gold = word[1]\n",
    "        prediction = predict(vec, poids)\n",
    "       # print(f\"{vec}\\t{prediction}\\t{gold}\\t\")\n",
    "        if not gold == \"_\" and not prediction == gold:\n",
    "            nb_erreurs +=1\n",
    "            #output.write(\"ERREUR\")\n",
    "        #else:\n",
    "            #output.write(\"OK\")\n",
    "        #output.write(\"\\n\")\n",
    "    \n",
    "    #output.write(f\"Nombre d\\'erreurs : {nb_erreurs}\")\n",
    "    #output.write(f\"\\nTaux d\\'erreur : {nb_erreurs/len(corpus)}\")\n",
    "    #output.close()\n",
    "\n",
    "    return nb_erreurs/len(corpus)"
   ]
  },
  {
   "cell_type": "code",
   "execution_count": 13,
   "metadata": {},
   "outputs": [
    {
     "output_type": "stream",
     "name": "stdout",
     "text": [
      "1 itérations : 6.768% d'erreurs\n",
      "2 itérations : 4.889% d'erreurs\n",
      "3 itérations : 4.454% d'erreurs\n",
      "4 itérations : 4.109% d'erreurs\n",
      "5 itérations : 4.185% d'erreurs\n",
      "6 itérations : 3.886% d'erreurs\n"
     ]
    }
   ],
   "source": [
    "taux = []\n",
    "x_range = range(1, 7)\n",
    "\n",
    "for i in x_range:\n",
    "    poids_gsd_train = perceptron_train(gsd_train_features_gold, MAX_EPOCH=i)\n",
    "    tx_erreur = test(gsd_dev_features_gold, poids_gsd_train)\n",
    "    taux.append(tx_erreur)\n",
    "    print(f\"{i} itérations : {tx_erreur:.3%} d'erreurs\")"
   ]
  },
  {
   "cell_type": "code",
   "execution_count": 14,
   "metadata": {},
   "outputs": [
    {
     "output_type": "display_data",
     "data": {
      "text/plain": "<Figure size 432x288 with 1 Axes>",
      "image/svg+xml": "<?xml version=\"1.0\" encoding=\"utf-8\" standalone=\"no\"?>\n<!DOCTYPE svg PUBLIC \"-//W3C//DTD SVG 1.1//EN\"\n  \"http://www.w3.org/Graphics/SVG/1.1/DTD/svg11.dtd\">\n<!-- Created with matplotlib (https://matplotlib.org/) -->\n<svg height=\"277.895938pt\" version=\"1.1\" viewBox=\"0 0 431.19125 277.895938\" width=\"431.19125pt\" xmlns=\"http://www.w3.org/2000/svg\" xmlns:xlink=\"http://www.w3.org/1999/xlink\">\n <metadata>\n  <rdf:RDF xmlns:cc=\"http://creativecommons.org/ns#\" xmlns:dc=\"http://purl.org/dc/elements/1.1/\" xmlns:rdf=\"http://www.w3.org/1999/02/22-rdf-syntax-ns#\">\n   <cc:Work>\n    <dc:type rdf:resource=\"http://purl.org/dc/dcmitype/StillImage\"/>\n    <dc:date>2020-12-30T22:00:58.329359</dc:date>\n    <dc:format>image/svg+xml</dc:format>\n    <dc:creator>\n     <cc:Agent>\n      <dc:title>Matplotlib v3.3.0, https://matplotlib.org/</dc:title>\n     </cc:Agent>\n    </dc:creator>\n   </cc:Work>\n  </rdf:RDF>\n </metadata>\n <defs>\n  <style type=\"text/css\">*{stroke-linecap:butt;stroke-linejoin:round;}</style>\n </defs>\n <g id=\"figure_1\">\n  <g id=\"patch_1\">\n   <path d=\"M 0 277.895938 \nL 431.19125 277.895938 \nL 431.19125 0 \nL 0 0 \nz\n\" style=\"fill:none;\"/>\n  </g>\n  <g id=\"axes_1\">\n   <g id=\"patch_2\">\n    <path d=\"M 56.50625 240.238125 \nL 391.30625 240.238125 \nL 391.30625 22.798125 \nL 56.50625 22.798125 \nz\n\" style=\"fill:#ffffff;\"/>\n   </g>\n   <g id=\"matplotlib.axis_1\">\n    <g id=\"xtick_1\">\n     <g id=\"line2d_1\">\n      <defs>\n       <path d=\"M 0 0 \nL 0 3.5 \n\" id=\"m148db23e42\" style=\"stroke:#000000;stroke-width:0.8;\"/>\n      </defs>\n      <g>\n       <use style=\"stroke:#000000;stroke-width:0.8;\" x=\"71.724432\" xlink:href=\"#m148db23e42\" y=\"240.238125\"/>\n      </g>\n     </g>\n     <g id=\"text_1\">\n      <!-- 1 -->\n      <g transform=\"translate(68.543182 254.836563)scale(0.1 -0.1)\">\n       <defs>\n        <path d=\"M 12.40625 8.296875 \nL 28.515625 8.296875 \nL 28.515625 63.921875 \nL 10.984375 60.40625 \nL 10.984375 69.390625 \nL 28.421875 72.90625 \nL 38.28125 72.90625 \nL 38.28125 8.296875 \nL 54.390625 8.296875 \nL 54.390625 0 \nL 12.40625 0 \nz\n\" id=\"DejaVuSans-49\"/>\n       </defs>\n       <use xlink:href=\"#DejaVuSans-49\"/>\n      </g>\n     </g>\n    </g>\n    <g id=\"xtick_2\">\n     <g id=\"line2d_2\">\n      <g>\n       <use style=\"stroke:#000000;stroke-width:0.8;\" x=\"132.597159\" xlink:href=\"#m148db23e42\" y=\"240.238125\"/>\n      </g>\n     </g>\n     <g id=\"text_2\">\n      <!-- 2 -->\n      <g transform=\"translate(129.415909 254.836563)scale(0.1 -0.1)\">\n       <defs>\n        <path d=\"M 19.1875 8.296875 \nL 53.609375 8.296875 \nL 53.609375 0 \nL 7.328125 0 \nL 7.328125 8.296875 \nQ 12.9375 14.109375 22.625 23.890625 \nQ 32.328125 33.6875 34.8125 36.53125 \nQ 39.546875 41.84375 41.421875 45.53125 \nQ 43.3125 49.21875 43.3125 52.78125 \nQ 43.3125 58.59375 39.234375 62.25 \nQ 35.15625 65.921875 28.609375 65.921875 \nQ 23.96875 65.921875 18.8125 64.3125 \nQ 13.671875 62.703125 7.8125 59.421875 \nL 7.8125 69.390625 \nQ 13.765625 71.78125 18.9375 73 \nQ 24.125 74.21875 28.421875 74.21875 \nQ 39.75 74.21875 46.484375 68.546875 \nQ 53.21875 62.890625 53.21875 53.421875 \nQ 53.21875 48.921875 51.53125 44.890625 \nQ 49.859375 40.875 45.40625 35.40625 \nQ 44.1875 33.984375 37.640625 27.21875 \nQ 31.109375 20.453125 19.1875 8.296875 \nz\n\" id=\"DejaVuSans-50\"/>\n       </defs>\n       <use xlink:href=\"#DejaVuSans-50\"/>\n      </g>\n     </g>\n    </g>\n    <g id=\"xtick_3\">\n     <g id=\"line2d_3\">\n      <g>\n       <use style=\"stroke:#000000;stroke-width:0.8;\" x=\"193.469886\" xlink:href=\"#m148db23e42\" y=\"240.238125\"/>\n      </g>\n     </g>\n     <g id=\"text_3\">\n      <!-- 3 -->\n      <g transform=\"translate(190.288636 254.836563)scale(0.1 -0.1)\">\n       <defs>\n        <path d=\"M 40.578125 39.3125 \nQ 47.65625 37.796875 51.625 33 \nQ 55.609375 28.21875 55.609375 21.1875 \nQ 55.609375 10.40625 48.1875 4.484375 \nQ 40.765625 -1.421875 27.09375 -1.421875 \nQ 22.515625 -1.421875 17.65625 -0.515625 \nQ 12.796875 0.390625 7.625 2.203125 \nL 7.625 11.71875 \nQ 11.71875 9.328125 16.59375 8.109375 \nQ 21.484375 6.890625 26.8125 6.890625 \nQ 36.078125 6.890625 40.9375 10.546875 \nQ 45.796875 14.203125 45.796875 21.1875 \nQ 45.796875 27.640625 41.28125 31.265625 \nQ 36.765625 34.90625 28.71875 34.90625 \nL 20.21875 34.90625 \nL 20.21875 43.015625 \nL 29.109375 43.015625 \nQ 36.375 43.015625 40.234375 45.921875 \nQ 44.09375 48.828125 44.09375 54.296875 \nQ 44.09375 59.90625 40.109375 62.90625 \nQ 36.140625 65.921875 28.71875 65.921875 \nQ 24.65625 65.921875 20.015625 65.03125 \nQ 15.375 64.15625 9.8125 62.3125 \nL 9.8125 71.09375 \nQ 15.4375 72.65625 20.34375 73.4375 \nQ 25.25 74.21875 29.59375 74.21875 \nQ 40.828125 74.21875 47.359375 69.109375 \nQ 53.90625 64.015625 53.90625 55.328125 \nQ 53.90625 49.265625 50.4375 45.09375 \nQ 46.96875 40.921875 40.578125 39.3125 \nz\n\" id=\"DejaVuSans-51\"/>\n       </defs>\n       <use xlink:href=\"#DejaVuSans-51\"/>\n      </g>\n     </g>\n    </g>\n    <g id=\"xtick_4\">\n     <g id=\"line2d_4\">\n      <g>\n       <use style=\"stroke:#000000;stroke-width:0.8;\" x=\"254.342614\" xlink:href=\"#m148db23e42\" y=\"240.238125\"/>\n      </g>\n     </g>\n     <g id=\"text_4\">\n      <!-- 4 -->\n      <g transform=\"translate(251.161364 254.836563)scale(0.1 -0.1)\">\n       <defs>\n        <path d=\"M 37.796875 64.3125 \nL 12.890625 25.390625 \nL 37.796875 25.390625 \nz\nM 35.203125 72.90625 \nL 47.609375 72.90625 \nL 47.609375 25.390625 \nL 58.015625 25.390625 \nL 58.015625 17.1875 \nL 47.609375 17.1875 \nL 47.609375 0 \nL 37.796875 0 \nL 37.796875 17.1875 \nL 4.890625 17.1875 \nL 4.890625 26.703125 \nz\n\" id=\"DejaVuSans-52\"/>\n       </defs>\n       <use xlink:href=\"#DejaVuSans-52\"/>\n      </g>\n     </g>\n    </g>\n    <g id=\"xtick_5\">\n     <g id=\"line2d_5\">\n      <g>\n       <use style=\"stroke:#000000;stroke-width:0.8;\" x=\"315.215341\" xlink:href=\"#m148db23e42\" y=\"240.238125\"/>\n      </g>\n     </g>\n     <g id=\"text_5\">\n      <!-- 5 -->\n      <g transform=\"translate(312.034091 254.836563)scale(0.1 -0.1)\">\n       <defs>\n        <path d=\"M 10.796875 72.90625 \nL 49.515625 72.90625 \nL 49.515625 64.59375 \nL 19.828125 64.59375 \nL 19.828125 46.734375 \nQ 21.96875 47.46875 24.109375 47.828125 \nQ 26.265625 48.1875 28.421875 48.1875 \nQ 40.625 48.1875 47.75 41.5 \nQ 54.890625 34.8125 54.890625 23.390625 \nQ 54.890625 11.625 47.5625 5.09375 \nQ 40.234375 -1.421875 26.90625 -1.421875 \nQ 22.3125 -1.421875 17.546875 -0.640625 \nQ 12.796875 0.140625 7.71875 1.703125 \nL 7.71875 11.625 \nQ 12.109375 9.234375 16.796875 8.0625 \nQ 21.484375 6.890625 26.703125 6.890625 \nQ 35.15625 6.890625 40.078125 11.328125 \nQ 45.015625 15.765625 45.015625 23.390625 \nQ 45.015625 31 40.078125 35.4375 \nQ 35.15625 39.890625 26.703125 39.890625 \nQ 22.75 39.890625 18.8125 39.015625 \nQ 14.890625 38.140625 10.796875 36.28125 \nz\n\" id=\"DejaVuSans-53\"/>\n       </defs>\n       <use xlink:href=\"#DejaVuSans-53\"/>\n      </g>\n     </g>\n    </g>\n    <g id=\"xtick_6\">\n     <g id=\"line2d_6\">\n      <g>\n       <use style=\"stroke:#000000;stroke-width:0.8;\" x=\"376.088068\" xlink:href=\"#m148db23e42\" y=\"240.238125\"/>\n      </g>\n     </g>\n     <g id=\"text_6\">\n      <!-- 6 -->\n      <g transform=\"translate(372.906818 254.836563)scale(0.1 -0.1)\">\n       <defs>\n        <path d=\"M 33.015625 40.375 \nQ 26.375 40.375 22.484375 35.828125 \nQ 18.609375 31.296875 18.609375 23.390625 \nQ 18.609375 15.53125 22.484375 10.953125 \nQ 26.375 6.390625 33.015625 6.390625 \nQ 39.65625 6.390625 43.53125 10.953125 \nQ 47.40625 15.53125 47.40625 23.390625 \nQ 47.40625 31.296875 43.53125 35.828125 \nQ 39.65625 40.375 33.015625 40.375 \nz\nM 52.59375 71.296875 \nL 52.59375 62.3125 \nQ 48.875 64.0625 45.09375 64.984375 \nQ 41.3125 65.921875 37.59375 65.921875 \nQ 27.828125 65.921875 22.671875 59.328125 \nQ 17.53125 52.734375 16.796875 39.40625 \nQ 19.671875 43.65625 24.015625 45.921875 \nQ 28.375 48.1875 33.59375 48.1875 \nQ 44.578125 48.1875 50.953125 41.515625 \nQ 57.328125 34.859375 57.328125 23.390625 \nQ 57.328125 12.15625 50.6875 5.359375 \nQ 44.046875 -1.421875 33.015625 -1.421875 \nQ 20.359375 -1.421875 13.671875 8.265625 \nQ 6.984375 17.96875 6.984375 36.375 \nQ 6.984375 53.65625 15.1875 63.9375 \nQ 23.390625 74.21875 37.203125 74.21875 \nQ 40.921875 74.21875 44.703125 73.484375 \nQ 48.484375 72.75 52.59375 71.296875 \nz\n\" id=\"DejaVuSans-54\"/>\n       </defs>\n       <use xlink:href=\"#DejaVuSans-54\"/>\n      </g>\n     </g>\n    </g>\n    <g id=\"text_7\">\n     <!-- MAX_EPOCH -->\n     <g transform=\"translate(192.885156 268.338125)scale(0.1 -0.1)\">\n      <defs>\n       <path d=\"M 9.8125 72.90625 \nL 24.515625 72.90625 \nL 43.109375 23.296875 \nL 61.8125 72.90625 \nL 76.515625 72.90625 \nL 76.515625 0 \nL 66.890625 0 \nL 66.890625 64.015625 \nL 48.09375 14.015625 \nL 38.1875 14.015625 \nL 19.390625 64.015625 \nL 19.390625 0 \nL 9.8125 0 \nz\n\" id=\"DejaVuSans-77\"/>\n       <path d=\"M 34.1875 63.1875 \nL 20.796875 26.90625 \nL 47.609375 26.90625 \nz\nM 28.609375 72.90625 \nL 39.796875 72.90625 \nL 67.578125 0 \nL 57.328125 0 \nL 50.6875 18.703125 \nL 17.828125 18.703125 \nL 11.1875 0 \nL 0.78125 0 \nz\n\" id=\"DejaVuSans-65\"/>\n       <path d=\"M 6.296875 72.90625 \nL 16.890625 72.90625 \nL 35.015625 45.796875 \nL 53.21875 72.90625 \nL 63.8125 72.90625 \nL 40.375 37.890625 \nL 65.375 0 \nL 54.78125 0 \nL 34.28125 31 \nL 13.625 0 \nL 2.984375 0 \nL 29 38.921875 \nz\n\" id=\"DejaVuSans-88\"/>\n       <path d=\"M 50.984375 -16.609375 \nL 50.984375 -23.578125 \nL -0.984375 -23.578125 \nL -0.984375 -16.609375 \nz\n\" id=\"DejaVuSans-95\"/>\n       <path d=\"M 9.8125 72.90625 \nL 55.90625 72.90625 \nL 55.90625 64.59375 \nL 19.671875 64.59375 \nL 19.671875 43.015625 \nL 54.390625 43.015625 \nL 54.390625 34.71875 \nL 19.671875 34.71875 \nL 19.671875 8.296875 \nL 56.78125 8.296875 \nL 56.78125 0 \nL 9.8125 0 \nz\n\" id=\"DejaVuSans-69\"/>\n       <path d=\"M 19.671875 64.796875 \nL 19.671875 37.40625 \nL 32.078125 37.40625 \nQ 38.96875 37.40625 42.71875 40.96875 \nQ 46.484375 44.53125 46.484375 51.125 \nQ 46.484375 57.671875 42.71875 61.234375 \nQ 38.96875 64.796875 32.078125 64.796875 \nz\nM 9.8125 72.90625 \nL 32.078125 72.90625 \nQ 44.34375 72.90625 50.609375 67.359375 \nQ 56.890625 61.8125 56.890625 51.125 \nQ 56.890625 40.328125 50.609375 34.8125 \nQ 44.34375 29.296875 32.078125 29.296875 \nL 19.671875 29.296875 \nL 19.671875 0 \nL 9.8125 0 \nz\n\" id=\"DejaVuSans-80\"/>\n       <path d=\"M 39.40625 66.21875 \nQ 28.65625 66.21875 22.328125 58.203125 \nQ 16.015625 50.203125 16.015625 36.375 \nQ 16.015625 22.609375 22.328125 14.59375 \nQ 28.65625 6.59375 39.40625 6.59375 \nQ 50.140625 6.59375 56.421875 14.59375 \nQ 62.703125 22.609375 62.703125 36.375 \nQ 62.703125 50.203125 56.421875 58.203125 \nQ 50.140625 66.21875 39.40625 66.21875 \nz\nM 39.40625 74.21875 \nQ 54.734375 74.21875 63.90625 63.9375 \nQ 73.09375 53.65625 73.09375 36.375 \nQ 73.09375 19.140625 63.90625 8.859375 \nQ 54.734375 -1.421875 39.40625 -1.421875 \nQ 24.03125 -1.421875 14.8125 8.828125 \nQ 5.609375 19.09375 5.609375 36.375 \nQ 5.609375 53.65625 14.8125 63.9375 \nQ 24.03125 74.21875 39.40625 74.21875 \nz\n\" id=\"DejaVuSans-79\"/>\n       <path d=\"M 64.40625 67.28125 \nL 64.40625 56.890625 \nQ 59.421875 61.53125 53.78125 63.8125 \nQ 48.140625 66.109375 41.796875 66.109375 \nQ 29.296875 66.109375 22.65625 58.46875 \nQ 16.015625 50.828125 16.015625 36.375 \nQ 16.015625 21.96875 22.65625 14.328125 \nQ 29.296875 6.6875 41.796875 6.6875 \nQ 48.140625 6.6875 53.78125 8.984375 \nQ 59.421875 11.28125 64.40625 15.921875 \nL 64.40625 5.609375 \nQ 59.234375 2.09375 53.4375 0.328125 \nQ 47.65625 -1.421875 41.21875 -1.421875 \nQ 24.65625 -1.421875 15.125 8.703125 \nQ 5.609375 18.84375 5.609375 36.375 \nQ 5.609375 53.953125 15.125 64.078125 \nQ 24.65625 74.21875 41.21875 74.21875 \nQ 47.75 74.21875 53.53125 72.484375 \nQ 59.328125 70.75 64.40625 67.28125 \nz\n\" id=\"DejaVuSans-67\"/>\n       <path d=\"M 9.8125 72.90625 \nL 19.671875 72.90625 \nL 19.671875 43.015625 \nL 55.515625 43.015625 \nL 55.515625 72.90625 \nL 65.375 72.90625 \nL 65.375 0 \nL 55.515625 0 \nL 55.515625 34.71875 \nL 19.671875 34.71875 \nL 19.671875 0 \nL 9.8125 0 \nz\n\" id=\"DejaVuSans-72\"/>\n      </defs>\n      <use xlink:href=\"#DejaVuSans-77\"/>\n      <use x=\"86.279297\" xlink:href=\"#DejaVuSans-65\"/>\n      <use x=\"154.6875\" xlink:href=\"#DejaVuSans-88\"/>\n      <use x=\"223.193359\" xlink:href=\"#DejaVuSans-95\"/>\n      <use x=\"273.193359\" xlink:href=\"#DejaVuSans-69\"/>\n      <use x=\"336.376953\" xlink:href=\"#DejaVuSans-80\"/>\n      <use x=\"396.679688\" xlink:href=\"#DejaVuSans-79\"/>\n      <use x=\"475.390625\" xlink:href=\"#DejaVuSans-67\"/>\n      <use x=\"545.214844\" xlink:href=\"#DejaVuSans-72\"/>\n     </g>\n    </g>\n   </g>\n   <g id=\"matplotlib.axis_2\">\n    <g id=\"ytick_1\">\n     <g id=\"line2d_7\">\n      <defs>\n       <path d=\"M 0 0 \nL -3.5 0 \n\" id=\"mc6c9c4f4d7\" style=\"stroke:#000000;stroke-width:0.8;\"/>\n      </defs>\n      <g>\n       <use style=\"stroke:#000000;stroke-width:0.8;\" x=\"56.50625\" xlink:href=\"#mc6c9c4f4d7\" y=\"222.522173\"/>\n      </g>\n     </g>\n     <g id=\"text_8\">\n      <!-- 0.040 -->\n      <g transform=\"translate(20.878125 226.321392)scale(0.1 -0.1)\">\n       <defs>\n        <path d=\"M 31.78125 66.40625 \nQ 24.171875 66.40625 20.328125 58.90625 \nQ 16.5 51.421875 16.5 36.375 \nQ 16.5 21.390625 20.328125 13.890625 \nQ 24.171875 6.390625 31.78125 6.390625 \nQ 39.453125 6.390625 43.28125 13.890625 \nQ 47.125 21.390625 47.125 36.375 \nQ 47.125 51.421875 43.28125 58.90625 \nQ 39.453125 66.40625 31.78125 66.40625 \nz\nM 31.78125 74.21875 \nQ 44.046875 74.21875 50.515625 64.515625 \nQ 56.984375 54.828125 56.984375 36.375 \nQ 56.984375 17.96875 50.515625 8.265625 \nQ 44.046875 -1.421875 31.78125 -1.421875 \nQ 19.53125 -1.421875 13.0625 8.265625 \nQ 6.59375 17.96875 6.59375 36.375 \nQ 6.59375 54.828125 13.0625 64.515625 \nQ 19.53125 74.21875 31.78125 74.21875 \nz\n\" id=\"DejaVuSans-48\"/>\n        <path d=\"M 10.6875 12.40625 \nL 21 12.40625 \nL 21 0 \nL 10.6875 0 \nz\n\" id=\"DejaVuSans-46\"/>\n       </defs>\n       <use xlink:href=\"#DejaVuSans-48\"/>\n       <use x=\"63.623047\" xlink:href=\"#DejaVuSans-46\"/>\n       <use x=\"95.410156\" xlink:href=\"#DejaVuSans-48\"/>\n       <use x=\"159.033203\" xlink:href=\"#DejaVuSans-52\"/>\n       <use x=\"222.65625\" xlink:href=\"#DejaVuSans-48\"/>\n      </g>\n     </g>\n    </g>\n    <g id=\"ytick_2\">\n     <g id=\"line2d_8\">\n      <g>\n       <use style=\"stroke:#000000;stroke-width:0.8;\" x=\"56.50625\" xlink:href=\"#mc6c9c4f4d7\" y=\"188.232482\"/>\n      </g>\n     </g>\n     <g id=\"text_9\">\n      <!-- 0.045 -->\n      <g transform=\"translate(20.878125 192.031701)scale(0.1 -0.1)\">\n       <use xlink:href=\"#DejaVuSans-48\"/>\n       <use x=\"63.623047\" xlink:href=\"#DejaVuSans-46\"/>\n       <use x=\"95.410156\" xlink:href=\"#DejaVuSans-48\"/>\n       <use x=\"159.033203\" xlink:href=\"#DejaVuSans-52\"/>\n       <use x=\"222.65625\" xlink:href=\"#DejaVuSans-53\"/>\n      </g>\n     </g>\n    </g>\n    <g id=\"ytick_3\">\n     <g id=\"line2d_9\">\n      <g>\n       <use style=\"stroke:#000000;stroke-width:0.8;\" x=\"56.50625\" xlink:href=\"#mc6c9c4f4d7\" y=\"153.942791\"/>\n      </g>\n     </g>\n     <g id=\"text_10\">\n      <!-- 0.050 -->\n      <g transform=\"translate(20.878125 157.742009)scale(0.1 -0.1)\">\n       <use xlink:href=\"#DejaVuSans-48\"/>\n       <use x=\"63.623047\" xlink:href=\"#DejaVuSans-46\"/>\n       <use x=\"95.410156\" xlink:href=\"#DejaVuSans-48\"/>\n       <use x=\"159.033203\" xlink:href=\"#DejaVuSans-53\"/>\n       <use x=\"222.65625\" xlink:href=\"#DejaVuSans-48\"/>\n      </g>\n     </g>\n    </g>\n    <g id=\"ytick_4\">\n     <g id=\"line2d_10\">\n      <g>\n       <use style=\"stroke:#000000;stroke-width:0.8;\" x=\"56.50625\" xlink:href=\"#mc6c9c4f4d7\" y=\"119.653099\"/>\n      </g>\n     </g>\n     <g id=\"text_11\">\n      <!-- 0.055 -->\n      <g transform=\"translate(20.878125 123.452318)scale(0.1 -0.1)\">\n       <use xlink:href=\"#DejaVuSans-48\"/>\n       <use x=\"63.623047\" xlink:href=\"#DejaVuSans-46\"/>\n       <use x=\"95.410156\" xlink:href=\"#DejaVuSans-48\"/>\n       <use x=\"159.033203\" xlink:href=\"#DejaVuSans-53\"/>\n       <use x=\"222.65625\" xlink:href=\"#DejaVuSans-53\"/>\n      </g>\n     </g>\n    </g>\n    <g id=\"ytick_5\">\n     <g id=\"line2d_11\">\n      <g>\n       <use style=\"stroke:#000000;stroke-width:0.8;\" x=\"56.50625\" xlink:href=\"#mc6c9c4f4d7\" y=\"85.363408\"/>\n      </g>\n     </g>\n     <g id=\"text_12\">\n      <!-- 0.060 -->\n      <g transform=\"translate(20.878125 89.162627)scale(0.1 -0.1)\">\n       <use xlink:href=\"#DejaVuSans-48\"/>\n       <use x=\"63.623047\" xlink:href=\"#DejaVuSans-46\"/>\n       <use x=\"95.410156\" xlink:href=\"#DejaVuSans-48\"/>\n       <use x=\"159.033203\" xlink:href=\"#DejaVuSans-54\"/>\n       <use x=\"222.65625\" xlink:href=\"#DejaVuSans-48\"/>\n      </g>\n     </g>\n    </g>\n    <g id=\"ytick_6\">\n     <g id=\"line2d_12\">\n      <g>\n       <use style=\"stroke:#000000;stroke-width:0.8;\" x=\"56.50625\" xlink:href=\"#mc6c9c4f4d7\" y=\"51.073717\"/>\n      </g>\n     </g>\n     <g id=\"text_13\">\n      <!-- 0.065 -->\n      <g transform=\"translate(20.878125 54.872936)scale(0.1 -0.1)\">\n       <use xlink:href=\"#DejaVuSans-48\"/>\n       <use x=\"63.623047\" xlink:href=\"#DejaVuSans-46\"/>\n       <use x=\"95.410156\" xlink:href=\"#DejaVuSans-48\"/>\n       <use x=\"159.033203\" xlink:href=\"#DejaVuSans-54\"/>\n       <use x=\"222.65625\" xlink:href=\"#DejaVuSans-53\"/>\n      </g>\n     </g>\n    </g>\n    <g id=\"text_14\">\n     <!-- Taux d'erreur -->\n     <g transform=\"translate(14.798437 164.365)rotate(-90)scale(0.1 -0.1)\">\n      <defs>\n       <path d=\"M -0.296875 72.90625 \nL 61.375 72.90625 \nL 61.375 64.59375 \nL 35.5 64.59375 \nL 35.5 0 \nL 25.59375 0 \nL 25.59375 64.59375 \nL -0.296875 64.59375 \nz\n\" id=\"DejaVuSans-84\"/>\n       <path d=\"M 34.28125 27.484375 \nQ 23.390625 27.484375 19.1875 25 \nQ 14.984375 22.515625 14.984375 16.5 \nQ 14.984375 11.71875 18.140625 8.90625 \nQ 21.296875 6.109375 26.703125 6.109375 \nQ 34.1875 6.109375 38.703125 11.40625 \nQ 43.21875 16.703125 43.21875 25.484375 \nL 43.21875 27.484375 \nz\nM 52.203125 31.203125 \nL 52.203125 0 \nL 43.21875 0 \nL 43.21875 8.296875 \nQ 40.140625 3.328125 35.546875 0.953125 \nQ 30.953125 -1.421875 24.3125 -1.421875 \nQ 15.921875 -1.421875 10.953125 3.296875 \nQ 6 8.015625 6 15.921875 \nQ 6 25.140625 12.171875 29.828125 \nQ 18.359375 34.515625 30.609375 34.515625 \nL 43.21875 34.515625 \nL 43.21875 35.40625 \nQ 43.21875 41.609375 39.140625 45 \nQ 35.0625 48.390625 27.6875 48.390625 \nQ 23 48.390625 18.546875 47.265625 \nQ 14.109375 46.140625 10.015625 43.890625 \nL 10.015625 52.203125 \nQ 14.9375 54.109375 19.578125 55.046875 \nQ 24.21875 56 28.609375 56 \nQ 40.484375 56 46.34375 49.84375 \nQ 52.203125 43.703125 52.203125 31.203125 \nz\n\" id=\"DejaVuSans-97\"/>\n       <path d=\"M 8.5 21.578125 \nL 8.5 54.6875 \nL 17.484375 54.6875 \nL 17.484375 21.921875 \nQ 17.484375 14.15625 20.5 10.265625 \nQ 23.53125 6.390625 29.59375 6.390625 \nQ 36.859375 6.390625 41.078125 11.03125 \nQ 45.3125 15.671875 45.3125 23.6875 \nL 45.3125 54.6875 \nL 54.296875 54.6875 \nL 54.296875 0 \nL 45.3125 0 \nL 45.3125 8.40625 \nQ 42.046875 3.421875 37.71875 1 \nQ 33.40625 -1.421875 27.6875 -1.421875 \nQ 18.265625 -1.421875 13.375 4.4375 \nQ 8.5 10.296875 8.5 21.578125 \nz\nM 31.109375 56 \nz\n\" id=\"DejaVuSans-117\"/>\n       <path d=\"M 54.890625 54.6875 \nL 35.109375 28.078125 \nL 55.90625 0 \nL 45.3125 0 \nL 29.390625 21.484375 \nL 13.484375 0 \nL 2.875 0 \nL 24.125 28.609375 \nL 4.6875 54.6875 \nL 15.28125 54.6875 \nL 29.78125 35.203125 \nL 44.28125 54.6875 \nz\n\" id=\"DejaVuSans-120\"/>\n       <path id=\"DejaVuSans-32\"/>\n       <path d=\"M 45.40625 46.390625 \nL 45.40625 75.984375 \nL 54.390625 75.984375 \nL 54.390625 0 \nL 45.40625 0 \nL 45.40625 8.203125 \nQ 42.578125 3.328125 38.25 0.953125 \nQ 33.9375 -1.421875 27.875 -1.421875 \nQ 17.96875 -1.421875 11.734375 6.484375 \nQ 5.515625 14.40625 5.515625 27.296875 \nQ 5.515625 40.1875 11.734375 48.09375 \nQ 17.96875 56 27.875 56 \nQ 33.9375 56 38.25 53.625 \nQ 42.578125 51.265625 45.40625 46.390625 \nz\nM 14.796875 27.296875 \nQ 14.796875 17.390625 18.875 11.75 \nQ 22.953125 6.109375 30.078125 6.109375 \nQ 37.203125 6.109375 41.296875 11.75 \nQ 45.40625 17.390625 45.40625 27.296875 \nQ 45.40625 37.203125 41.296875 42.84375 \nQ 37.203125 48.484375 30.078125 48.484375 \nQ 22.953125 48.484375 18.875 42.84375 \nQ 14.796875 37.203125 14.796875 27.296875 \nz\n\" id=\"DejaVuSans-100\"/>\n       <path d=\"M 17.921875 72.90625 \nL 17.921875 45.796875 \nL 9.625 45.796875 \nL 9.625 72.90625 \nz\n\" id=\"DejaVuSans-39\"/>\n       <path d=\"M 56.203125 29.59375 \nL 56.203125 25.203125 \nL 14.890625 25.203125 \nQ 15.484375 15.921875 20.484375 11.0625 \nQ 25.484375 6.203125 34.421875 6.203125 \nQ 39.59375 6.203125 44.453125 7.46875 \nQ 49.3125 8.734375 54.109375 11.28125 \nL 54.109375 2.78125 \nQ 49.265625 0.734375 44.1875 -0.34375 \nQ 39.109375 -1.421875 33.890625 -1.421875 \nQ 20.796875 -1.421875 13.15625 6.1875 \nQ 5.515625 13.8125 5.515625 26.8125 \nQ 5.515625 40.234375 12.765625 48.109375 \nQ 20.015625 56 32.328125 56 \nQ 43.359375 56 49.78125 48.890625 \nQ 56.203125 41.796875 56.203125 29.59375 \nz\nM 47.21875 32.234375 \nQ 47.125 39.59375 43.09375 43.984375 \nQ 39.0625 48.390625 32.421875 48.390625 \nQ 24.90625 48.390625 20.390625 44.140625 \nQ 15.875 39.890625 15.1875 32.171875 \nz\n\" id=\"DejaVuSans-101\"/>\n       <path d=\"M 41.109375 46.296875 \nQ 39.59375 47.171875 37.8125 47.578125 \nQ 36.03125 48 33.890625 48 \nQ 26.265625 48 22.1875 43.046875 \nQ 18.109375 38.09375 18.109375 28.8125 \nL 18.109375 0 \nL 9.078125 0 \nL 9.078125 54.6875 \nL 18.109375 54.6875 \nL 18.109375 46.1875 \nQ 20.953125 51.171875 25.484375 53.578125 \nQ 30.03125 56 36.53125 56 \nQ 37.453125 56 38.578125 55.875 \nQ 39.703125 55.765625 41.0625 55.515625 \nz\n\" id=\"DejaVuSans-114\"/>\n      </defs>\n      <use xlink:href=\"#DejaVuSans-84\"/>\n      <use x=\"44.583984\" xlink:href=\"#DejaVuSans-97\"/>\n      <use x=\"105.863281\" xlink:href=\"#DejaVuSans-117\"/>\n      <use x=\"169.242188\" xlink:href=\"#DejaVuSans-120\"/>\n      <use x=\"228.421875\" xlink:href=\"#DejaVuSans-32\"/>\n      <use x=\"260.208984\" xlink:href=\"#DejaVuSans-100\"/>\n      <use x=\"323.685547\" xlink:href=\"#DejaVuSans-39\"/>\n      <use x=\"351.175781\" xlink:href=\"#DejaVuSans-101\"/>\n      <use x=\"412.699219\" xlink:href=\"#DejaVuSans-114\"/>\n      <use x=\"452.0625\" xlink:href=\"#DejaVuSans-114\"/>\n      <use x=\"490.925781\" xlink:href=\"#DejaVuSans-101\"/>\n      <use x=\"552.449219\" xlink:href=\"#DejaVuSans-117\"/>\n      <use x=\"615.828125\" xlink:href=\"#DejaVuSans-114\"/>\n     </g>\n    </g>\n   </g>\n   <g id=\"line2d_13\">\n    <path clip-path=\"url(#pa9ef4e5403)\" d=\"M 71.724432 32.681761 \nL 132.597159 161.542002 \nL 193.469886 191.379394 \nL 254.342614 215.062825 \nL 315.215341 209.841281 \nL 376.088068 230.354489 \n\" style=\"fill:none;stroke:#1f77b4;stroke-linecap:square;stroke-width:1.5;\"/>\n   </g>\n   <g id=\"patch_3\">\n    <path d=\"M 56.50625 240.238125 \nL 56.50625 22.798125 \n\" style=\"fill:none;stroke:#000000;stroke-linecap:square;stroke-linejoin:miter;stroke-width:0.8;\"/>\n   </g>\n   <g id=\"patch_4\">\n    <path d=\"M 391.30625 240.238125 \nL 391.30625 22.798125 \n\" style=\"fill:none;stroke:#000000;stroke-linecap:square;stroke-linejoin:miter;stroke-width:0.8;\"/>\n   </g>\n   <g id=\"patch_5\">\n    <path d=\"M 56.50625 240.238125 \nL 391.30625 240.238125 \n\" style=\"fill:none;stroke:#000000;stroke-linecap:square;stroke-linejoin:miter;stroke-width:0.8;\"/>\n   </g>\n   <g id=\"patch_6\">\n    <path d=\"M 56.50625 22.798125 \nL 391.30625 22.798125 \n\" style=\"fill:none;stroke:#000000;stroke-linecap:square;stroke-linejoin:miter;stroke-width:0.8;\"/>\n   </g>\n   <g id=\"text_15\">\n    <!-- Taux d'erreur selon le nombre d'itérations pendant l'apprentissage -->\n    <g transform=\"translate(23.82125 16.798125)scale(0.12 -0.12)\">\n     <defs>\n      <path d=\"M 44.28125 53.078125 \nL 44.28125 44.578125 \nQ 40.484375 46.53125 36.375 47.5 \nQ 32.28125 48.484375 27.875 48.484375 \nQ 21.1875 48.484375 17.84375 46.4375 \nQ 14.5 44.390625 14.5 40.28125 \nQ 14.5 37.15625 16.890625 35.375 \nQ 19.28125 33.59375 26.515625 31.984375 \nL 29.59375 31.296875 \nQ 39.15625 29.25 43.1875 25.515625 \nQ 47.21875 21.78125 47.21875 15.09375 \nQ 47.21875 7.46875 41.1875 3.015625 \nQ 35.15625 -1.421875 24.609375 -1.421875 \nQ 20.21875 -1.421875 15.453125 -0.5625 \nQ 10.6875 0.296875 5.421875 2 \nL 5.421875 11.28125 \nQ 10.40625 8.6875 15.234375 7.390625 \nQ 20.0625 6.109375 24.8125 6.109375 \nQ 31.15625 6.109375 34.5625 8.28125 \nQ 37.984375 10.453125 37.984375 14.40625 \nQ 37.984375 18.0625 35.515625 20.015625 \nQ 33.0625 21.96875 24.703125 23.78125 \nL 21.578125 24.515625 \nQ 13.234375 26.265625 9.515625 29.90625 \nQ 5.8125 33.546875 5.8125 39.890625 \nQ 5.8125 47.609375 11.28125 51.796875 \nQ 16.75 56 26.8125 56 \nQ 31.78125 56 36.171875 55.265625 \nQ 40.578125 54.546875 44.28125 53.078125 \nz\n\" id=\"DejaVuSans-115\"/>\n      <path d=\"M 9.421875 75.984375 \nL 18.40625 75.984375 \nL 18.40625 0 \nL 9.421875 0 \nz\n\" id=\"DejaVuSans-108\"/>\n      <path d=\"M 30.609375 48.390625 \nQ 23.390625 48.390625 19.1875 42.75 \nQ 14.984375 37.109375 14.984375 27.296875 \nQ 14.984375 17.484375 19.15625 11.84375 \nQ 23.34375 6.203125 30.609375 6.203125 \nQ 37.796875 6.203125 41.984375 11.859375 \nQ 46.1875 17.53125 46.1875 27.296875 \nQ 46.1875 37.015625 41.984375 42.703125 \nQ 37.796875 48.390625 30.609375 48.390625 \nz\nM 30.609375 56 \nQ 42.328125 56 49.015625 48.375 \nQ 55.71875 40.765625 55.71875 27.296875 \nQ 55.71875 13.875 49.015625 6.21875 \nQ 42.328125 -1.421875 30.609375 -1.421875 \nQ 18.84375 -1.421875 12.171875 6.21875 \nQ 5.515625 13.875 5.515625 27.296875 \nQ 5.515625 40.765625 12.171875 48.375 \nQ 18.84375 56 30.609375 56 \nz\n\" id=\"DejaVuSans-111\"/>\n      <path d=\"M 54.890625 33.015625 \nL 54.890625 0 \nL 45.90625 0 \nL 45.90625 32.71875 \nQ 45.90625 40.484375 42.875 44.328125 \nQ 39.84375 48.1875 33.796875 48.1875 \nQ 26.515625 48.1875 22.3125 43.546875 \nQ 18.109375 38.921875 18.109375 30.90625 \nL 18.109375 0 \nL 9.078125 0 \nL 9.078125 54.6875 \nL 18.109375 54.6875 \nL 18.109375 46.1875 \nQ 21.34375 51.125 25.703125 53.5625 \nQ 30.078125 56 35.796875 56 \nQ 45.21875 56 50.046875 50.171875 \nQ 54.890625 44.34375 54.890625 33.015625 \nz\n\" id=\"DejaVuSans-110\"/>\n      <path d=\"M 52 44.1875 \nQ 55.375 50.25 60.0625 53.125 \nQ 64.75 56 71.09375 56 \nQ 79.640625 56 84.28125 50.015625 \nQ 88.921875 44.046875 88.921875 33.015625 \nL 88.921875 0 \nL 79.890625 0 \nL 79.890625 32.71875 \nQ 79.890625 40.578125 77.09375 44.375 \nQ 74.3125 48.1875 68.609375 48.1875 \nQ 61.625 48.1875 57.5625 43.546875 \nQ 53.515625 38.921875 53.515625 30.90625 \nL 53.515625 0 \nL 44.484375 0 \nL 44.484375 32.71875 \nQ 44.484375 40.625 41.703125 44.40625 \nQ 38.921875 48.1875 33.109375 48.1875 \nQ 26.21875 48.1875 22.15625 43.53125 \nQ 18.109375 38.875 18.109375 30.90625 \nL 18.109375 0 \nL 9.078125 0 \nL 9.078125 54.6875 \nL 18.109375 54.6875 \nL 18.109375 46.1875 \nQ 21.1875 51.21875 25.484375 53.609375 \nQ 29.78125 56 35.6875 56 \nQ 41.65625 56 45.828125 52.96875 \nQ 50 49.953125 52 44.1875 \nz\n\" id=\"DejaVuSans-109\"/>\n      <path d=\"M 48.6875 27.296875 \nQ 48.6875 37.203125 44.609375 42.84375 \nQ 40.53125 48.484375 33.40625 48.484375 \nQ 26.265625 48.484375 22.1875 42.84375 \nQ 18.109375 37.203125 18.109375 27.296875 \nQ 18.109375 17.390625 22.1875 11.75 \nQ 26.265625 6.109375 33.40625 6.109375 \nQ 40.53125 6.109375 44.609375 11.75 \nQ 48.6875 17.390625 48.6875 27.296875 \nz\nM 18.109375 46.390625 \nQ 20.953125 51.265625 25.265625 53.625 \nQ 29.59375 56 35.59375 56 \nQ 45.5625 56 51.78125 48.09375 \nQ 58.015625 40.1875 58.015625 27.296875 \nQ 58.015625 14.40625 51.78125 6.484375 \nQ 45.5625 -1.421875 35.59375 -1.421875 \nQ 29.59375 -1.421875 25.265625 0.953125 \nQ 20.953125 3.328125 18.109375 8.203125 \nL 18.109375 0 \nL 9.078125 0 \nL 9.078125 75.984375 \nL 18.109375 75.984375 \nz\n\" id=\"DejaVuSans-98\"/>\n      <path d=\"M 9.421875 54.6875 \nL 18.40625 54.6875 \nL 18.40625 0 \nL 9.421875 0 \nz\nM 9.421875 75.984375 \nL 18.40625 75.984375 \nL 18.40625 64.59375 \nL 9.421875 64.59375 \nz\n\" id=\"DejaVuSans-105\"/>\n      <path d=\"M 18.3125 70.21875 \nL 18.3125 54.6875 \nL 36.8125 54.6875 \nL 36.8125 47.703125 \nL 18.3125 47.703125 \nL 18.3125 18.015625 \nQ 18.3125 11.328125 20.140625 9.421875 \nQ 21.96875 7.515625 27.59375 7.515625 \nL 36.8125 7.515625 \nL 36.8125 0 \nL 27.59375 0 \nQ 17.1875 0 13.234375 3.875 \nQ 9.28125 7.765625 9.28125 18.015625 \nL 9.28125 47.703125 \nL 2.6875 47.703125 \nL 2.6875 54.6875 \nL 9.28125 54.6875 \nL 9.28125 70.21875 \nz\n\" id=\"DejaVuSans-116\"/>\n      <path d=\"M 56.203125 29.59375 \nL 56.203125 25.203125 \nL 14.890625 25.203125 \nQ 15.484375 15.921875 20.484375 11.0625 \nQ 25.484375 6.203125 34.421875 6.203125 \nQ 39.59375 6.203125 44.453125 7.46875 \nQ 49.3125 8.734375 54.109375 11.28125 \nL 54.109375 2.78125 \nQ 49.265625 0.734375 44.1875 -0.34375 \nQ 39.109375 -1.421875 33.890625 -1.421875 \nQ 20.796875 -1.421875 13.15625 6.1875 \nQ 5.515625 13.8125 5.515625 26.8125 \nQ 5.515625 40.234375 12.765625 48.109375 \nQ 20.015625 56 32.328125 56 \nQ 43.359375 56 49.78125 48.890625 \nQ 56.203125 41.796875 56.203125 29.59375 \nz\nM 47.21875 32.234375 \nQ 47.125 39.59375 43.09375 43.984375 \nQ 39.0625 48.390625 32.421875 48.390625 \nQ 24.90625 48.390625 20.390625 44.140625 \nQ 15.875 39.890625 15.1875 32.171875 \nz\nM 38.578125 79.984375 \nL 48.296875 79.984375 \nL 32.375 61.625 \nL 24.90625 61.625 \nz\n\" id=\"DejaVuSans-233\"/>\n      <path d=\"M 18.109375 8.203125 \nL 18.109375 -20.796875 \nL 9.078125 -20.796875 \nL 9.078125 54.6875 \nL 18.109375 54.6875 \nL 18.109375 46.390625 \nQ 20.953125 51.265625 25.265625 53.625 \nQ 29.59375 56 35.59375 56 \nQ 45.5625 56 51.78125 48.09375 \nQ 58.015625 40.1875 58.015625 27.296875 \nQ 58.015625 14.40625 51.78125 6.484375 \nQ 45.5625 -1.421875 35.59375 -1.421875 \nQ 29.59375 -1.421875 25.265625 0.953125 \nQ 20.953125 3.328125 18.109375 8.203125 \nz\nM 48.6875 27.296875 \nQ 48.6875 37.203125 44.609375 42.84375 \nQ 40.53125 48.484375 33.40625 48.484375 \nQ 26.265625 48.484375 22.1875 42.84375 \nQ 18.109375 37.203125 18.109375 27.296875 \nQ 18.109375 17.390625 22.1875 11.75 \nQ 26.265625 6.109375 33.40625 6.109375 \nQ 40.53125 6.109375 44.609375 11.75 \nQ 48.6875 17.390625 48.6875 27.296875 \nz\n\" id=\"DejaVuSans-112\"/>\n      <path d=\"M 45.40625 27.984375 \nQ 45.40625 37.75 41.375 43.109375 \nQ 37.359375 48.484375 30.078125 48.484375 \nQ 22.859375 48.484375 18.828125 43.109375 \nQ 14.796875 37.75 14.796875 27.984375 \nQ 14.796875 18.265625 18.828125 12.890625 \nQ 22.859375 7.515625 30.078125 7.515625 \nQ 37.359375 7.515625 41.375 12.890625 \nQ 45.40625 18.265625 45.40625 27.984375 \nz\nM 54.390625 6.78125 \nQ 54.390625 -7.171875 48.1875 -13.984375 \nQ 42 -20.796875 29.203125 -20.796875 \nQ 24.46875 -20.796875 20.265625 -20.09375 \nQ 16.0625 -19.390625 12.109375 -17.921875 \nL 12.109375 -9.1875 \nQ 16.0625 -11.328125 19.921875 -12.34375 \nQ 23.78125 -13.375 27.78125 -13.375 \nQ 36.625 -13.375 41.015625 -8.765625 \nQ 45.40625 -4.15625 45.40625 5.171875 \nL 45.40625 9.625 \nQ 42.625 4.78125 38.28125 2.390625 \nQ 33.9375 0 27.875 0 \nQ 17.828125 0 11.671875 7.65625 \nQ 5.515625 15.328125 5.515625 27.984375 \nQ 5.515625 40.671875 11.671875 48.328125 \nQ 17.828125 56 27.875 56 \nQ 33.9375 56 38.28125 53.609375 \nQ 42.625 51.21875 45.40625 46.390625 \nL 45.40625 54.6875 \nL 54.390625 54.6875 \nz\n\" id=\"DejaVuSans-103\"/>\n     </defs>\n     <use xlink:href=\"#DejaVuSans-84\"/>\n     <use x=\"44.583984\" xlink:href=\"#DejaVuSans-97\"/>\n     <use x=\"105.863281\" xlink:href=\"#DejaVuSans-117\"/>\n     <use x=\"169.242188\" xlink:href=\"#DejaVuSans-120\"/>\n     <use x=\"228.421875\" xlink:href=\"#DejaVuSans-32\"/>\n     <use x=\"260.208984\" xlink:href=\"#DejaVuSans-100\"/>\n     <use x=\"323.685547\" xlink:href=\"#DejaVuSans-39\"/>\n     <use x=\"351.175781\" xlink:href=\"#DejaVuSans-101\"/>\n     <use x=\"412.699219\" xlink:href=\"#DejaVuSans-114\"/>\n     <use x=\"452.0625\" xlink:href=\"#DejaVuSans-114\"/>\n     <use x=\"490.925781\" xlink:href=\"#DejaVuSans-101\"/>\n     <use x=\"552.449219\" xlink:href=\"#DejaVuSans-117\"/>\n     <use x=\"615.828125\" xlink:href=\"#DejaVuSans-114\"/>\n     <use x=\"656.941406\" xlink:href=\"#DejaVuSans-32\"/>\n     <use x=\"688.728516\" xlink:href=\"#DejaVuSans-115\"/>\n     <use x=\"740.828125\" xlink:href=\"#DejaVuSans-101\"/>\n     <use x=\"802.351562\" xlink:href=\"#DejaVuSans-108\"/>\n     <use x=\"830.134766\" xlink:href=\"#DejaVuSans-111\"/>\n     <use x=\"891.316406\" xlink:href=\"#DejaVuSans-110\"/>\n     <use x=\"954.695312\" xlink:href=\"#DejaVuSans-32\"/>\n     <use x=\"986.482422\" xlink:href=\"#DejaVuSans-108\"/>\n     <use x=\"1014.265625\" xlink:href=\"#DejaVuSans-101\"/>\n     <use x=\"1075.789062\" xlink:href=\"#DejaVuSans-32\"/>\n     <use x=\"1107.576172\" xlink:href=\"#DejaVuSans-110\"/>\n     <use x=\"1170.955078\" xlink:href=\"#DejaVuSans-111\"/>\n     <use x=\"1232.136719\" xlink:href=\"#DejaVuSans-109\"/>\n     <use x=\"1329.548828\" xlink:href=\"#DejaVuSans-98\"/>\n     <use x=\"1393.025391\" xlink:href=\"#DejaVuSans-114\"/>\n     <use x=\"1431.888672\" xlink:href=\"#DejaVuSans-101\"/>\n     <use x=\"1493.412109\" xlink:href=\"#DejaVuSans-32\"/>\n     <use x=\"1525.199219\" xlink:href=\"#DejaVuSans-100\"/>\n     <use x=\"1588.675781\" xlink:href=\"#DejaVuSans-39\"/>\n     <use x=\"1616.166016\" xlink:href=\"#DejaVuSans-105\"/>\n     <use x=\"1643.949219\" xlink:href=\"#DejaVuSans-116\"/>\n     <use x=\"1683.158203\" xlink:href=\"#DejaVuSans-233\"/>\n     <use x=\"1744.681641\" xlink:href=\"#DejaVuSans-114\"/>\n     <use x=\"1785.794922\" xlink:href=\"#DejaVuSans-97\"/>\n     <use x=\"1847.074219\" xlink:href=\"#DejaVuSans-116\"/>\n     <use x=\"1886.283203\" xlink:href=\"#DejaVuSans-105\"/>\n     <use x=\"1914.066406\" xlink:href=\"#DejaVuSans-111\"/>\n     <use x=\"1975.248047\" xlink:href=\"#DejaVuSans-110\"/>\n     <use x=\"2038.626953\" xlink:href=\"#DejaVuSans-115\"/>\n     <use x=\"2090.726562\" xlink:href=\"#DejaVuSans-32\"/>\n     <use x=\"2122.513672\" xlink:href=\"#DejaVuSans-112\"/>\n     <use x=\"2185.990234\" xlink:href=\"#DejaVuSans-101\"/>\n     <use x=\"2247.513672\" xlink:href=\"#DejaVuSans-110\"/>\n     <use x=\"2310.892578\" xlink:href=\"#DejaVuSans-100\"/>\n     <use x=\"2374.369141\" xlink:href=\"#DejaVuSans-97\"/>\n     <use x=\"2435.648438\" xlink:href=\"#DejaVuSans-110\"/>\n     <use x=\"2499.027344\" xlink:href=\"#DejaVuSans-116\"/>\n     <use x=\"2538.236328\" xlink:href=\"#DejaVuSans-32\"/>\n     <use x=\"2570.023438\" xlink:href=\"#DejaVuSans-108\"/>\n     <use x=\"2597.806641\" xlink:href=\"#DejaVuSans-39\"/>\n     <use x=\"2625.296875\" xlink:href=\"#DejaVuSans-97\"/>\n     <use x=\"2686.576172\" xlink:href=\"#DejaVuSans-112\"/>\n     <use x=\"2750.052734\" xlink:href=\"#DejaVuSans-112\"/>\n     <use x=\"2813.529297\" xlink:href=\"#DejaVuSans-114\"/>\n     <use x=\"2852.392578\" xlink:href=\"#DejaVuSans-101\"/>\n     <use x=\"2913.916016\" xlink:href=\"#DejaVuSans-110\"/>\n     <use x=\"2977.294922\" xlink:href=\"#DejaVuSans-116\"/>\n     <use x=\"3016.503906\" xlink:href=\"#DejaVuSans-105\"/>\n     <use x=\"3044.287109\" xlink:href=\"#DejaVuSans-115\"/>\n     <use x=\"3096.386719\" xlink:href=\"#DejaVuSans-115\"/>\n     <use x=\"3148.486328\" xlink:href=\"#DejaVuSans-97\"/>\n     <use x=\"3209.765625\" xlink:href=\"#DejaVuSans-103\"/>\n     <use x=\"3273.242188\" xlink:href=\"#DejaVuSans-101\"/>\n    </g>\n   </g>\n  </g>\n </g>\n <defs>\n  <clipPath id=\"pa9ef4e5403\">\n   <rect height=\"217.44\" width=\"334.8\" x=\"56.50625\" y=\"22.798125\"/>\n  </clipPath>\n </defs>\n</svg>\n",
      "image/png": "[encoded data removed]"
     },
     "metadata": {
      "needs_background": "light"
     }
    }
   ],
   "source": [
    "import matplotlib.pyplot as plt\n",
    "\n",
    "plt.figure()\n",
    "plt.plot(x_range,taux)\n",
    "plt.ylabel(\"Taux d'erreur\")\n",
    "plt.xlabel(\"MAX_EPOCH\")\n",
    "plt.title(\"Taux d'erreur selon le nombre d'itérations pendant l'apprentissage\")\n",
    "plt.show()"
   ]
  },
  {
   "source": [
    "On remarque qu'à partir de 2 ou 3 itérations on descend en dessous de 5% d'erreurs, mais que des itérations additionnelles n'améliorent pas beaucoup ce taux, en tout cas pas assez par rapport au temps additionnel que demande l'entraînement avec ces itérations additionnelles. Nous choisissont donc 3 itérations par défaut."
   ],
   "cell_type": "markdown",
   "metadata": {}
  },
  {
   "source": [
    "### Evaluation des caractéristiques\n",
    "On peut se demander si on pourrait obtenir des taux similaires avec moins de features, si certaines features apportent plus de précision que d'autre. Pour cela on réeffectue un apprentissage avec 3 itérations, sans modifier l'extraction de caractéristiques. Puis on teste différentes combinaisons d'extractions de features sur le corpus dev avant d'effectuer le test : seulement les mots (mot, mot précédent et mot suivant), et tout sauf les mots. On pourrait bien sûr tester bien d'autres combinaisons. Les features non extraites sur le corpus dev valent donc toutes zéro pour ce corpus et ne seront pas prises en compte."
   ],
   "cell_type": "markdown",
   "metadata": {}
  },
  {
   "cell_type": "code",
   "execution_count": 15,
   "metadata": {},
   "outputs": [],
   "source": [
    "poids_gsd_train = perceptron_train(gsd_train_features_gold) # entraînement avec nombre d'itérations par défaut"
   ]
  },
  {
   "cell_type": "code",
   "execution_count": 16,
   "metadata": {},
   "outputs": [
    {
     "output_type": "stream",
     "name": "stdout",
     "text": [
      "Test avec seulement les mots : 9.860%\n",
      "Test avec tout sauf les mots : 70.795%\n"
     ]
    }
   ],
   "source": [
    "def test_features(corpus, poids, test_mots=False, test_maj=False, test_non_alpha=False, test_long=False, test_suff=False):\n",
    "    '''Effectue les 3 étapes nécessaires pour effectuer le test'''\n",
    "    features = feature_extraction(corpus, feat_mots=test_mots, feat_maj=test_maj, feat_non_alpha=test_non_alpha, feat_long=test_long, feat_suff=test_suff)\n",
    "    features_gold = add_gold(features, corpus)\n",
    "    tx_erreur = test(features_gold, poids)\n",
    "    \n",
    "    return tx_erreur\n",
    "\n",
    "print(f\"Test avec seulement les mots : {test_features(gsd_train, poids_gsd_train, test_mots=True):.3%}\")\n",
    "print(f\"Test avec tout sauf les mots : {test_features(gsd_train, poids_gsd_train, test_maj=True, test_suff=True, test_non_alpha=True, test_long=True):.3%}\")"
   ]
  },
  {
   "source": [
    "On remarque que sans la prise en compte des mots le résultat est catastrophique ! Avec seulement les mots on fait environ 2 fois plus d'erreurs que si on prend en compte l'ensemble des caractéristiques. Tester quelques combinaisons de mots + autres caractéristiques :"
   ],
   "cell_type": "markdown",
   "metadata": {}
  },
  {
   "cell_type": "code",
   "execution_count": 17,
   "metadata": {},
   "outputs": [
    {
     "output_type": "stream",
     "name": "stdout",
     "text": [
      "Test avec mots + longueur : 10.006%\n",
      "Test avec mots + maj : 5.586%\n",
      "Test avec mots + caractères non alphanumériques : 8.455%\n",
      "Test avec mots + suffixes : 9.604%\n"
     ]
    }
   ],
   "source": [
    "print(f\"Test avec mots + longueur : {test_features(gsd_train, poids_gsd_train, test_mots=True, test_long=True):.3%}\")\n",
    "print(f\"Test avec mots + maj : {test_features(gsd_train, poids_gsd_train, test_mots=True, test_maj=True):.3%}\")\n",
    "print(f\"Test avec mots + caractères non alphanumériques : {test_features(gsd_train, poids_gsd_train, test_mots=True, test_non_alpha=True):.3%}\")\n",
    "print(f\"Test avec mots + suffixes : {test_features(gsd_train, poids_gsd_train, test_mots=True, test_suff=True):.3%}\")"
   ]
  },
  {
   "source": [
    "A partir de ces tests non exhaustifs, il semblerait que la prise en compte des majuscules apporte davantage de précision, tandis que la prise en compte des autres caractéristiques seules, en plus des mots, apporte beaucoup moins de précision et pourrait peut-être être éliminés."
   ],
   "cell_type": "markdown",
   "metadata": {}
  },
  {
   "source": [
    "### Erreurs fréquentes\n",
    "On peut analyser les erreurs les plus fréquentes à l'aide d'une matrice de confusion."
   ],
   "cell_type": "markdown",
   "metadata": {}
  },
  {
   "cell_type": "code",
   "execution_count": 18,
   "metadata": {},
   "outputs": [
    {
     "output_type": "stream",
     "name": "stdout",
     "text": [
      "Prédictions   ADJ   ADP   ADV   AUX  CCONJ   DET  INTJ  NOUN  NUM  PART  PRON  \\\nRéférences                                                                      \nADJ          1949     0     4     0      0     5     0    80    5     0    15   \nADP             2  5718     0     2      0    13     0     1    0     0     0   \nADV            16     5  1233     1      7     1     0    11    0     0    11   \nAUX             1     0     0  1068      1     0     0     4    0     0     0   \nCCONJ           0     0     0     1    883     0     0     0    0     0     0   \nDET             7    16     0     0      0  5476     0     0    2     0    12   \nINTJ            0     0     1     0      0     0     2     0    0     0     0   \nNOUN           83     1     9     7      0     3     1  6350    4     0     7   \nNUM             1     0     0     0      0     5     0     4  935     0     3   \nPART            0     0     1     0      0     0     0     0    0     6     0   \nPRON            8     7     1     0      0    42     0     2    0     0  1467   \nPROPN          41     3     1     0      0     1     0    94    9     0     4   \nPUNCT           0     0     0     0      0     0     0     0    0     0     0   \nSCONJ           0     2     8     0      0     0     0     0    0     0    40   \nSYM             0     0     0     0      0     0     0     1    1     0     0   \nVERB          113     4     1    29      0     1     0    86    0     0     2   \nX               9     1     1     0      0     2     0     9    4     0     3   \n_             290     0    61     0      2     7     0    44    0     0   558   \nAll          2520  5757  1321  1108    893  5556     3  6686  960     6  2122   \n\nPrédictions  PROPN  PUNCT  SCONJ  SYM  VERB    X    All  \nRéférences                                               \nADJ             30      0      0    0   107    6   2201  \nADP              0      0      4    0     3    8   5751  \nADV              4      0     11    0     6    1   1307  \nAUX              1      0      0    0    48    1   1124  \nCCONJ            0      0      0    0     0    0    884  \nDET              1      0      0    0     0    0   5514  \nINTJ             2      0      0    0     0    0      5  \nNOUN           168      0      0    0    82   14   6729  \nNUM             10      0      0    0     1    0    959  \nPART             0      0      1    0     1    0      9  \nPRON             2      0     10    0     2    1   1542  \nPROPN         2437      0      0    1    15   28   2634  \nPUNCT            0   3804      0    0     0    0   3804  \nSCONJ            0      0    205    0     1    0    256  \nSYM              5      0      0   52     0    2     61  \nVERB             7      0      0    0  2536    2   2781  \nX               48      0      0    2     1   77    157  \n_               23      0      0    0    68    4   1057  \nAll           2738   3804    231   55  2871  144  36775  \n"
     ]
    }
   ],
   "source": [
    "# matrice de confusion avec Pandas. source : https://stackoverflow.com/questions/2148543/how-to-write-a-confusion-matrix-in-python\n",
    "\n",
    "import pandas as pd\n",
    "\n",
    "def matrice_confusion(corpus_feat, poids):\n",
    "    predictions = []\n",
    "    gold = []\n",
    "\n",
    "    for word in corpus_feat:\n",
    "        predictions.append(predict(word[0], poids))\n",
    "        gold.append(word[1])\n",
    "\n",
    "    preds = pd.Series((item for item in predictions), name = \"Prédictions\")\n",
    "    refs = pd.Series((item for item in gold), name = \"Références\")\n",
    "    matrice_confusion = pd.crosstab(refs, preds, margins=True)\n",
    "    print(matrice_confusion)\n",
    "\n",
    "matrice_confusion(gsd_dev_features_gold, poids_gsd_train)"
   ]
  },
  {
   "source": [
    "Les erreurs les plus fréquentes sont :\n",
    "- VERB au lieu d'ADJ (234)\n",
    "- PROPN au lieu de NOUN (217)\n",
    "- NOUN au lieu d'ADJ (124)\n",
    "- NOUN au lieu de SYM\n",
    "- VERB au lieu de NOUN (102)"
   ],
   "cell_type": "markdown",
   "metadata": {}
  },
  {
   "source": [
    "### Précision sur mots hors vocabulaire d'apprentissage\n",
    "Comparons la précision sur les mots présents dans le corpus d'apprentissage et ceux absents du corpus d'apprentissage."
   ],
   "cell_type": "markdown",
   "metadata": {}
  },
  {
   "cell_type": "code",
   "execution_count": 19,
   "metadata": {
    "tags": []
   },
   "outputs": [],
   "source": [
    "def getVoc(corpus):\n",
    "    '''Renvoie le vocabulaire (set)'''\n",
    "    voc = set()\n",
    "    for phrase in corpus:\n",
    "        for mot in phrase[\"mots\"]:\n",
    "            voc.add(mot)\n",
    "    return voc\n",
    "\n",
    "def test_hors_voc(features_gold_mot, poids, voc):\n",
    "    \"\"\"Prédit les étiquettes des mots hors vocabulaire et renvoie un taux d'erreur\"\"\"\n",
    "    nb_erreurs_hors_voc = 0\n",
    "    nb_erreurs_in_voc = 0\n",
    "\n",
    "    mots_hors_voc=0\n",
    "    mots_in_voc = 0\n",
    "\n",
    "    for vec, gold, mot in features_gold_mot:\n",
    "        if mot in voc:\n",
    "            mots_in_voc +=1\n",
    "            prediction = predict(vec, poids)\n",
    "            if not gold == \"_\" and not prediction == gold:\n",
    "                nb_erreurs_in_voc +=1\n",
    "        else:\n",
    "            mots_hors_voc +=1\n",
    "            prediction = predict(vec, poids)\n",
    "            if not gold == \"_\" and not prediction == gold:\n",
    "                # print(mot, vec, prediction, gold, sep=\"\\t\", end=\"\\n\")\n",
    "                nb_erreurs_hors_voc +=1\n",
    "\n",
    "\n",
    "    return (nb_erreurs_hors_voc/mots_hors_voc, nb_erreurs_in_voc/mots_in_voc)"
   ]
  },
  {
   "cell_type": "code",
   "execution_count": 20,
   "metadata": {},
   "outputs": [
    {
     "output_type": "stream",
     "name": "stdout",
     "text": [
      "Taux d'erreur hors voc : 17.345%\nTaux d'erreur dans voc : 3.085%\n"
     ]
    }
   ],
   "source": [
    "# nouvelle extraction de features mais avec les mots, pour pouvoir ensuite voir s'ils sont dans le vocabulaire ou pas\n",
    "gsd_dev_features_gold_mot = add_gold(gsd_dev_features, gsd_dev, addMot=True)\n",
    "\n",
    "resultats_test_voc = test_hors_voc(gsd_dev_features_gold_mot, poids_gsd_train, getVoc(gsd_train))\n",
    "\n",
    "print(f\"Taux d'erreur hors voc : {resultats_test_voc[0]:.3%}\")\n",
    "print(f\"Taux d'erreur dans voc : {resultats_test_voc[1]:.3%}\")"
   ]
  },
  {
   "source": [
    "Le taux d'erreur sur les mots non présents dans le vocabulaire d'apprentissage est très élevé tandis que celui sur les mots présents dans le vocabulaire d'apprentissage est très bas. Le perceptron se repose beaucoup sur l'association des mots à leur catégorie grammaticale, par rapport aux autres caractéristiques."
   ],
   "cell_type": "markdown",
   "metadata": {}
  },
  {
   "source": [
    "## Evaluation sur le corpus Test\n",
    "Après un apprentissage avec l'ensemble des caractéristiques et 3 itérations sur le corpus d'apprentissage, on obtient un taux d'erreur de moins de 5% lors de l'évaluation sur le corpus test."
   ],
   "cell_type": "markdown",
   "metadata": {}
  },
  {
   "cell_type": "code",
   "execution_count": 21,
   "metadata": {},
   "outputs": [
    {
     "output_type": "stream",
     "name": "stdout",
     "text": [
      "Taux d'erreur sur corpus d'évaluation in-domaine : 4.545%\n"
     ]
    }
   ],
   "source": [
    "gsd_test_features = feature_extraction(gsd_test)\n",
    "gsd_test_features_gold = add_gold(gsd_test_features, gsd_test)\n",
    "\n",
    "print(f\"Taux d'erreur sur corpus d'évaluation in-domaine : {test(gsd_test_features_gold, poids_gsd_train):.3%}\")"
   ]
  },
  {
   "source": [
    "# Evaluation hors-domaine"
   ],
   "cell_type": "markdown",
   "metadata": {}
  },
  {
   "source": [
    "## Analyse de l'impact du changement de domaine\n",
    "* identifier causes de la baisse de performance : analyse de sortie, matrice de confusion, erreurs les + fréquentes\n",
    "* réfléchir à des caractéristiques plus adaptées\n",
    "* sélection d'un nouvel ensemble d'apprentissage avec des exemples représentatif (généré par un modèle de langue type TP2)"
   ],
   "cell_type": "markdown",
   "metadata": {}
  },
  {
   "source": [
    "### Corpus oral"
   ],
   "cell_type": "markdown",
   "metadata": {}
  },
  {
   "cell_type": "code",
   "execution_count": 29,
   "metadata": {
    "tags": []
   },
   "outputs": [
    {
     "output_type": "stream",
     "name": "stdout",
     "text": [
      "Taux d'erreur sur corpus d'évaluation hors domaine (oral) : 13.740%\n"
     ]
    }
   ],
   "source": [
    "oral_dev = load_corpus(\"corpus-hors-domaine/spoken/fr_spoken-ud-dev.conllu\")\n",
    "oral_dev_features = feature_extraction(oral_dev)\n",
    "oral_dev_features_gold = add_gold(oral_dev_features, oral_dev)\n",
    "\n",
    "print(f\"Taux d'erreur sur corpus d'évaluation hors domaine (oral) : {test(oral_dev_features_gold, poids_gsd_train):.3%}\")"
   ]
  },
  {
   "source": [
    "### Corpus littéraire"
   ],
   "cell_type": "markdown",
   "metadata": {}
  },
  {
   "source": [
    "## Développement de systèmes robutes au changement de domaine"
   ],
   "cell_type": "markdown",
   "metadata": {}
  }
 ]
}