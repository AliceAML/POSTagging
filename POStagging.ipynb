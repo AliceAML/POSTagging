{
 "metadata": {
  "language_info": {
   "codemirror_mode": {
    "name": "ipython",
    "version": 3
   },
   "file_extension": ".py",
   "mimetype": "text/x-python",
   "name": "python",
   "nbconvert_exporter": "python",
   "pygments_lexer": "ipython3",
   "version": "3.8.6-final"
  },
  "orig_nbformat": 2,
  "kernelspec": {
   "name": "python3",
   "display_name": "Python 3",
   "language": "python"
  }
 },
 "nbformat": 4,
 "nbformat_minor": 2,
 "cells": [
  {
   "source": [
    "# Projet TAL M1 S1 : POS Tagging\n",
    "structure du projet expliqué ici : https://u-paris.zoom.us/rec/share/rFB-gp7vkgMK31kfPxEsyNF2k6q7mHcq3P9MQiovimkr9ebIewZpuD62RBk6SmM.31Mmzx1VyMqQXRtu?startTime=1607605609000"
   ],
   "cell_type": "markdown",
   "metadata": {}
  },
  {
   "source": [
    "# Implémentation du classifieur"
   ],
   "cell_type": "markdown",
   "metadata": {}
  },
  {
   "source": [
    "## Import du corpus\n",
    "Cours Zoom du 17/12 - 35 min\n",
    "\n",
    "On charge les trois corpus *in-domain* sous la forme de listes de dictionnaires : chaque phrase a une clé \"mots\" qui est associée à une liste des mots, et une clé \"POS\" associée à une liste de POS. \n",
    "\n",
    "On utilise les trois corpus distincts de French-GSD :\n",
    "- Train : apprentissage.\n",
    "- Dev : validation. Pour tester et améliorer le modèle. \n",
    "- Test : évaluation. On ne l'utilisera pas pendant l'apprentissage ou le test."
   ],
   "cell_type": "markdown",
   "metadata": {}
  },
  {
   "cell_type": "code",
   "execution_count": 1,
   "metadata": {
    "tags": []
   },
   "outputs": [],
   "source": [
    "def load_corpus(file):\n",
    "    with open(file, \"r\") as f:\n",
    "        content = f.read() # chargement du corpus\n",
    "    content = content.split(\"\\n\\n\") # séparation en phrases\n",
    "    corpus = []\n",
    "    for phrase in content: # pour chaque phrase\n",
    "        phrase_dico = {\"mots\" : [], \"gold_labels\" : []} # liste qui contiendra 1 dictionnaire par mot de la phrase\n",
    "        for line in phrase.splitlines():\n",
    "            if not line.startswith(\"#\"): # on ignore les lignes qui commencent par #\n",
    "                features = line.split(\"\\t\")\n",
    "                phrase_dico[\"mots\"].append(features[1])\n",
    "                phrase_dico[\"gold_labels\"].append(features[3])\n",
    "        corpus.append(phrase_dico)\n",
    "    return corpus\n",
    "\n",
    "gsd_train = load_corpus(\"corpus-in-domain/fr_gsd-ud-train.conllu\")\n",
    "gsd_test = load_corpus(\"corpus-in-domain/fr_gsd-ud-test.conllu\")\n",
    "gsd_dev = load_corpus(\"corpus-in-domain/fr_gsd-ud-dev.conllu\")"
   ]
  },
  {
   "cell_type": "code",
   "execution_count": 2,
   "metadata": {},
   "outputs": [
    {
     "output_type": "stream",
     "name": "stdout",
     "text": [
      "---- Aperçus d'une phrase de chaque corpus-----\n\n{'mots': [\"L'\", 'œuvre', 'est', 'située', 'dans', 'la', 'galerie', 'des', 'de', 'les', 'batailles', ',', 'dans', 'le', 'château', 'de', 'Versailles', '.'], 'gold_labels': ['DET', 'NOUN', 'AUX', 'VERB', 'ADP', 'DET', 'NOUN', '_', 'ADP', 'DET', 'NOUN', 'PUNCT', 'ADP', 'DET', 'NOUN', 'ADP', 'PROPN', 'PUNCT']}\n\n{'mots': ['Ce', 'résultat', 'provient', 'à', 'hauteur', 'de', '18,5', 'ME', 'de', 'la', 'progression', 'de', 'la', 'rentabilité', 'de', \"l'\", 'habitat', 'de', 'loisirs', 'qui', 'dégage', 'une', 'marge', 'opérationnelle', 'de', '9,5', '%', 'contre', '8,5', '%', \"l'\", 'année', 'passée', '.'], 'gold_labels': ['DET', 'NOUN', 'VERB', 'ADP', 'NOUN', 'ADP', 'NUM', 'NOUN', 'ADP', 'DET', 'NOUN', 'ADP', 'DET', 'NOUN', 'ADP', 'DET', 'NOUN', 'ADP', 'NOUN', 'PRON', 'VERB', 'DET', 'NOUN', 'ADJ', 'ADP', 'NUM', 'SYM', 'ADP', 'NUM', 'SYM', 'DET', 'NOUN', 'ADJ', 'PUNCT']}\n\n{'mots': ['Cette', 'espèce', 'est', 'endémique', 'du', 'de', 'le', 'département', 'de', 'Nariño', 'en', 'Colombie', '.'], 'gold_labels': ['DET', 'NOUN', 'AUX', 'ADJ', '_', 'ADP', 'DET', 'NOUN', 'ADP', 'PROPN', 'ADP', 'PROPN', 'PUNCT']}\n"
     ]
    }
   ],
   "source": [
    "print(\"---- Aperçus d'une phrase de chaque corpus-----\", end=\"\\n\\n\")\n",
    "print(gsd_train[1], end=\"\\n\\n\")\n",
    "print(gsd_test[100], end=\"\\n\\n\")\n",
    "print(gsd_dev[564])"
   ]
  },
  {
   "source": [
    "## Extraction des caractéristiques\n",
    "\n",
    "La fonction feature_extraction renvoie une liste de dictionnaires (un par mot) qui contiennent les caractéristiques suivantes pour chaque mot :\n",
    "- mot\n",
    "- mot précédent : pour le premier mot de la phrase son mot précédent sera \"START\", ce qui permettra de prendre en compte la caractéristique \"être le premier mot\".\n",
    "- mot suivant : pour le dernier mot, ce sera \"END\".\n",
    "- commence par une lettre majuscule\n",
    "- est numérique\n",
    "- contient des caractères non alphanumériques\n",
    "- longueur du mot\n",
    "\n",
    "Une fois que l'extraction des caractéristiques a été faite, on n'a plus besoin de conserver les phrases. Cela nous permettra de réellement mélanger tous les mots du corpus dans le perceptron."
   ],
   "cell_type": "markdown",
   "metadata": {}
  },
  {
   "cell_type": "code",
   "execution_count": 5,
   "metadata": {
    "tags": []
   },
   "outputs": [],
   "source": [
    "def feature_extraction(corpus):\n",
    "    \n",
    "    # clés des dictionnaires\n",
    "    mot = \"mot\"\n",
    "    gold = \"gold_label\"\n",
    "    mot_prec = \"préc\"\n",
    "    mot_suiv = \"suiv\"\n",
    "    maj = \"maj\"\n",
    "    num = \"nb\"\n",
    "    nonAlphanum = \"non alphanum\"\n",
    "    long = \"longueur\"\n",
    "\n",
    "    corpus_features = [] # copie de la liste pour ne pas modifier la liste d'origine\n",
    "\n",
    "    for phrase in corpus: # ajout des features additionnelles\n",
    "        for prev, word, suiv in zip([\"START\"] + phrase[\"mots\"][:-1], phrase[\"mots\"], phrase[\"mots\"][1:] + [\"END\"]):\n",
    "            # création de triplets (mot précédent, mot, mot suivant)\n",
    "            # avec \"START\" en prev pour le 1er mot\n",
    "            # et \"END\" en suiv pour le dernier\n",
    "\n",
    "            # ajout d'un dictionnaire de features du mot au corpus\n",
    "            corpus_features.append({mot : word, \n",
    "                gold : phrase[\"gold_labels\"][phrase[\"mots\"].index(word)], # on récupère le gold_label correspondant\n",
    "                mot_prec : prev,\n",
    "                mot_suiv : suiv,\n",
    "                num : word.isnumeric(),\n",
    "                nonAlphanum : not word.isalnum(),\n",
    "                long : len(word)})\n",
    "\n",
    "    return corpus_features\n",
    "\n",
    "gsd_train_features = feature_extraction(gsd_train)\n",
    "gsd_dev_features = feature_extraction(gsd_dev)\n",
    "gsd_test_features = feature_extraction(gsd_test)"
   ]
  },
  {
   "cell_type": "code",
   "execution_count": 9,
   "metadata": {},
   "outputs": [
    {
     "output_type": "stream",
     "name": "stdout",
     "text": [
      "{'mot': 'sont', 'gold_label': 'AUX', 'préc': 'cérébrales', 'suiv': 'devenu', 'nb': False, 'non alphanum': False, 'longueur': 4}\n{'mot': 'devenu', 'gold_label': 'VERB', 'préc': 'sont', 'suiv': 'si', 'nb': False, 'non alphanum': False, 'longueur': 6}\n{'mot': 'si', 'gold_label': 'ADV', 'préc': 'devenu', 'suiv': 'courantes', 'nb': False, 'non alphanum': False, 'longueur': 2}\n"
     ]
    }
   ],
   "source": [
    "print(*gsd_train_features[3:6], sep=\"\\n\")"
   ]
  },
  {
   "source": [
    "## Implémentation de l'algorithme de classification\n",
    "On a choisi d'implémenter la classification avec un perceptron moyenné.\n",
    "\n",
    "Etiquettes du corpus : ADJ, ADP, ADV, AUX, CCONJ, DET, INTJ, NOUN, NUM, PART, PRON, PROPN, PUNCT, SCONJ, SYM, VERB, X\n",
    "\n",
    "Sources : cours 3/12 + perceptron.pdf + zoom du 17/12"
   ],
   "cell_type": "markdown",
   "metadata": {}
  },
  {
   "cell_type": "code",
   "execution_count": 10,
   "metadata": {},
   "outputs": [],
   "source": [
    "def perceptron_train(training_set, MAX_EPOCH=10):\n",
    "    tags = [\"ADJ\", \"ADP\", \"ADV\", \"AUX\", \"CCONJ\", \"DET\", \"INTJ\", \"NOUN\", \"NUM\", \"PART\", \"PRON\", \"PROPN\", \"PUNCT\", \"SCONJ\", \"SYM\", \"VERB\", \"X\"]\n",
    "\n",
    "    # TODO initialisation des poids : à zéros ou bien de manière aléatoire ??\n",
    "    # je suis pas sûre du format de ces poids....\n",
    "    a = [[0]*len(training_set[0]) for tag in tags] # poids moyennés\n",
    "\n",
    "    for i in range(0, MAX_EPOCH):\n",
    "        w = [[0]*len(training_set[0]) for tag in tags] # initialisé du vecteur de poids\n",
    "        shuffled_set = shuffle(training_set.copy()) # on mélange le training set\n",
    "\n",
    "        for phrase in shuffled_set:\n",
    "            for word in phrase:\n",
    "                prediction = max()\n",
    "                # on cherche le tag le plus probable... mais comment ?... \n",
    "                # il va falloir donner une probabilité à chaque mot dis donc.... ???\n",
    "\n",
    "                # on compare avec le gold_label\n",
    "                # si mauvaise prédiction\n",
    "                    #  on ajoute x(i) à chaque poids de l'étiquette correcte\n",
    "                    #  on retire x(i) à chaque poids de l'étiquette mal prédite\n",
    "\n",
    "        # on ajoute w à a\n",
    "    return a\n",
    "\n",
    "poids_gsd_train = perceptron_train(gsd_train_features)"
   ]
  },
  {
   "source": [
    "## Evaluation des performances sur le corpus de validation (Dev)\n",
    "Il faudra bien tester les hyper paramètres (epoch...)"
   ],
   "cell_type": "markdown",
   "metadata": {}
  },
  {
   "source": [
    "## Evaluation sur le corpus Test"
   ],
   "cell_type": "markdown",
   "metadata": {}
  },
  {
   "source": [
    "# Evaluation hors-domaine"
   ],
   "cell_type": "markdown",
   "metadata": {}
  },
  {
   "source": [
    "## Analyse de l'impact du changement de domaine\n",
    "* identifier causes de la baisse de performance : analyse de sortie, matrice de confusion, erreurs les + fréquentes\n",
    "* réfléchir à des caractéristiques plus adaptées\n",
    "* sélection d'un nouvel ensemble d'apprentissage avec des exemples représentatif (généré par un modèle de langue type TP2)"
   ],
   "cell_type": "markdown",
   "metadata": {}
  },
  {
   "source": [
    "### Corpus UGC (User-generated content)"
   ],
   "cell_type": "markdown",
   "metadata": {}
  },
  {
   "source": [
    "### Corpus littéraire"
   ],
   "cell_type": "markdown",
   "metadata": {}
  },
  {
   "source": [
    "## Développement de systèmes robutes au changement de domaine"
   ],
   "cell_type": "markdown",
   "metadata": {}
  }
 ]
}