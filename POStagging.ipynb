{
 "metadata": {
  "language_info": {
   "codemirror_mode": {
    "name": "ipython",
    "version": 3
   },
   "file_extension": ".py",
   "mimetype": "text/x-python",
   "name": "python",
   "nbconvert_exporter": "python",
   "pygments_lexer": "ipython3",
   "version": "3.8.6-final"
  },
  "orig_nbformat": 2,
  "kernelspec": {
   "name": "python3",
   "display_name": "Python 3",
   "language": "python"
  }
 },
 "nbformat": 4,
 "nbformat_minor": 2,
 "cells": [
  {
   "source": [
    "# Projet TAL M1 S1 : POS Tagging\n",
    "structure du projet expliqué ici : https://u-paris.zoom.us/rec/share/rFB-gp7vkgMK31kfPxEsyNF2k6q7mHcq3P9MQiovimkr9ebIewZpuD62RBk6SmM.31Mmzx1VyMqQXRtu?startTime=1607605609000"
   ],
   "cell_type": "markdown",
   "metadata": {}
  },
  {
   "source": [
    "# Implémentation du classifieur"
   ],
   "cell_type": "markdown",
   "metadata": {}
  },
  {
   "source": [
    "## Import du corpus\n",
    "Cours Zoom du 17/12 - 35 min\n",
    "\n",
    "On charge les trois corpus *in-domain* sous la forme de listes de dictionnaires : chaque phrase a une clé \"mots\" qui est associée à une liste des mots, et une clé \"POS\" associée à une liste de POS. \n",
    "\n",
    "On utilise les trois corpus distincts de French-GSD :\n",
    "- Train : apprentissage.\n",
    "- Dev : validation. Pour tester et améliorer le modèle. \n",
    "- Test : évaluation. On ne l'utilisera pas pendant l'apprentissage ou le test."
   ],
   "cell_type": "markdown",
   "metadata": {}
  },
  {
   "cell_type": "code",
   "execution_count": 1,
   "metadata": {
    "tags": []
   },
   "outputs": [],
   "source": [
    "def load_corpus(file):\n",
    "    with open(file, \"r\") as f:\n",
    "        content = f.read() # chargement du corpus\n",
    "    content = content.split(\"\\n\\n\") # séparation en phrases\n",
    "    corpus = []\n",
    "    for phrase in content: # pour chaque phrase\n",
    "        phrase_dico = {\"mots\" : [], \"POS\" : []} # liste qui contiendra 1 dictionnaire par mot de la phrase\n",
    "        for line in phrase.splitlines():\n",
    "            if not line.startswith(\"#\"): # on ignore les lignes qui commencent par #\n",
    "                features = line.split(\"\\t\")\n",
    "                phrase_dico[\"mots\"].append(features[1])\n",
    "                phrase_dico[\"POS\"].append(features[3])\n",
    "        corpus.append(phrase_dico)\n",
    "    return corpus\n",
    "\n",
    "gsd_train = load_corpus(\"corpus-in-domain/fr_gsd-ud-train.conllu\")\n",
    "gsd_test = load_corpus(\"corpus-in-domain/fr_gsd-ud-test.conllu\")\n",
    "gsd_dev = load_corpus(\"corpus-in-domain/fr_gsd-ud-dev.conllu\")"
   ]
  },
  {
   "cell_type": "code",
   "execution_count": 2,
   "metadata": {},
   "outputs": [
    {
     "output_type": "stream",
     "name": "stdout",
     "text": [
      "---- Aperçus d'une phrase de chaque corpus-----\n\n{'mots': [\"L'\", 'œuvre', 'est', 'située', 'dans', 'la', 'galerie', 'des', 'de', 'les', 'batailles', ',', 'dans', 'le', 'château', 'de', 'Versailles', '.'], 'POS': ['DET', 'NOUN', 'AUX', 'VERB', 'ADP', 'DET', 'NOUN', '_', 'ADP', 'DET', 'NOUN', 'PUNCT', 'ADP', 'DET', 'NOUN', 'ADP', 'PROPN', 'PUNCT']}\n\n{'mots': ['Ce', 'résultat', 'provient', 'à', 'hauteur', 'de', '18,5', 'ME', 'de', 'la', 'progression', 'de', 'la', 'rentabilité', 'de', \"l'\", 'habitat', 'de', 'loisirs', 'qui', 'dégage', 'une', 'marge', 'opérationnelle', 'de', '9,5', '%', 'contre', '8,5', '%', \"l'\", 'année', 'passée', '.'], 'POS': ['DET', 'NOUN', 'VERB', 'ADP', 'NOUN', 'ADP', 'NUM', 'NOUN', 'ADP', 'DET', 'NOUN', 'ADP', 'DET', 'NOUN', 'ADP', 'DET', 'NOUN', 'ADP', 'NOUN', 'PRON', 'VERB', 'DET', 'NOUN', 'ADJ', 'ADP', 'NUM', 'SYM', 'ADP', 'NUM', 'SYM', 'DET', 'NOUN', 'ADJ', 'PUNCT']}\n\n{'mots': ['Cette', 'espèce', 'est', 'endémique', 'du', 'de', 'le', 'département', 'de', 'Nariño', 'en', 'Colombie', '.'], 'POS': ['DET', 'NOUN', 'AUX', 'ADJ', '_', 'ADP', 'DET', 'NOUN', 'ADP', 'PROPN', 'ADP', 'PROPN', 'PUNCT']}\n"
     ]
    }
   ],
   "source": [
    "print(\"---- Aperçus d'une phrase de chaque corpus-----\", end=\"\\n\\n\")\n",
    "print(gsd_train[1], end=\"\\n\\n\")\n",
    "print(gsd_test[100], end=\"\\n\\n\")\n",
    "print(gsd_dev[564])"
   ]
  },
  {
   "source": [
    "## Extraction des caractéristiques\n",
    "Pour clarifier le pipeline, nous allons ajouter à notre corpus des nouvelles entrées dans les dictionnaires de chaque phrase afin de stocker les caractéristiques suivantes :\n",
    "- mot\n",
    "- mot précédent\n",
    "- mot suivant\n",
    "- commence par une lettre majuscule\n",
    "- est numérique\n",
    "- contient des caractères non alphanumériques\n",
    "- longueur du mot"
   ],
   "cell_type": "markdown",
   "metadata": {}
  },
  {
   "cell_type": "code",
   "execution_count": 7,
   "metadata": {},
   "outputs": [
    {
     "output_type": "stream",
     "name": "stdout",
     "text": [
      "{'mots': ['Ismene', 'entre', 'et', 'annonce', 'que', \"c'\", 'est', 'Farnace', 'qui', 'a', 'mis', 'le', 'feu', 'à', 'la', 'flotte', 'romaine', '.'], 'POS': ['PROPN', 'VERB', 'CCONJ', 'VERB', 'SCONJ', 'PRON', 'AUX', 'PROPN', 'PRON', 'AUX', 'VERB', 'DET', 'NOUN', 'ADP', 'DET', 'NOUN', 'ADJ', 'PUNCT'], 'préc': ['START', 'Ismene', 'entre', 'et', 'annonce', 'que', \"c'\", 'est', 'Farnace', 'qui', 'a', 'mis', 'le', 'feu', 'à', 'la', 'flotte', 'romaine'], 'suiv': ['entre', 'et', 'annonce', 'que', \"c'\", 'est', 'Farnace', 'qui', 'a', 'mis', 'le', 'feu', 'à', 'la', 'flotte', 'romaine', '.', 'END'], 'maj': [True, False, False, False, False, False, False, True, False, False, False, False, False, False, False, False, False, False], 'nb': [False, False, False, False, False, False, False, False, False, False, False, False, False, False, False, False, False, False], 'non alphanum': [False, False, False, False, False, False, False, False, False, False, False, False, False, False, False, False, False, False], 'longueur': [6, 5, 2, 7, 3, 2, 3, 7, 3, 1, 3, 2, 3, 1, 2, 6, 7, 1]}\n"
     ]
    }
   ],
   "source": [
    "def feature_extraction(corpus):\n",
    "    \n",
    "    # clés des dictionnaires\n",
    "    mots = \"mots\"\n",
    "    pos = \"POS\"\n",
    "    mot_prec = \"préc\"\n",
    "    mot_suiv = \"suiv\"\n",
    "    maj = \"maj\"\n",
    "    num = \"nb\"\n",
    "    nonAlphanum = \"non alphanum\"\n",
    "    long = \"longueur\"\n",
    "\n",
    "    corpus_features = corpus.copy() # copie de la liste pour ne pas modifier la liste d'origine\n",
    "\n",
    "    for phrase in corpus_features: # ajout des features additionnelles\n",
    "        phrase.update({mot_prec : [], mot_suiv : [], maj : [], num : [], nonAlphanum : [], long : []})\n",
    "        for prev, word, suiv in zip([\"START\"] + phrase[\"mots\"][:-1], phrase[\"mots\"], phrase[\"mots\"][1:] + [\"END\"]):\n",
    "            # création de triplets (mot précédent, mot, mot suivant)\n",
    "            # avec \"START\" en prev pour le 1er mot\n",
    "            # et \"END\" en suiv pour le dernier\n",
    "            phrase[mot_prec].append(prev)\n",
    "            phrase[mot_suiv].append(suiv)\n",
    "            phrase[maj].append(word.istitle())\n",
    "            phrase[num].append(word.isnumeric())\n",
    "            phrase[nonAlphanum].append(not word.isalnum)\n",
    "            phrase[long].append(len(word))\n",
    "\n",
    "    return corpus_features\n",
    "\n",
    "gsd_train_features = feature_extraction(gsd_train)\n",
    "print(gsd_train_features[4], sep=\"\\n\")"
   ]
  },
  {
   "source": [
    "## Implémentation de l'algorithme de classification\n",
    "On a choisi d'implémenter la classification avec un perceptron moyenné."
   ],
   "cell_type": "markdown",
   "metadata": {}
  },
  {
   "cell_type": "code",
   "execution_count": null,
   "metadata": {},
   "outputs": [],
   "source": []
  },
  {
   "source": [
    "## Evaluation des performances sur le corpus de validation (Dev)\n",
    "Il faudra bien tester les hyper paramètres (epoch...)"
   ],
   "cell_type": "markdown",
   "metadata": {}
  },
  {
   "source": [
    "## Evaluation sur le corpus Test"
   ],
   "cell_type": "markdown",
   "metadata": {}
  },
  {
   "source": [
    "# Evaluation hors-domaine"
   ],
   "cell_type": "markdown",
   "metadata": {}
  },
  {
   "source": [
    "## Analyse de l'impact du changement de domaine\n",
    "* identifier causes de la baisse de performance : analyse de sortie, matrice de confusion, erreurs les + fréquentes\n",
    "* réfléchir à des caractéristiques plus adaptées\n",
    "* sélection d'un nouvel ensemble d'apprentissage avec des exemples représentatif (généré par un modèle de langue type TP2)"
   ],
   "cell_type": "markdown",
   "metadata": {}
  },
  {
   "source": [
    "### Corpus UGC (User-generated content)"
   ],
   "cell_type": "markdown",
   "metadata": {}
  },
  {
   "source": [
    "### Corpus littéraire"
   ],
   "cell_type": "markdown",
   "metadata": {}
  },
  {
   "source": [
    "## Développement de systèmes robutes au changement de domaine"
   ],
   "cell_type": "markdown",
   "metadata": {}
  }
 ]
}